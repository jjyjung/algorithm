{
  "nbformat": 4,
  "nbformat_minor": 0,
  "metadata": {
    "colab": {
      "provenance": [],
      "authorship_tag": "ABX9TyP7SHA3auS5ZZmLWPnoj96S",
      "include_colab_link": true
    },
    "kernelspec": {
      "name": "python3",
      "display_name": "Python 3"
    },
    "language_info": {
      "name": "python"
    }
  },
  "cells": [
    {
      "cell_type": "markdown",
      "metadata": {
        "id": "view-in-github",
        "colab_type": "text"
      },
      "source": [
        "<a href=\"https://colab.research.google.com/github/jjyjung/algorithm/blob/gh-pages/data_structure.ipynb\" target=\"_parent\"><img src=\"https://colab.research.google.com/assets/colab-badge.svg\" alt=\"Open In Colab\"/></a>"
      ]
    },
    {
      "cell_type": "markdown",
      "metadata": {
        "id": "tHU55uKlacbs"
      },
      "source": [
        "**리스트(List) => Python list**\n",
        "\n",
        "Array(배열)과 유사하지만, Python List는 배열 길이가 동적이며, 원소로 서로 다른 데이터형이나 객체들도 함께 저장할 수 있는 유연한 자료 구조"
      ]
    },
    {
      "cell_type": "code",
      "metadata": {
        "colab": {
          "base_uri": "https://localhost:8080/"
        },
        "id": "2AuQX8N2aaqU",
        "outputId": "9defffd8-a345-4268-eae5-e65bde25a300"
      },
      "source": [
        "A = [1, 2, 3, 4, 5]\n",
        "print(A)"
      ],
      "execution_count": 1,
      "outputs": [
        {
          "output_type": "stream",
          "name": "stdout",
          "text": [
            "[1, 2, 3, 4, 5]\n"
          ]
        }
      ]
    },
    {
      "cell_type": "code",
      "metadata": {
        "colab": {
          "base_uri": "https://localhost:8080/"
        },
        "id": "SRfwa7Yla0OE",
        "outputId": "0a6b01d5-7a91-4109-8fea-51212f5526e9"
      },
      "source": [
        "print(A[2])\n",
        "print(A[1:4])"
      ],
      "execution_count": 2,
      "outputs": [
        {
          "output_type": "stream",
          "name": "stdout",
          "text": [
            "3\n",
            "[2, 3, 4]\n"
          ]
        }
      ]
    },
    {
      "cell_type": "code",
      "metadata": {
        "colab": {
          "base_uri": "https://localhost:8080/"
        },
        "id": "9zCeZ9o7a536",
        "outputId": "89ed08b7-5829-4b5a-903d-b53d5e0753a0"
      },
      "source": [
        "len(A) # length"
      ],
      "execution_count": 3,
      "outputs": [
        {
          "output_type": "execute_result",
          "data": {
            "text/plain": [
              "5"
            ]
          },
          "metadata": {},
          "execution_count": 3
        }
      ]
    },
    {
      "cell_type": "code",
      "metadata": {
        "id": "CcCFpQqSa9ND",
        "colab": {
          "base_uri": "https://localhost:8080/"
        },
        "outputId": "a10cb130-b9bf-41dc-cade-921de1f3d950"
      },
      "source": [
        "A.append(9)\n",
        "A"
      ],
      "execution_count": 4,
      "outputs": [
        {
          "output_type": "execute_result",
          "data": {
            "text/plain": [
              "[1, 2, 3, 4, 5, 9]"
            ]
          },
          "metadata": {},
          "execution_count": 4
        }
      ]
    },
    {
      "cell_type": "markdown",
      "source": [
        "**스택(Stack) => Python list로 구현**"
      ],
      "metadata": {
        "id": "-iaA95Cerqa0"
      }
    },
    {
      "cell_type": "code",
      "source": [
        "stk = ['A', 'B', 'C']\n",
        "\n",
        "stk.append('D')\n",
        "print(stk)\n",
        "\n",
        "stk.append('E')\n",
        "print(stk)\n",
        "\n",
        "stk.pop()\n",
        "print(stk)"
      ],
      "metadata": {
        "colab": {
          "base_uri": "https://localhost:8080/"
        },
        "id": "xMYuITwBrTZQ",
        "outputId": "01bfe762-ff54-492a-c450-cf1799292750"
      },
      "execution_count": 5,
      "outputs": [
        {
          "output_type": "stream",
          "name": "stdout",
          "text": [
            "['A', 'B', 'C', 'D']\n",
            "['A', 'B', 'C', 'D', 'E']\n",
            "['A', 'B', 'C', 'D']\n"
          ]
        }
      ]
    },
    {
      "cell_type": "code",
      "metadata": {
        "colab": {
          "base_uri": "https://localhost:8080/"
        },
        "id": "ezJwj9UYbFWG",
        "outputId": "78d37ca3-0b16-4eca-cf14-13c6626382fd"
      },
      "source": [
        "# Stack 구조의 활용\n",
        "val = A.pop()\n",
        "print(val)\n",
        "print(A)"
      ],
      "execution_count": 6,
      "outputs": [
        {
          "output_type": "stream",
          "name": "stdout",
          "text": [
            "9\n",
            "[1, 2, 3, 4, 5]\n"
          ]
        }
      ]
    },
    {
      "cell_type": "code",
      "metadata": {
        "colab": {
          "base_uri": "https://localhost:8080/"
        },
        "id": "xXSuGs_LbLm8",
        "outputId": "f2e5859e-2066-4a11-a94c-f90be01fea9c"
      },
      "source": [
        "val = A.pop(2)\n",
        "print(val)\n",
        "print(A)"
      ],
      "execution_count": 7,
      "outputs": [
        {
          "output_type": "stream",
          "name": "stdout",
          "text": [
            "3\n",
            "[1, 2, 4, 5]\n"
          ]
        }
      ]
    },
    {
      "cell_type": "markdown",
      "source": [
        "**튜플(Tuple) => Python tuple**\n",
        "\n",
        "고정된 길이의 배열"
      ],
      "metadata": {
        "id": "LZqY9EPNkUyG"
      }
    },
    {
      "cell_type": "code",
      "source": [
        "t = (1, 2, 3)\n",
        "print(t)\n",
        "print(t[1])\n",
        "print(t[0:2])\n",
        "print(t[-1])"
      ],
      "metadata": {
        "colab": {
          "base_uri": "https://localhost:8080/"
        },
        "id": "2ScSE8Z0jTlQ",
        "outputId": "4ac7e280-b5b3-4ae2-f25c-7287eb3ff53a"
      },
      "execution_count": 8,
      "outputs": [
        {
          "output_type": "stream",
          "name": "stdout",
          "text": [
            "(1, 2, 3)\n",
            "2\n",
            "(1, 2)\n",
            "3\n"
          ]
        }
      ]
    },
    {
      "cell_type": "code",
      "source": [
        "t1 = (7, \"Jung\")\n",
        "id, name = t1\n",
        "print(id, name)"
      ],
      "metadata": {
        "colab": {
          "base_uri": "https://localhost:8080/"
        },
        "id": "HSRzM1FEkISx",
        "outputId": "cbad12d0-97bc-4676-e498-39e665f1eab1"
      },
      "execution_count": 9,
      "outputs": [
        {
          "output_type": "stream",
          "name": "stdout",
          "text": [
            "7 Jung\n"
          ]
        }
      ]
    },
    {
      "cell_type": "code",
      "source": [
        "t2 = (12, \"Kim\")\n",
        "t3 = t1 + t2\n",
        "print(t3)"
      ],
      "metadata": {
        "colab": {
          "base_uri": "https://localhost:8080/"
        },
        "id": "dKcHgZW-j28D",
        "outputId": "b0dfd2fd-39fe-46f3-c118-0de738f3234a"
      },
      "execution_count": 10,
      "outputs": [
        {
          "output_type": "stream",
          "name": "stdout",
          "text": [
            "(7, 'Jung', 12, 'Kim')\n"
          ]
        }
      ]
    },
    {
      "cell_type": "markdown",
      "metadata": {
        "id": "ELuiWnQ6cDPs"
      },
      "source": [
        "**스택(Stack) => Python list 또는 queue.LifoQueue**"
      ]
    },
    {
      "cell_type": "code",
      "metadata": {
        "id": "SslSwKMPcJI0"
      },
      "source": [
        "S = ['A', 'B', 'C']"
      ],
      "execution_count": 11,
      "outputs": []
    },
    {
      "cell_type": "code",
      "metadata": {
        "colab": {
          "base_uri": "https://localhost:8080/"
        },
        "id": "1DIAwqL8cR0J",
        "outputId": "a911794a-3c2b-4b9d-945a-e174a452f27c"
      },
      "source": [
        "S.append('D')\n",
        "S.append('E')\n",
        "S"
      ],
      "execution_count": 12,
      "outputs": [
        {
          "output_type": "execute_result",
          "data": {
            "text/plain": [
              "['A', 'B', 'C', 'D', 'E']"
            ]
          },
          "metadata": {},
          "execution_count": 12
        }
      ]
    },
    {
      "cell_type": "code",
      "metadata": {
        "colab": {
          "base_uri": "https://localhost:8080/"
        },
        "id": "ve64aUjscU7D",
        "outputId": "036459c4-2234-4509-8a8c-52818a608b05"
      },
      "source": [
        "S.pop()\n",
        "S"
      ],
      "execution_count": 13,
      "outputs": [
        {
          "output_type": "execute_result",
          "data": {
            "text/plain": [
              "['A', 'B', 'C', 'D']"
            ]
          },
          "metadata": {},
          "execution_count": 13
        }
      ]
    },
    {
      "cell_type": "markdown",
      "metadata": {
        "id": "w_c4DgQodCeX"
      },
      "source": [
        "**큐(Queue) => queue.Queue**"
      ]
    },
    {
      "cell_type": "code",
      "metadata": {
        "id": "87IGo5Z1dFdU"
      },
      "source": [
        "import queue\n",
        "Q = queue.Queue(maxsize=10)"
      ],
      "execution_count": 14,
      "outputs": []
    },
    {
      "cell_type": "code",
      "metadata": {
        "colab": {
          "base_uri": "https://localhost:8080/"
        },
        "id": "vUsO6N2HdMrV",
        "outputId": "6218e9d7-97f7-4b2f-f895-5bd6f2776ee6"
      },
      "source": [
        "Q.put(20)  # enqueue\n",
        "Q.put(21)\n",
        "Q.put(22)\n",
        "Q.put(23)\n",
        "print(list(Q.queue))\n",
        "val = Q.get()  # dequeue\n",
        "print(val, list(Q.queue))\n",
        "val = Q.get()  # dequeue\n",
        "print(val, list(Q.queue))"
      ],
      "execution_count": 15,
      "outputs": [
        {
          "output_type": "stream",
          "name": "stdout",
          "text": [
            "[20, 21, 22, 23]\n",
            "20 [21, 22, 23]\n",
            "21 [22, 23]\n"
          ]
        }
      ]
    },
    {
      "cell_type": "code",
      "source": [
        "for i in Q.queue: # Queue 내의 값들을 출력하기\n",
        "  print(i)"
      ],
      "metadata": {
        "colab": {
          "base_uri": "https://localhost:8080/"
        },
        "id": "MDQ0fxQyDZjv",
        "outputId": "3b71a721-8d72-46ac-ee69-79f863c319f6"
      },
      "execution_count": 16,
      "outputs": [
        {
          "output_type": "stream",
          "name": "stdout",
          "text": [
            "22\n",
            "23\n"
          ]
        }
      ]
    },
    {
      "cell_type": "code",
      "source": [
        "print(\"size:\", Q.qsize())\n",
        "\n",
        "while not Q.empty():\n",
        "  num = Q.get()\n",
        "  print(num)\n",
        "\n",
        "print(\"size:\", Q.qsize())"
      ],
      "metadata": {
        "colab": {
          "base_uri": "https://localhost:8080/"
        },
        "id": "akm0J3UTYM77",
        "outputId": "8a0b9e9a-24b8-48ad-e9a6-457a3e82d851"
      },
      "execution_count": 17,
      "outputs": [
        {
          "output_type": "stream",
          "name": "stdout",
          "text": [
            "size: 2\n",
            "22\n",
            "23\n",
            "size: 0\n"
          ]
        }
      ]
    },
    {
      "cell_type": "code",
      "metadata": {
        "colab": {
          "base_uri": "https://localhost:8080/"
        },
        "id": "b5s6DAdydkys",
        "outputId": "a30f6a01-0046-406d-9196-62a63eaa0c03"
      },
      "source": [
        "S = queue.LifoQueue(maxsize=10)\n",
        "\n",
        "S.put(30)\n",
        "S.put(31)\n",
        "S.put(32)\n",
        "S.put(33)\n",
        "print(list(S.queue))\n",
        "\n",
        "val = S.get()\n",
        "print(val, list(S.queue))\n",
        "val = S.get()\n",
        "print(val, list(S.queue))\n",
        "val = S.get()\n",
        "print(val, list(S.queue))"
      ],
      "execution_count": 18,
      "outputs": [
        {
          "output_type": "stream",
          "name": "stdout",
          "text": [
            "[30, 31, 32, 33]\n",
            "33 [30, 31, 32]\n",
            "32 [30, 31]\n",
            "31 [30]\n"
          ]
        }
      ]
    },
    {
      "cell_type": "code",
      "source": [
        "P = queue.PriorityQueue(maxsize=10)\n",
        "P.put(32)\n",
        "P.put(30)\n",
        "P.put(33)\n",
        "P.put(31)\n",
        "print(list(P.queue))\n",
        "\n",
        "val = P.get()\n",
        "print(val, list(P.queue))\n",
        "val = P.get()\n",
        "print(val, list(P.queue))\n",
        "val = P.get()\n",
        "print(val, list(P.queue))\n",
        "val = P.get()\n",
        "print(val, list(P.queue))"
      ],
      "metadata": {
        "colab": {
          "base_uri": "https://localhost:8080/"
        },
        "id": "1gtFqSi_wQOr",
        "outputId": "d3b2a59e-9664-4862-fecc-77aa0b413b58"
      },
      "execution_count": 19,
      "outputs": [
        {
          "output_type": "stream",
          "name": "stdout",
          "text": [
            "[30, 31, 33, 32]\n",
            "30 [31, 32, 33]\n",
            "31 [32, 33]\n",
            "32 [33]\n",
            "33 []\n"
          ]
        }
      ]
    },
    {
      "cell_type": "markdown",
      "metadata": {
        "id": "qCCbdN21ehPa"
      },
      "source": [
        "**집합(Set) => Python set**"
      ]
    },
    {
      "cell_type": "code",
      "source": [
        "s1 = {1,2,3}\n",
        "s2 = {2,3,4,5}\n",
        "s2.add(6)\n",
        "print(s2)\n",
        "s2.add(3)\n",
        "print(s2)"
      ],
      "metadata": {
        "id": "fc5SEgYB5wUH",
        "outputId": "832b25e1-ddb0-4dc1-9460-723e94d070a4",
        "colab": {
          "base_uri": "https://localhost:8080/"
        }
      },
      "execution_count": 20,
      "outputs": [
        {
          "output_type": "stream",
          "name": "stdout",
          "text": [
            "{2, 3, 4, 5, 6}\n",
            "{2, 3, 4, 5, 6}\n"
          ]
        }
      ]
    },
    {
      "cell_type": "code",
      "metadata": {
        "id": "KRj-k2lceg5J",
        "colab": {
          "base_uri": "https://localhost:8080/"
        },
        "outputId": "18b3435e-f1b5-4435-e221-42682ee6b837"
      },
      "source": [
        "s3 = s1.union(s2)  # 합집합\n",
        "print(s3)\n",
        "\n",
        "s4 = s1.intersection(s2) # 교집합\n",
        "print(s4)\n",
        "\n",
        "s5 = s1 - s2  # 차집합\n",
        "print(s5)"
      ],
      "execution_count": 21,
      "outputs": [
        {
          "output_type": "stream",
          "name": "stdout",
          "text": [
            "{1, 2, 3, 4, 5, 6}\n",
            "{2, 3}\n",
            "{1}\n"
          ]
        }
      ]
    },
    {
      "cell_type": "markdown",
      "metadata": {
        "id": "fivXRDUqfKt5"
      },
      "source": [
        "**맵(Map) 또는 딕셔너리(Dictionary) => Python dictionary**"
      ]
    },
    {
      "cell_type": "code",
      "metadata": {
        "id": "5xV_eAK3fJ-a"
      },
      "source": [
        "dict = { '김연아':'피겨', '류현진':'야구', '쿠드롱':'당구', '메시':'축구' }"
      ],
      "execution_count": 22,
      "outputs": []
    },
    {
      "cell_type": "code",
      "metadata": {
        "colab": {
          "base_uri": "https://localhost:8080/"
        },
        "id": "98rtLePEfQ3b",
        "outputId": "40e3a21e-08e6-4881-9e67-c4e84b25373d"
      },
      "source": [
        "print(dict)"
      ],
      "execution_count": 23,
      "outputs": [
        {
          "output_type": "stream",
          "name": "stdout",
          "text": [
            "{'김연아': '피겨', '류현진': '야구', '쿠드롱': '당구', '메시': '축구'}\n"
          ]
        }
      ]
    },
    {
      "cell_type": "code",
      "metadata": {
        "colab": {
          "base_uri": "https://localhost:8080/"
        },
        "id": "r3baIbUafSZs",
        "outputId": "0134246e-21e2-40ab-8e79-757c1f8d3abf"
      },
      "source": [
        "print(\"쿠드롱은\", dict['쿠드롱'])"
      ],
      "execution_count": 24,
      "outputs": [
        {
          "output_type": "stream",
          "name": "stdout",
          "text": [
            "쿠드롱은 당구\n"
          ]
        }
      ]
    },
    {
      "cell_type": "code",
      "metadata": {
        "id": "omOGRwn3fe1V",
        "colab": {
          "base_uri": "https://localhost:8080/"
        },
        "outputId": "f62751fb-36fe-4cdf-a7de-7a8441220d77"
      },
      "source": [
        "dict['정재윤'] = '교수'\n",
        "dict"
      ],
      "execution_count": 25,
      "outputs": [
        {
          "output_type": "execute_result",
          "data": {
            "text/plain": [
              "{'김연아': '피겨', '류현진': '야구', '쿠드롱': '당구', '메시': '축구', '정재윤': '교수'}"
            ]
          },
          "metadata": {},
          "execution_count": 25
        }
      ]
    },
    {
      "cell_type": "code",
      "source": [
        "del dict['정재윤']\n",
        "dict"
      ],
      "metadata": {
        "colab": {
          "base_uri": "https://localhost:8080/"
        },
        "id": "YW6HY85WynOV",
        "outputId": "302b9bff-2733-453d-900a-343a16294c93"
      },
      "execution_count": 26,
      "outputs": [
        {
          "output_type": "execute_result",
          "data": {
            "text/plain": [
              "{'김연아': '피겨', '류현진': '야구', '쿠드롱': '당구', '메시': '축구'}"
            ]
          },
          "metadata": {},
          "execution_count": 26
        }
      ]
    },
    {
      "cell_type": "code",
      "metadata": {
        "colab": {
          "base_uri": "https://localhost:8080/"
        },
        "id": "XQghd6a_foja",
        "outputId": "434a37a6-a33c-48ed-9652-35e6f2c195bb"
      },
      "source": [
        "key = '메시'\n",
        "if key in dict:\n",
        "  print(key, dict[key])\n",
        "else:\n",
        "  print(key, '이 dict에 존재하지 않습니다')"
      ],
      "execution_count": 27,
      "outputs": [
        {
          "output_type": "stream",
          "name": "stdout",
          "text": [
            "메시 축구\n"
          ]
        }
      ]
    },
    {
      "cell_type": "code",
      "source": [
        "gene = ['A', 'T', 'G', 'C', 'G', 'C', 'T', 'C']\n",
        "# gene_str = 'ATGCGCTC'\n",
        "dic = {}\n",
        "\n",
        "for g in gene:\n",
        "  pass\n",
        "  # if g가 존재하지 않으면\n",
        "    # g를 dic에 새롭게 추가하시오. 'A':1\n",
        "  # else:\n",
        "    # count = dic[g]\n",
        "    # 1을 더하여서 다시 dict에 넣으시오. 'A':2\n",
        "\n",
        "dic = {'A':1, 'T':2, 'G':2, 'C':3}"
      ],
      "metadata": {
        "id": "gW-RKRPeFyjO"
      },
      "execution_count": 28,
      "outputs": []
    },
    {
      "cell_type": "markdown",
      "source": [
        "**그래프(Graph) => Python 직접 구현**"
      ],
      "metadata": {
        "id": "iMhIrZj1obW8"
      }
    },
    {
      "cell_type": "markdown",
      "source": [
        "![image.png](data:image/png;base64,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)"
      ],
      "metadata": {
        "id": "KUDbt59q0Q6r"
      }
    },
    {
      "cell_type": "code",
      "source": [
        "V = ['A', 'B', 'C', 'D', 'E']\n",
        "E = [({'A','B'},13), ({'A','C'},10), ({'B','D'},25), ({'B','E'},18), ({'C','D'},27), ({'D','E'},34)]  #무방향 그래프\n",
        "# E = [('A','B',13), ('A','C',10), ('B','D',25), ('B','E',18), ('C','D',27)] # 방향성 그래프\n",
        "\n",
        "for v in V:\n",
        "  print(v, end=\",\")"
      ],
      "metadata": {
        "colab": {
          "base_uri": "https://localhost:8080/"
        },
        "id": "TWnCuYuEmnyw",
        "outputId": "20e7b42b-b8a0-4e54-d206-6e195e3a15f5"
      },
      "execution_count": 29,
      "outputs": [
        {
          "output_type": "stream",
          "name": "stdout",
          "text": [
            "A,B,C,D,E,"
          ]
        }
      ]
    },
    {
      "cell_type": "code",
      "source": [
        "G = {'A': {'B', 'C'},\n",
        "     'B': {'A', 'D', 'E'},\n",
        "     'C': {'A', 'D'},\n",
        "     'D': {'B', 'C', 'E'},\n",
        "     'E': {'B', 'D'}\n",
        "     }\n",
        "wG = {'A': {'B':13, 'C':10},\n",
        "     'B': {'A':13, 'D':25, 'E':18},\n",
        "     'C': {'A':10, 'D':27},\n",
        "     'D': {'B':25, 'C':27, 'E':34},\n",
        "     'E': {'B':18, 'D':34}\n",
        "     }"
      ],
      "metadata": {
        "id": "Mn2JMGVF1S0e"
      },
      "execution_count": 30,
      "outputs": []
    },
    {
      "cell_type": "markdown",
      "metadata": {
        "id": "MOig2r-_l7q2"
      },
      "source": [
        "![image.png](data:image/png;base64,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)"
      ]
    },
    {
      "cell_type": "code",
      "metadata": {
        "id": "TPVb8T5Dq-BC"
      },
      "source": [
        "mygraph = { \"A\" : {\"B\", \"C\", \"D\"},\n",
        "            \"B\" : {\"A\", \"D\"},\n",
        "            \"C\" : {\"A\", \"D\", \"F\", \"G\"},\n",
        "            \"D\" : {\"A\", \"B\", \"C\", \"E\"},\n",
        "            \"E\" : {\"D\"},\n",
        "            \"F\" : {\"C\", \"G\", \"H\"},\n",
        "            \"G\" : {\"C\", \"F\", \"H\"},\n",
        "            \"H\" : {\"F\", \"G\"}\n",
        "          }"
      ],
      "execution_count": 31,
      "outputs": []
    },
    {
      "cell_type": "code",
      "source": [
        "mygraph['A']"
      ],
      "metadata": {
        "colab": {
          "base_uri": "https://localhost:8080/"
        },
        "id": "xTQ-c9wT2Q1O",
        "outputId": "c275bd38-9c27-49ed-de47-70330dd14bfb"
      },
      "execution_count": 32,
      "outputs": [
        {
          "output_type": "execute_result",
          "data": {
            "text/plain": [
              "{'B', 'C', 'D'}"
            ]
          },
          "metadata": {},
          "execution_count": 32
        }
      ]
    },
    {
      "cell_type": "code",
      "source": [
        "len(mygraph['A'])"
      ],
      "metadata": {
        "colab": {
          "base_uri": "https://localhost:8080/"
        },
        "id": "wJyg4qCg2U6v",
        "outputId": "e6a776f3-75e2-4946-c63e-d34141717b50"
      },
      "execution_count": 33,
      "outputs": [
        {
          "output_type": "execute_result",
          "data": {
            "text/plain": [
              "3"
            ]
          },
          "metadata": {},
          "execution_count": 33
        }
      ]
    },
    {
      "cell_type": "code",
      "source": [
        "path = ['C', 'D', 'E']\n",
        "len(path) - 1"
      ],
      "metadata": {
        "colab": {
          "base_uri": "https://localhost:8080/"
        },
        "id": "IHK7wHTD2bpn",
        "outputId": "a9d46a42-e9b3-43f9-8186-0dc018bbdcef"
      },
      "execution_count": 34,
      "outputs": [
        {
          "output_type": "execute_result",
          "data": {
            "text/plain": [
              "2"
            ]
          },
          "metadata": {},
          "execution_count": 34
        }
      ]
    },
    {
      "cell_type": "code",
      "source": [],
      "metadata": {
        "id": "QqsqIbKa2wce"
      },
      "execution_count": 34,
      "outputs": []
    }
  ]
}