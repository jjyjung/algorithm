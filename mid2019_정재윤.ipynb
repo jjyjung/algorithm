{
  "cells": [
    {
      "cell_type": "markdown",
      "metadata": {
        "id": "view-in-github",
        "colab_type": "text"
      },
      "source": [
        "<a href=\"https://colab.research.google.com/github/jjyjung/algorithm/blob/gh-pages/mid2019_%EC%A0%95%EC%9E%AC%EC%9C%A4.ipynb\" target=\"_parent\"><img src=\"https://colab.research.google.com/assets/colab-badge.svg\" alt=\"Open In Colab\"/></a>"
      ]
    },
    {
      "cell_type": "markdown",
      "id": "57b0c7af",
      "metadata": {
        "id": "57b0c7af"
      },
      "source": [
        "정재윤(20201111)"
      ]
    },
    {
      "cell_type": "markdown",
      "id": "daf526a2",
      "metadata": {
        "id": "daf526a2"
      },
      "source": [
        "**1번.**"
      ]
    },
    {
      "cell_type": "markdown",
      "source": [
        "주어진 양식"
      ],
      "metadata": {
        "id": "wyZYXrm4GZ-u"
      },
      "id": "wyZYXrm4GZ-u"
    },
    {
      "cell_type": "code",
      "execution_count": null,
      "id": "3dcade18",
      "metadata": {
        "id": "3dcade18",
        "outputId": "fce53ca8-6d64-4712-fdbc-6d954736a8af"
      },
      "outputs": [
        {
          "name": "stdout",
          "output_type": "stream",
          "text": [
            "1\n",
            "2\n"
          ]
        },
        {
          "data": {
            "text/plain": [
              "-2.775"
            ]
          },
          "execution_count": 15,
          "metadata": {},
          "output_type": "execute_result"
        }
      ],
      "source": [
        "x1 = int(input())   # <- 하나씩 사용자에게 입력받는 방법\n",
        "x2 = int(input())   # <- 하나씩 사용자에게 입력받는 방법\n",
        "\n",
        "# 구현하시오.\n",
        "\n",
        "print(round(y, 3))"
      ]
    },
    {
      "cell_type": "markdown",
      "source": [
        "풀이 결과"
      ],
      "metadata": {
        "id": "Jfm3_E4QGiEG"
      },
      "id": "Jfm3_E4QGiEG"
    },
    {
      "cell_type": "code",
      "source": [
        "import math\n",
        "import numpy as np\n",
        "\n",
        "x1 = int(input())   # <- 하나씩 사용자에게 입력받는 방법\n",
        "x2 = int(input())   # <- 하나씩 사용자에게 입력받는 방법\n",
        "\n",
        "t1 = -1*(x1+2)**2 -1*(x2-2)**2\n",
        "t2 = -1*(x1-2)**2 -1*(x2+2)**2\n",
        "y = (10**5) * math.cos(x1) * math.cos(x2) * (np.exp(t1) + 0.5*np.exp(t2))\n",
        "\n",
        "print(round(y, 3))"
      ],
      "metadata": {
        "id": "u4MA_6Z4GAOE",
        "outputId": "92cead79-cc02-4e5b-8bb2-f83fac2be7b5",
        "colab": {
          "base_uri": "https://localhost:8080/"
        }
      },
      "id": "u4MA_6Z4GAOE",
      "execution_count": null,
      "outputs": [
        {
          "output_type": "stream",
          "name": "stdout",
          "text": [
            "1\n",
            "2\n",
            "-2.775\n"
          ]
        }
      ]
    },
    {
      "cell_type": "markdown",
      "id": "668f8a71",
      "metadata": {
        "id": "668f8a71"
      },
      "source": [
        "**2번.**"
      ]
    },
    {
      "cell_type": "markdown",
      "source": [
        "주어진 양식"
      ],
      "metadata": {
        "id": "3dAT2g5WGs76"
      },
      "id": "3dAT2g5WGs76"
    },
    {
      "cell_type": "code",
      "execution_count": null,
      "id": "ed7f4287",
      "metadata": {
        "id": "ed7f4287",
        "outputId": "918203ee-ed0b-4582-a0cc-39146c66902d"
      },
      "outputs": [
        {
          "name": "stdout",
          "output_type": "stream",
          "text": [
            "1\n",
            "2\n"
          ]
        },
        {
          "data": {
            "text/plain": [
              "67.243"
            ]
          },
          "execution_count": 21,
          "metadata": {},
          "output_type": "execute_result"
        }
      ],
      "source": [
        "N = int(input())\n",
        "K = int(input())\n",
        "\n",
        "# 구현하시오.\n",
        "\n",
        "print(round(S, 3))"
      ]
    },
    {
      "cell_type": "markdown",
      "source": [
        "풀이 결과"
      ],
      "metadata": {
        "id": "mGQxpkfnGvEh"
      },
      "id": "mGQxpkfnGvEh"
    },
    {
      "cell_type": "code",
      "source": [
        "N = int(input())\n",
        "K = int(input())\n",
        "\n",
        "S = 1\n",
        "for n in range(1, N+1):\n",
        "    T = 0\n",
        "    for k in range(1, K+1):\n",
        "        T = T + (4*k*k + k**0.5)\n",
        "    S = S * 3/n * T\n",
        "S = round(S, 3)\n",
        "\n",
        "print(round(S, 3))"
      ],
      "metadata": {
        "id": "TrQ6KgAAGxiX",
        "outputId": "1725f245-16c6-4ef0-bf52-88c836413d49",
        "colab": {
          "base_uri": "https://localhost:8080/"
        }
      },
      "id": "TrQ6KgAAGxiX",
      "execution_count": null,
      "outputs": [
        {
          "name": "stdout",
          "output_type": "stream",
          "text": [
            "1\n",
            "2\n"
          ]
        },
        {
          "output_type": "execute_result",
          "data": {
            "text/plain": [
              "67.243"
            ]
          },
          "metadata": {},
          "execution_count": 2
        }
      ]
    },
    {
      "cell_type": "markdown",
      "id": "4fc53ab9",
      "metadata": {
        "id": "4fc53ab9"
      },
      "source": [
        "**bubbleSort 출제 예시**"
      ]
    },
    {
      "cell_type": "markdown",
      "source": [
        "주어진 양식"
      ],
      "metadata": {
        "id": "upQD8yL9HReU"
      },
      "id": "upQD8yL9HReU"
    },
    {
      "cell_type": "code",
      "execution_count": null,
      "id": "c614b73c",
      "metadata": {
        "id": "c614b73c",
        "outputId": "500fce07-3e58-4ef5-d434-f0fe1cb0f51b",
        "colab": {
          "base_uri": "https://localhost:8080/"
        }
      },
      "outputs": [
        {
          "output_type": "stream",
          "name": "stdout",
          "text": [
            "31,3,65,73,8,11,20,29,48,15\n",
            "[31, 3, 65, 73, 8, 11, 20, 29, 48, 15]\n"
          ]
        },
        {
          "output_type": "execute_result",
          "data": {
            "text/plain": [
              "[3, 8, 11, 15, 20, 29, 31, 48, 65, 73]"
            ]
          },
          "metadata": {},
          "execution_count": 1
        }
      ],
      "source": [
        "def selectionSort(A):\n",
        "  n = len(A)\n",
        "\n",
        "  # 구현하시오.\n",
        "\n",
        "  return A  #최종결과 반환용\n",
        "\n",
        "def theLargest(A, last):\n",
        "\n",
        "  # 구현하시오.\n",
        "\n",
        "  return largest\n",
        "\n",
        "A = list(map(int,input().split(',')))    # <- 리스트를 사용자에게 입력받는 방법 (예. 31,3,65,73,8,11,20,29,48,15)\n",
        "print(A)\n",
        "selectionSort(A)"
      ]
    },
    {
      "cell_type": "markdown",
      "source": [
        "풀이 결과"
      ],
      "metadata": {
        "id": "v9oobfIZHT0M"
      },
      "id": "v9oobfIZHT0M"
    },
    {
      "cell_type": "code",
      "source": [
        "def selectionSort(A):\n",
        "  n = len(A)\n",
        "  for last in range(n-1,0,-1):\n",
        "    k = theLargest(A, last)\n",
        "    A[k], A[last] = A[last], A[k]  # 파이썬의 값 교환 코드!!\n",
        "#     print(last, \":\", A)  # 회차별 결과 확인용\n",
        "  return A  #최종결과 반환용\n",
        "\n",
        "def theLargest(A, last):\n",
        "  largest = 0\n",
        "  for i in range(1, last+1):\n",
        "    if A[i] > A[largest]:\n",
        "      largest = i\n",
        "  return largest\n",
        "\n",
        "A = list(map(int,input().split(',')))    # <- 리스트를 사용자에게 입력받는 방법 (예. 31,3,65,73,8,11,20,29,48,15)\n",
        "print(A)\n",
        "selectionSort(A)"
      ],
      "metadata": {
        "id": "2IiSv2BaDo6D",
        "outputId": "a9623632-1f27-4d8b-bc97-faf65d77d3c9",
        "colab": {
          "base_uri": "https://localhost:8080/"
        }
      },
      "id": "2IiSv2BaDo6D",
      "execution_count": null,
      "outputs": [
        {
          "output_type": "stream",
          "name": "stdout",
          "text": [
            "31,3,65,73,8,11,20,29,48,15\n",
            "[31, 3, 65, 73, 8, 11, 20, 29, 48, 15]\n"
          ]
        },
        {
          "output_type": "execute_result",
          "data": {
            "text/plain": [
              "[3, 8, 11, 15, 20, 29, 31, 48, 65, 73]"
            ]
          },
          "metadata": {},
          "execution_count": 3
        }
      ]
    },
    {
      "cell_type": "code",
      "source": [],
      "metadata": {
        "id": "6LuvE__LHoif"
      },
      "id": "6LuvE__LHoif",
      "execution_count": null,
      "outputs": []
    }
  ],
  "metadata": {
    "kernelspec": {
      "display_name": "Python 3",
      "language": "python",
      "name": "python3"
    },
    "language_info": {
      "codemirror_mode": {
        "name": "ipython",
        "version": 3
      },
      "file_extension": ".py",
      "mimetype": "text/x-python",
      "name": "python",
      "nbconvert_exporter": "python",
      "pygments_lexer": "ipython3",
      "version": "3.8.8"
    },
    "colab": {
      "provenance": [],
      "include_colab_link": true
    }
  },
  "nbformat": 4,
  "nbformat_minor": 5
}