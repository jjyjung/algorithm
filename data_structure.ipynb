{
  "nbformat": 4,
  "nbformat_minor": 0,
  "metadata": {
    "colab": {
      "name": "data_structure.ipynb",
      "provenance": [],
      "collapsed_sections": [],
      "authorship_tag": "ABX9TyOyyMYEtLW1uI3t++O273Yo",
      "include_colab_link": true
    },
    "kernelspec": {
      "name": "python3",
      "display_name": "Python 3"
    },
    "language_info": {
      "name": "python"
    }
  },
  "cells": [
    {
      "cell_type": "markdown",
      "metadata": {
        "id": "view-in-github",
        "colab_type": "text"
      },
      "source": [
        "<a href=\"https://colab.research.google.com/github/jjyjung/algorithm/blob/gh-pages/data_structure.ipynb\" target=\"_parent\"><img src=\"https://colab.research.google.com/assets/colab-badge.svg\" alt=\"Open In Colab\"/></a>"
      ]
    },
    {
      "cell_type": "markdown",
      "metadata": {
        "id": "tHU55uKlacbs"
      },
      "source": [
        "**리스트(List) => Python list**"
      ]
    },
    {
      "cell_type": "code",
      "metadata": {
        "colab": {
          "base_uri": "https://localhost:8080/"
        },
        "id": "2AuQX8N2aaqU",
        "outputId": "2658aafa-6aac-436d-ce98-3c8a0d5a984b"
      },
      "source": [
        "A = [1, 2, 3, 4, 5]\n",
        "print(A)"
      ],
      "execution_count": null,
      "outputs": [
        {
          "output_type": "stream",
          "name": "stdout",
          "text": [
            "[1, 2, 3, 4, 5]\n"
          ]
        }
      ]
    },
    {
      "cell_type": "code",
      "metadata": {
        "colab": {
          "base_uri": "https://localhost:8080/"
        },
        "id": "SRfwa7Yla0OE",
        "outputId": "f0ec6f57-641a-465a-97be-815f36912a46"
      },
      "source": [
        "A[2]"
      ],
      "execution_count": null,
      "outputs": [
        {
          "output_type": "execute_result",
          "data": {
            "text/plain": [
              "3"
            ]
          },
          "metadata": {},
          "execution_count": 2
        }
      ]
    },
    {
      "cell_type": "code",
      "metadata": {
        "colab": {
          "base_uri": "https://localhost:8080/"
        },
        "id": "9zCeZ9o7a536",
        "outputId": "c2271994-b8df-450d-9b74-ec426470e8ee"
      },
      "source": [
        "len(A)"
      ],
      "execution_count": null,
      "outputs": [
        {
          "output_type": "execute_result",
          "data": {
            "text/plain": [
              "5"
            ]
          },
          "metadata": {},
          "execution_count": 3
        }
      ]
    },
    {
      "cell_type": "code",
      "metadata": {
        "id": "CcCFpQqSa9ND"
      },
      "source": [
        "A.append(9)\n",
        "A"
      ],
      "execution_count": null,
      "outputs": []
    },
    {
      "cell_type": "code",
      "metadata": {
        "colab": {
          "base_uri": "https://localhost:8080/"
        },
        "id": "ezJwj9UYbFWG",
        "outputId": "5ee1192c-6e57-4c4c-f76f-14e616c5b9d6"
      },
      "source": [
        "val = A.pop()\n",
        "print(val)\n",
        "print(A)"
      ],
      "execution_count": null,
      "outputs": [
        {
          "output_type": "stream",
          "name": "stdout",
          "text": [
            "9 [1, 2, 3, 4, 5]\n"
          ]
        }
      ]
    },
    {
      "cell_type": "code",
      "metadata": {
        "colab": {
          "base_uri": "https://localhost:8080/"
        },
        "id": "xXSuGs_LbLm8",
        "outputId": "b02de9ec-a120-4fa0-f3e0-bc8824d1a912"
      },
      "source": [
        "val = A.pop(2)\n",
        "print(val)\n",
        "print(A)"
      ],
      "execution_count": null,
      "outputs": [
        {
          "output_type": "stream",
          "name": "stdout",
          "text": [
            "3\n",
            "[1, 2, 4, 5]\n"
          ]
        }
      ]
    },
    {
      "cell_type": "markdown",
      "metadata": {
        "id": "ELuiWnQ6cDPs"
      },
      "source": [
        "**스택(Stack) => Python list 또는 queue.LifoQueue**"
      ]
    },
    {
      "cell_type": "code",
      "metadata": {
        "id": "SslSwKMPcJI0"
      },
      "source": [
        "S = ['A', 'B', 'C']"
      ],
      "execution_count": null,
      "outputs": []
    },
    {
      "cell_type": "code",
      "metadata": {
        "colab": {
          "base_uri": "https://localhost:8080/"
        },
        "id": "1DIAwqL8cR0J",
        "outputId": "5c723f1b-0d8e-4a3b-ec68-a232990a8c4d"
      },
      "source": [
        "S.append('D')\n",
        "S.append('E')\n",
        "S"
      ],
      "execution_count": null,
      "outputs": [
        {
          "output_type": "execute_result",
          "data": {
            "text/plain": [
              "['A', 'B', 'C', 'D', 'E']"
            ]
          },
          "metadata": {},
          "execution_count": 19
        }
      ]
    },
    {
      "cell_type": "code",
      "metadata": {
        "colab": {
          "base_uri": "https://localhost:8080/"
        },
        "id": "ve64aUjscU7D",
        "outputId": "b07e7943-ee86-4d4e-843e-a074dde06d9f"
      },
      "source": [
        "S.pop()\n",
        "S"
      ],
      "execution_count": null,
      "outputs": [
        {
          "output_type": "execute_result",
          "data": {
            "text/plain": [
              "['A', 'B', 'C', 'D']"
            ]
          },
          "metadata": {},
          "execution_count": 20
        }
      ]
    },
    {
      "cell_type": "code",
      "metadata": {
        "id": "zjlneq1AcdKi"
      },
      "source": [
        ""
      ],
      "execution_count": null,
      "outputs": []
    },
    {
      "cell_type": "markdown",
      "metadata": {
        "id": "w_c4DgQodCeX"
      },
      "source": [
        "**큐(Queue) => queue.Queue**"
      ]
    },
    {
      "cell_type": "code",
      "metadata": {
        "id": "87IGo5Z1dFdU"
      },
      "source": [
        "import queue\n",
        "Q = queue.Queue(maxsize=20)\n",
        "S = queue.LifoQueue(maxsize=20)"
      ],
      "execution_count": null,
      "outputs": []
    },
    {
      "cell_type": "code",
      "metadata": {
        "colab": {
          "base_uri": "https://localhost:8080/"
        },
        "id": "vUsO6N2HdMrV",
        "outputId": "57b2a65d-1677-4a5a-cf08-a5aab97db188"
      },
      "source": [
        "Q.put(20)\n",
        "Q.put(21)\n",
        "Q.put(22)\n",
        "Q.put(23)\n",
        "val = Q.get()\n",
        "val"
      ],
      "execution_count": null,
      "outputs": [
        {
          "output_type": "execute_result",
          "data": {
            "text/plain": [
              "20"
            ]
          },
          "metadata": {},
          "execution_count": 27
        }
      ]
    },
    {
      "cell_type": "code",
      "metadata": {
        "colab": {
          "base_uri": "https://localhost:8080/"
        },
        "id": "b5s6DAdydkys",
        "outputId": "59ed6156-b4af-4064-e98d-0a114bf1e5e7"
      },
      "source": [
        "S.put(30)\n",
        "S.put(31)\n",
        "S.put(32)\n",
        "S.put(33)\n",
        "val = S.get()\n",
        "print(val)"
      ],
      "execution_count": null,
      "outputs": [
        {
          "output_type": "stream",
          "name": "stdout",
          "text": [
            "33\n"
          ]
        }
      ]
    },
    {
      "cell_type": "markdown",
      "metadata": {
        "id": "qCCbdN21ehPa"
      },
      "source": [
        "**집합(Set) => Python set**"
      ]
    },
    {
      "cell_type": "code",
      "metadata": {
        "id": "KRj-k2lceg5J"
      },
      "source": [
        "s1 = {1,2,3}\n",
        "s2 = {2,3,4,5}\n",
        "s3 = s1.union(s2)  # 합집합\n",
        "s4 = s1.intersection(s2) # 교집합\n",
        "s5 = s1 - s2  # 차집합"
      ],
      "execution_count": null,
      "outputs": []
    },
    {
      "cell_type": "code",
      "metadata": {
        "colab": {
          "base_uri": "https://localhost:8080/"
        },
        "id": "u7f8xu7Od-6r",
        "outputId": "a525baf8-e342-443f-c3be-e9643117f7bb"
      },
      "source": [
        "s3"
      ],
      "execution_count": null,
      "outputs": [
        {
          "output_type": "execute_result",
          "data": {
            "text/plain": [
              "{1, 2, 3, 4, 5}"
            ]
          },
          "metadata": {},
          "execution_count": 31
        }
      ]
    },
    {
      "cell_type": "code",
      "metadata": {
        "colab": {
          "base_uri": "https://localhost:8080/"
        },
        "id": "uLKn9rWsey22",
        "outputId": "3e8bf743-6ffb-4c66-dc09-f3394ee092ba"
      },
      "source": [
        "s4"
      ],
      "execution_count": null,
      "outputs": [
        {
          "output_type": "execute_result",
          "data": {
            "text/plain": [
              "{2, 3}"
            ]
          },
          "metadata": {},
          "execution_count": 32
        }
      ]
    },
    {
      "cell_type": "code",
      "metadata": {
        "colab": {
          "base_uri": "https://localhost:8080/"
        },
        "id": "YYvv8bBSe1VC",
        "outputId": "2019dcd5-3bc1-4d46-cd13-e0b99ea9957e"
      },
      "source": [
        "s5"
      ],
      "execution_count": null,
      "outputs": [
        {
          "output_type": "execute_result",
          "data": {
            "text/plain": [
              "{1}"
            ]
          },
          "metadata": {},
          "execution_count": 34
        }
      ]
    },
    {
      "cell_type": "markdown",
      "metadata": {
        "id": "fivXRDUqfKt5"
      },
      "source": [
        "**맵(Map) 또는 딕셔너리(Dictionary) => Python dictionary**"
      ]
    },
    {
      "cell_type": "code",
      "metadata": {
        "id": "5xV_eAK3fJ-a"
      },
      "source": [
        "map = { '김연아':'피겨', '류현진':'야구', '쿠드롱':'당구', '메시':'축구' }"
      ],
      "execution_count": null,
      "outputs": []
    },
    {
      "cell_type": "code",
      "metadata": {
        "colab": {
          "base_uri": "https://localhost:8080/"
        },
        "id": "98rtLePEfQ3b",
        "outputId": "432f704f-d77b-40be-b857-faebd1c8d896"
      },
      "source": [
        "print(map)"
      ],
      "execution_count": null,
      "outputs": [
        {
          "output_type": "stream",
          "name": "stdout",
          "text": [
            "{'김연아': '피겨', '류현진': '야구', '쿠드롱': '당구', '메시': '축구'}\n"
          ]
        }
      ]
    },
    {
      "cell_type": "code",
      "metadata": {
        "colab": {
          "base_uri": "https://localhost:8080/"
        },
        "id": "r3baIbUafSZs",
        "outputId": "1e06ce28-ce6c-479f-d402-6af9ad466bd9"
      },
      "source": [
        "print(\"쿠드롱은 \", map['쿠드롱'])"
      ],
      "execution_count": null,
      "outputs": [
        {
          "output_type": "stream",
          "name": "stdout",
          "text": [
            "쿠드롱은  당구\n"
          ]
        }
      ]
    },
    {
      "cell_type": "code",
      "metadata": {
        "id": "omOGRwn3fe1V"
      },
      "source": [
        "map['정재윤'] = '교수'"
      ],
      "execution_count": null,
      "outputs": []
    },
    {
      "cell_type": "code",
      "metadata": {
        "colab": {
          "base_uri": "https://localhost:8080/"
        },
        "id": "eIsFunNhfm50",
        "outputId": "a00fff4a-0ce2-428b-e49c-e74988d42c94"
      },
      "source": [
        "map"
      ],
      "execution_count": null,
      "outputs": [
        {
          "output_type": "execute_result",
          "data": {
            "text/plain": [
              "{'김연아': '피겨', '류현진': '야구', '메시': '축구', '정재윤': '교수', '쿠드롱': '당구'}"
            ]
          },
          "metadata": {},
          "execution_count": 39
        }
      ]
    },
    {
      "cell_type": "code",
      "metadata": {
        "colab": {
          "base_uri": "https://localhost:8080/"
        },
        "id": "XQghd6a_foja",
        "outputId": "09b2ae5e-ee34-4f30-dfb8-19cfc1175a34"
      },
      "source": [
        "key = '홍길동'\n",
        "if key in map:\n",
        "  print(key, '이 map에 존재합니다')\n",
        "else:\n",
        "  print(key, '이 map에 존재하지 않습니다')"
      ],
      "execution_count": null,
      "outputs": [
        {
          "output_type": "stream",
          "name": "stdout",
          "text": [
            "홍길동 이 map에 존재하지 않습니다\n"
          ]
        }
      ]
    }
  ]
}