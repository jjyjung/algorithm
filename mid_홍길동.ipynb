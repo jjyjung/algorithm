{
  "cells": [
    {
      "cell_type": "markdown",
      "metadata": {
        "id": "view-in-github",
        "colab_type": "text"
      },
      "source": [
        "<a href=\"https://colab.research.google.com/github/jjyjung/algorithm/blob/gh-pages/mid_%ED%99%8D%EA%B8%B8%EB%8F%99.ipynb\" target=\"_parent\"><img src=\"https://colab.research.google.com/assets/colab-badge.svg\" alt=\"Open In Colab\"/></a>"
      ]
    },
    {
      "cell_type": "markdown",
      "id": "4b2820f3",
      "metadata": {
        "id": "4b2820f3"
      },
      "source": [
        "### 산업경영알고리즘 중간고사 (Fall 2022)\n",
        "##### 시험일시: 2022.10.20(목) 10:30~11:45 (75분)"
      ]
    },
    {
      "cell_type": "markdown",
      "id": "75174619",
      "metadata": {
        "id": "75174619"
      },
      "source": [
        "학번: 2020123456  (자신의 학번으로 수정하시오)\n",
        "    \n",
        "이름: 홍길동  (자신의 이름으로 수정하시오)"
      ]
    },
    {
      "cell_type": "markdown",
      "id": "25042fbf",
      "metadata": {
        "id": "25042fbf"
      },
      "source": [
        "#### 1번 문제 풀이"
      ]
    },
    {
      "cell_type": "code",
      "execution_count": null,
      "id": "c8fd244e",
      "metadata": {
        "id": "c8fd244e",
        "outputId": "206f7c08-70d1-454a-8077-8b544904e25f"
      },
      "outputs": [
        {
          "name": "stdout",
          "output_type": "stream",
          "text": [
            "2\n",
            "3\n"
          ]
        },
        {
          "data": {
            "text/plain": [
              "12.566"
            ]
          },
          "execution_count": 72,
          "metadata": {},
          "output_type": "execute_result"
        }
      ],
      "source": [
        "r = int(input())\n",
        "h = int(input())\n",
        "\n",
        "# 코드를 작성하시오."
      ]
    },
    {
      "cell_type": "markdown",
      "id": "be7653dd",
      "metadata": {
        "id": "be7653dd"
      },
      "source": [
        "#### 2번 문제 풀이"
      ]
    },
    {
      "cell_type": "code",
      "execution_count": null,
      "id": "8d3da6b1",
      "metadata": {
        "id": "8d3da6b1",
        "outputId": "f3f4a13f-e6b1-48ee-c454-4f83f90e6bf7"
      },
      "outputs": [
        {
          "name": "stdout",
          "output_type": "stream",
          "text": [
            "10\n",
            "7\n"
          ]
        },
        {
          "data": {
            "text/plain": [
              "120"
            ]
          },
          "execution_count": 73,
          "metadata": {},
          "output_type": "execute_result"
        }
      ],
      "source": [
        "n = int(input())\n",
        "r = int(input())\n",
        "\n",
        "# 코드를 작성하시오."
      ]
    },
    {
      "cell_type": "markdown",
      "id": "3d89d127",
      "metadata": {
        "id": "3d89d127"
      },
      "source": [
        "#### 3번 문제 풀이"
      ]
    },
    {
      "cell_type": "code",
      "execution_count": null,
      "id": "2ee1c8f1",
      "metadata": {
        "id": "2ee1c8f1"
      },
      "outputs": [],
      "source": [
        "K = int(input())\n",
        "B = int(input())\n",
        "\n",
        "# 코드를 작성하시오."
      ]
    },
    {
      "cell_type": "markdown",
      "id": "6e1dd423",
      "metadata": {
        "id": "6e1dd423"
      },
      "source": [
        "#### 4번 문제 풀이"
      ]
    },
    {
      "cell_type": "code",
      "execution_count": null,
      "id": "8668a958",
      "metadata": {
        "id": "8668a958",
        "outputId": "16a31032-0a9a-41f1-ee20-d8c04caedc20"
      },
      "outputs": [
        {
          "name": "stdout",
          "output_type": "stream",
          "text": [
            "3,7,2,5\n",
            "in: [3, 7, 2, 5]\n",
            "3 : [3, 5, 2, 7]\n",
            "2 : [3, 2, 5, 7]\n",
            "1 : [2, 3, 5, 7]\n",
            "[2, 3, 5, 7]\n"
          ]
        }
      ],
      "source": [
        "# 아래는 최대값을 맨 뒤에 반복 배치하는 방식의 선택정렬(SelectionSort)의 원본 코드이다. \n",
        "# 이 코드를 최소값을 맨 앞에 반복 배치하는 방식으로 수정하시오.\n",
        "def selectionSort(A):\n",
        "  print(\"in:\", A)  \n",
        "  n = len(A)\n",
        "  for last in range(n-1,0,-1):\n",
        "    k = theLargest(A, last)\n",
        "    A[k], A[last] = A[last], A[k]  # 파이썬의 값 교환 코드!!\n",
        "    print(last, \":\", A)  # 회차별 결과 확인용\n",
        "  return A  #최종결과 반환용\n",
        "\n",
        "def theLargest(A, last):\n",
        "  largest = 0\n",
        "  for i in range(1, last+1):\n",
        "    if A[i] > A[largest]:\n",
        "      largest = i\n",
        "  return largest\n",
        "\n",
        "A = list(map(int,input().split(',')))\n",
        "A = selectionSort(A)\n",
        "print(A)"
      ]
    },
    {
      "cell_type": "markdown",
      "id": "14d5ea2d",
      "metadata": {
        "id": "14d5ea2d"
      },
      "source": [
        "#### 5번 문제 풀이"
      ]
    },
    {
      "cell_type": "code",
      "execution_count": null,
      "id": "6e8a0e49",
      "metadata": {
        "id": "6e8a0e49",
        "outputId": "524a3973-c8c4-4fe2-9bf8-4eeab2b3d6bc"
      },
      "outputs": [
        {
          "name": "stdout",
          "output_type": "stream",
          "text": [
            "30, 20, 25, 40, 10, 35\n",
            "30 20 40\n",
            "20 10 25\n",
            "10 None None\n",
            "25 None None\n",
            "40 35 None\n",
            "35 None None\n"
          ]
        }
      ],
      "source": [
        "class TNode:\n",
        "    key=None; left=None; right=None\n",
        "\n",
        "def printTree(t):\n",
        "    if t==None:\n",
        "        pass\n",
        "    elif t.left==None and t.right==None:\n",
        "        print(t.key, \"None\", \"None\")\n",
        "    elif t.left==None and t.right!=None:\n",
        "        print(t.key, \"None\", t.right.key)\n",
        "        printTree(t.right)\n",
        "    elif t.left!=None and t.right==None:\n",
        "        print(t.key, t.left.key, \"None\")\n",
        "        printTree(t.left)\n",
        "    else:\n",
        "        print(t.key, t.left.key, t.right.key)\n",
        "        printTree(t.left)\n",
        "        printTree(t.right)\n",
        "        \n",
        "def treeInsert(t, x):\n",
        "    pass\n",
        "    # 코드를 작성하시오.\n",
        "\n",
        "def contructTree(A):\n",
        "    root = None\n",
        "    for i in range(len(A)):\n",
        "        root = treeInsert(root, A[i]) # 여기서 treeInsert()가 호출됨.\n",
        "    printTree(root)\n",
        "\n",
        "A = list(map(int,input().split(',')))\n",
        "contructTree(A)"
      ]
    }
  ],
  "metadata": {
    "kernelspec": {
      "display_name": "Python 3",
      "language": "python",
      "name": "python3"
    },
    "language_info": {
      "codemirror_mode": {
        "name": "ipython",
        "version": 3
      },
      "file_extension": ".py",
      "mimetype": "text/x-python",
      "name": "python",
      "nbconvert_exporter": "python",
      "pygments_lexer": "ipython3",
      "version": "3.8.8"
    },
    "colab": {
      "provenance": [],
      "include_colab_link": true
    }
  },
  "nbformat": 4,
  "nbformat_minor": 5
}