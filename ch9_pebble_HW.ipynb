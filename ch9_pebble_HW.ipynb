{
  "cells": [
    {
      "cell_type": "markdown",
      "metadata": {
        "id": "view-in-github",
        "colab_type": "text"
      },
      "source": [
        "<a href=\"https://colab.research.google.com/github/jjyjung/algorithm/blob/gh-pages/ch9_pebble_HW.ipynb\" target=\"_parent\"><img src=\"https://colab.research.google.com/assets/colab-badge.svg\" alt=\"Open In Colab\"/></a>"
      ]
    },
    {
      "cell_type": "markdown",
      "metadata": {
        "id": "ctm6Vlcl6C0c"
      },
      "source": [
        "### 팩토리얼 (재귀적 호출)"
      ]
    },
    {
      "cell_type": "code",
      "execution_count": null,
      "metadata": {
        "id": "UD7WlK4n6C0h"
      },
      "outputs": [],
      "source": [
        "def fact(n):\n",
        "    if n==1: return 1\n",
        "    else: return n*fact(n-1)"
      ]
    },
    {
      "cell_type": "code",
      "execution_count": null,
      "metadata": {
        "id": "_m5gbGZA6C0j",
        "outputId": "b83e072d-1964-430c-f490-fe8b2468fce3"
      },
      "outputs": [
        {
          "data": {
            "text/plain": [
              "120"
            ]
          },
          "execution_count": 2,
          "metadata": {},
          "output_type": "execute_result"
        }
      ],
      "source": [
        "fact(5)"
      ]
    },
    {
      "cell_type": "markdown",
      "metadata": {
        "id": "S69wDJAR6C0k"
      },
      "source": [
        "### 피보나치 (재귀적 호출)"
      ]
    },
    {
      "cell_type": "code",
      "execution_count": null,
      "metadata": {
        "id": "wT1moCsz6C0l"
      },
      "outputs": [],
      "source": [
        "def fib(n):\n",
        "    if n==1 or n==2: return 1\n",
        "    else: return fib(n-1)+fib(n-2)"
      ]
    },
    {
      "cell_type": "code",
      "execution_count": null,
      "metadata": {
        "scrolled": false,
        "id": "QPs-IvAY6C0l",
        "outputId": "5fabbf45-2bd1-4a3c-c2e1-682bc15e3b22"
      },
      "outputs": [
        {
          "data": {
            "text/plain": [
              "13"
            ]
          },
          "execution_count": 9,
          "metadata": {},
          "output_type": "execute_result"
        }
      ],
      "source": [
        "fib(7)"
      ]
    },
    {
      "cell_type": "markdown",
      "metadata": {
        "id": "6eJ2svrC6C0m"
      },
      "source": [
        "### 피보나치 (동적계획법: DP)"
      ]
    },
    {
      "cell_type": "code",
      "execution_count": null,
      "metadata": {
        "id": "WTHdero96C0m"
      },
      "outputs": [],
      "source": [
        "def fibonacci(n):\n",
        "    f = [0]*(n+1)\n",
        "    f[1] = f[2] = 1\n",
        "    for i in range(3, n+1):\n",
        "        f[i] = f[i-1] + f[i-2]\n",
        "    return f[n]"
      ]
    },
    {
      "cell_type": "code",
      "execution_count": null,
      "metadata": {
        "id": "q6QRepYN6C0n",
        "outputId": "8ff82fc5-d7b3-47e8-9828-f7284c6af35c"
      },
      "outputs": [
        {
          "data": {
            "text/plain": [
              "13"
            ]
          },
          "execution_count": 10,
          "metadata": {},
          "output_type": "execute_result"
        }
      ],
      "source": [
        "fibonacci(7)"
      ]
    },
    {
      "cell_type": "markdown",
      "metadata": {
        "id": "ypHJ8sQD6C0n"
      },
      "source": [
        "### 피보나치 (동적계획법: DP)"
      ]
    },
    {
      "cell_type": "code",
      "execution_count": null,
      "metadata": {
        "id": "iCL9FxiC6C0o"
      },
      "outputs": [],
      "source": [
        "f = [0]*(1000)\n",
        "def fibo(n):\n",
        "    if f[n]!=0: return f[n]\n",
        "    else:\n",
        "        if n==1 or n==2: f[n] = 1\n",
        "        else: f[n] = fibo(n-1) + fibo(n-2)\n",
        "    return f[n]"
      ]
    },
    {
      "cell_type": "code",
      "execution_count": null,
      "metadata": {
        "id": "aNhy3BTD6C0o",
        "outputId": "1d71e6de-5b1f-4511-b5c7-fe2dca591d82"
      },
      "outputs": [
        {
          "data": {
            "text/plain": [
              "13"
            ]
          },
          "execution_count": 14,
          "metadata": {},
          "output_type": "execute_result"
        }
      ],
      "source": [
        "fibo(7)"
      ]
    },
    {
      "cell_type": "code",
      "execution_count": null,
      "metadata": {
        "scrolled": true,
        "id": "RqCOaBVW6C0o",
        "outputId": "d7b10bab-3054-4dda-b705-2292ec07a38d"
      },
      "outputs": [
        {
          "name": "stdout",
          "output_type": "stream",
          "text": [
            "DP_topdown: 354224848179261915075\n",
            "\n",
            " 0.000000 sec.\n",
            "DP_bottomup: 354224848179261915075\n",
            "\n",
            " 0.000000 sec.\n",
            "DP_recurr: 102334155\n",
            "\n",
            " 18.8426 sec.\n"
          ]
        }
      ],
      "source": [
        "import time\n",
        "\n",
        "start_time = time.time()\n",
        "print(\"DP_topdown:\", fibo(100))\n",
        "print(\"\\n %.6f sec.\" % (time.time() - start_time))\n",
        "\n",
        "start_time = time.time()\n",
        "print(\"DP_bottomup:\", fibonacci(100))\n",
        "print(\"\\n %.6f sec.\" % (time.time() - start_time))\n",
        "\n",
        "start_time = time.time()\n",
        "print(\"DP_recurr:\", fib(40))\n",
        "print(\"\\n %.4f sec.\" % (time.time() - start_time))"
      ]
    },
    {
      "cell_type": "markdown",
      "metadata": {
        "id": "HMR76-chOaFf"
      },
      "source": [
        "\n",
        "# 9장. 조약돌 풀이 #\n",
        "\n"
      ]
    },
    {
      "cell_type": "markdown",
      "metadata": {
        "id": "tGfBEj5TOeb6"
      },
      "source": [
        "**(1) weight 계산하기 (두 가지 방법)**\n",
        "\n"
      ]
    },
    {
      "cell_type": "code",
      "execution_count": null,
      "metadata": {
        "id": "5Vn19rcDymlm"
      },
      "outputs": [],
      "source": [
        "import copy\n",
        "\n",
        "A = [[6,-8,11], [7,10,12],[12,14,7],[-5, 9, 4],[5, 7, 8],[3, 13, -2],[11, 8, 9],[3, 5, 4]]\n",
        "# A2 = [[6,-8,11], [7,10,12],[12,14,7],[-5, 9, 4],[5, 7, 8],[3, 13, -2],[11, 8, 9],[3, 5, 4],\n",
        "#      [6,-8,11], [7,10,12],[12,14,7],[-5, 9, 4],[5, 7, 8],[3, 13, -2],[11, 8, 9],[3, 5, 4]]\n",
        "\n",
        "def append_weight(A):\n",
        "#   w = A\n",
        "#   w = A.copy()\n",
        "  w = copy.deepcopy(A)\n",
        "  for i in range(len(w)):\n",
        "    w[i].append(w[i][0] + w[i][2])\n",
        "  return w\n",
        "\n",
        "w = append_weight(A)\n",
        "# w"
      ]
    },
    {
      "cell_type": "code",
      "execution_count": null,
      "metadata": {
        "id": "jrq4YfKl6C0q",
        "outputId": "d099295b-01c9-4f50-f97e-8845fe9f11fd"
      },
      "outputs": [
        {
          "data": {
            "text/plain": [
              "[[6, -8, 11, 17],\n",
              " [7, 10, 12, 19],\n",
              " [12, 14, 7, 19],\n",
              " [-5, 9, 4, -1],\n",
              " [5, 7, 8, 13],\n",
              " [3, 13, -2, 1],\n",
              " [11, 8, 9, 20],\n",
              " [3, 5, 4, 7]]"
            ]
          },
          "execution_count": 47,
          "metadata": {},
          "output_type": "execute_result"
        }
      ],
      "source": [
        "A # w의 변경에 따라서 A도 변경되는지 확인해보세요."
      ]
    },
    {
      "cell_type": "markdown",
      "metadata": {
        "id": "1F9lopvOO7PR"
      },
      "source": [
        "**(2) Pebble 재귀적 호출 버전**\n",
        "\n"
      ]
    },
    {
      "cell_type": "code",
      "execution_count": null,
      "metadata": {
        "colab": {
          "base_uri": "https://localhost:8080/"
        },
        "id": "rdznZpdbDzon",
        "outputId": "6e1a03b2-3f0e-427e-ddcb-fcc7c77e08e4"
      },
      "outputs": [
        {
          "name": "stdout",
          "output_type": "stream",
          "text": [
            "212\n",
            "\n",
            " 0.8355 sec.\n"
          ]
        }
      ],
      "source": [
        "def pebbleSum():\n",
        "  n = len(w)\n",
        "  m = [pebble(n-1,0), pebble(n-1,1), pebble(n-1,2), pebble(n-1,3)]\n",
        "  return max(m)\n",
        "\n",
        "def pebble(i, p):\n",
        "  if i == 0:\n",
        "    return w[0][p]\n",
        "  else:\n",
        "    pass  # 구현하시오.\n",
        "    return w[i][p]+M\n",
        "\n",
        "def compatible(p,q):\n",
        "  pass  # 구현하시오.\n",
        "\n",
        "import time\n",
        "\n",
        "start_time = time.time()\n",
        "# w = append_weight(A1)\n",
        "w = append_weight(A2)\n",
        "print(pebbleSum())\n",
        "print(\"\\n %.4f sec.\" % (time.time() - start_time))"
      ]
    },
    {
      "cell_type": "markdown",
      "metadata": {
        "id": "lKKleQTEPMQc"
      },
      "source": [
        "**(3) Pebble DP (top-down) 버전**"
      ]
    },
    {
      "cell_type": "code",
      "execution_count": null,
      "metadata": {
        "colab": {
          "base_uri": "https://localhost:8080/"
        },
        "id": "BkppZWCw00Il",
        "outputId": "03bf9fdf-24b3-4d7c-ffd8-ddd046a49a6c"
      },
      "outputs": [
        {
          "name": "stdout",
          "output_type": "stream",
          "text": [
            "212\n",
            "\n",
            " 0.8352 sec.\n"
          ]
        }
      ],
      "source": [
        "def pebbleSum_DP_topdown():\n",
        "  n = len(w)\n",
        "  m = [pebble_DP_topdown(n-1,0), pebble_DP_topdown(n-1,1), pebble_DP_topdown(n-1,2), pebble_DP_topdown(n-1,3)]\n",
        "  return max(m)\n",
        "\n",
        "def pebble_DP_topdown(i, p):\n",
        "  pass  # 구현하시오.\n",
        "\n",
        "start_time = time.time()\n",
        "w = append_weight(A)\n",
        "# w = append_weight(A2)\n",
        "print(pebbleSum_DP_topdown())\n",
        "print(\"\\n %.4f sec.\" % (time.time() - start_time))"
      ]
    },
    {
      "cell_type": "markdown",
      "metadata": {
        "id": "YqYVSyJJPZeK"
      },
      "source": [
        "**(4) Pebble DP (bottom-up) 버전**"
      ]
    },
    {
      "cell_type": "code",
      "execution_count": null,
      "metadata": {
        "colab": {
          "base_uri": "https://localhost:8080/"
        },
        "id": "M__1-7eFDGeI",
        "outputId": "cf7a6956-10fe-462c-a2e4-e8f0bec84292"
      },
      "outputs": [
        {
          "name": "stdout",
          "output_type": "stream",
          "text": [
            "212\n",
            "\n",
            " 0.0003 sec.\n"
          ]
        }
      ],
      "source": [
        "def pebbleSum_DP_bottomup():\n",
        "  pass  # 구현하시오.\n",
        "\n",
        "start_time = time.time()\n",
        "w = append_weight(A)\n",
        "# w = append_weight(A2)\n",
        "print(pebbleSum_DP_bottomup())\n",
        "print(\"\\n %.4f sec.\" % (time.time() - start_time))"
      ]
    },
    {
      "cell_type": "code",
      "execution_count": null,
      "metadata": {
        "id": "XEQRk9mvOKsh"
      },
      "outputs": [],
      "source": []
    }
  ],
  "metadata": {
    "colab": {
      "provenance": [],
      "include_colab_link": true
    },
    "kernelspec": {
      "display_name": "Python 3 (ipykernel)",
      "language": "python",
      "name": "python3"
    },
    "language_info": {
      "codemirror_mode": {
        "name": "ipython",
        "version": 3
      },
      "file_extension": ".py",
      "mimetype": "text/x-python",
      "name": "python",
      "nbconvert_exporter": "python",
      "pygments_lexer": "ipython3",
      "version": "3.11.4"
    }
  },
  "nbformat": 4,
  "nbformat_minor": 0
}