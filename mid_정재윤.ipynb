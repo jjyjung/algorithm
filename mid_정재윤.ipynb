{
  "cells": [
    {
      "cell_type": "markdown",
      "metadata": {
        "id": "view-in-github",
        "colab_type": "text"
      },
      "source": [
        "<a href=\"https://colab.research.google.com/github/jjyjung/algorithm/blob/gh-pages/mid_%EC%A0%95%EC%9E%AC%EC%9C%A4.ipynb\" target=\"_parent\"><img src=\"https://colab.research.google.com/assets/colab-badge.svg\" alt=\"Open In Colab\"/></a>"
      ]
    },
    {
      "cell_type": "markdown",
      "id": "57b0c7af",
      "metadata": {
        "id": "57b0c7af"
      },
      "source": [
        "정재윤(20201111)"
      ]
    },
    {
      "cell_type": "markdown",
      "id": "daf526a2",
      "metadata": {
        "id": "daf526a2"
      },
      "source": [
        "1번."
      ]
    },
    {
      "cell_type": "code",
      "execution_count": null,
      "id": "3dcade18",
      "metadata": {
        "id": "3dcade18",
        "outputId": "fce53ca8-6d64-4712-fdbc-6d954736a8af"
      },
      "outputs": [
        {
          "name": "stdout",
          "output_type": "stream",
          "text": [
            "1\n",
            "2\n"
          ]
        },
        {
          "data": {
            "text/plain": [
              "-2.775"
            ]
          },
          "execution_count": 15,
          "metadata": {},
          "output_type": "execute_result"
        }
      ],
      "source": [
        "import math\n",
        "import numpy as np\n",
        "\n",
        "x1 = float(input())\n",
        "x2 = float(input())\n",
        "t1 = -1*(x1+2)**2 -1*(x2-2)**2\n",
        "t2 = -1*(x1-2)**2 -1*(x2+2)**2\n",
        "y = (10**5) * math.cos(x1) * math.cos(x2) * (np.exp(t1) + 0.5*np.exp(t2))\n",
        "y = round(y, 3)\n",
        "y"
      ]
    },
    {
      "cell_type": "markdown",
      "id": "668f8a71",
      "metadata": {
        "id": "668f8a71"
      },
      "source": [
        "2번."
      ]
    },
    {
      "cell_type": "code",
      "execution_count": null,
      "id": "ed7f4287",
      "metadata": {
        "id": "ed7f4287",
        "outputId": "918203ee-ed0b-4582-a0cc-39146c66902d"
      },
      "outputs": [
        {
          "name": "stdout",
          "output_type": "stream",
          "text": [
            "1\n",
            "2\n"
          ]
        },
        {
          "data": {
            "text/plain": [
              "67.243"
            ]
          },
          "execution_count": 21,
          "metadata": {},
          "output_type": "execute_result"
        }
      ],
      "source": [
        "N = int(input())\n",
        "K = int(input())\n",
        "\n",
        "S = 1\n",
        "for n in range(1, N+1):\n",
        "    T = 0\n",
        "    for k in range(1, K+1):\n",
        "        T = T + (4*k*k + k**0.5)\n",
        "    S = S * 3/n * T\n",
        "S = round(S, 3)\n",
        "S"
      ]
    },
    {
      "cell_type": "markdown",
      "id": "4fc53ab9",
      "metadata": {
        "id": "4fc53ab9"
      },
      "source": [
        "3번. bubbleSort 출제 예시"
      ]
    },
    {
      "cell_type": "code",
      "execution_count": null,
      "id": "c614b73c",
      "metadata": {
        "id": "c614b73c",
        "outputId": "9e28e053-8a35-4f0a-a6aa-dff32ab5c55d"
      },
      "outputs": [
        {
          "name": "stdout",
          "output_type": "stream",
          "text": [
            "31,3,65,73,8,11,20,29,48,15\n",
            "[31, 3, 65, 73, 8, 11, 20, 29, 48, 15]\n"
          ]
        },
        {
          "data": {
            "text/plain": [
              "[3, 8, 11, 15, 20, 29, 31, 48, 65, 73]"
            ]
          },
          "execution_count": 38,
          "metadata": {},
          "output_type": "execute_result"
        }
      ],
      "source": [
        "def selectionSort(A):\n",
        "  n = len(A)\n",
        "  for last in range(n-1,0,-1):\n",
        "    k = theLargest(A, last)\n",
        "    A[k], A[last] = A[last], A[k]  # 파이썬의 값 교환 코드!!\n",
        "#     print(last, \":\", A)  # 회차별 결과 확인용\n",
        "  return A  #최종결과 반환용\n",
        "\n",
        "def theLargest(A, last):\n",
        "  largest = 0\n",
        "  for i in range(1, last+1):\n",
        "    if A[i] > A[largest]:\n",
        "      largest = i\n",
        "  return largest\n",
        "\n",
        "A = list(map(int,input().split(',')))\n",
        "print(A)\n",
        "selectionSort(A)"
      ]
    }
  ],
  "metadata": {
    "kernelspec": {
      "display_name": "Python 3",
      "language": "python",
      "name": "python3"
    },
    "language_info": {
      "codemirror_mode": {
        "name": "ipython",
        "version": 3
      },
      "file_extension": ".py",
      "mimetype": "text/x-python",
      "name": "python",
      "nbconvert_exporter": "python",
      "pygments_lexer": "ipython3",
      "version": "3.8.8"
    },
    "colab": {
      "provenance": [],
      "include_colab_link": true
    }
  },
  "nbformat": 4,
  "nbformat_minor": 5
}