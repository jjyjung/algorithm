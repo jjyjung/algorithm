{
  "nbformat": 4,
  "nbformat_minor": 0,
  "metadata": {
    "colab": {
      "name": "topo_sort.ipynb",
      "provenance": [],
      "authorship_tag": "ABX9TyPmVxmM2mx9D5SwG+YCuXvi",
      "include_colab_link": true
    },
    "kernelspec": {
      "name": "python3",
      "display_name": "Python 3"
    },
    "language_info": {
      "name": "python"
    }
  },
  "cells": [
    {
      "cell_type": "markdown",
      "metadata": {
        "id": "view-in-github",
        "colab_type": "text"
      },
      "source": [
        "<a href=\"https://colab.research.google.com/github/jjyjung/algorithm/blob/gh-pages/topo_sort.ipynb\" target=\"_parent\"><img src=\"https://colab.research.google.com/assets/colab-badge.svg\" alt=\"Open In Colab\"/></a>"
      ]
    },
    {
      "cell_type": "code",
      "metadata": {
        "id": "K2QLpaPr2Ehx"
      },
      "source": [
        "N = {0:\"냄비에 물붓기\", 2:\"점화\", 3:\"라면 넣기\", 4:\"계란 풀어넣기\", 5:\"라면봉지 뜯기\", 6:\"스프 넣기\"}\n",
        "E = {0:{2}, 2:{3,4,6}, 3:{4}, 4:{}, 5:{3,6}, 6:{4}}\n",
        "G = (N, E)"
      ],
      "execution_count": 1,
      "outputs": []
    },
    {
      "cell_type": "code",
      "metadata": {
        "id": "ecReLNmD20is"
      },
      "source": [
        "def topologicalSort1():\n",
        "  A = []\n",
        "  for i in range(len(N)):\n",
        "    if len(E2(i)) == 0:\n",
        "      A.append(i)\n",
        "      N.remove(i)\n",
        "      E.remove(i)\n",
        "  return A\n",
        "\n",
        "print(topologicalSort1())"
      ],
      "execution_count": null,
      "outputs": []
    },
    {
      "cell_type": "code",
      "metadata": {
        "id": "Z008S8pV8-0s"
      },
      "source": [
        "def findIncomingNode():\n",
        "  E2 = {}\n",
        "  for i in range(len(N)):\n",
        "    pass #진입간선 dictionary 구축"
      ],
      "execution_count": null,
      "outputs": []
    }
  ]
}