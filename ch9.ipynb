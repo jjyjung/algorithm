{
  "nbformat": 4,
  "nbformat_minor": 0,
  "metadata": {
    "colab": {
      "name": "ch9.ipynb",
      "provenance": [],
      "authorship_tag": "ABX9TyOo0vClpN/dXza2HoEDHQUk",
      "include_colab_link": true
    },
    "kernelspec": {
      "name": "python3",
      "display_name": "Python 3"
    },
    "language_info": {
      "name": "python"
    }
  },
  "cells": [
    {
      "cell_type": "markdown",
      "metadata": {
        "id": "view-in-github",
        "colab_type": "text"
      },
      "source": [
        "<a href=\"https://colab.research.google.com/github/jjyjung/algorithm/blob/gh-pages/ch9.ipynb\" target=\"_parent\"><img src=\"https://colab.research.google.com/assets/colab-badge.svg\" alt=\"Open In Colab\"/></a>"
      ]
    },
    {
      "cell_type": "markdown",
      "metadata": {
        "id": "O2kuL2Mnq3mP"
      },
      "source": [
        "# 9. 그래프 알고리즘"
      ]
    },
    {
      "cell_type": "markdown",
      "metadata": {
        "id": "d89rSHGOLqfK"
      },
      "source": [
        "## 9.3. 그래프 탐색(Graph Traversal) - BSF & DFS"
      ]
    },
    {
      "cell_type": "code",
      "metadata": {
        "id": "TPVb8T5Dq-BC"
      },
      "source": [
        "mygraph = { \"A\" : {\"B\",\"C\", \"D\"},\n",
        "            \"B\" : {\"A\", \"D\"},\n",
        "            \"C\" : {\"A\", \"D\", \"F\", \"G\"},\n",
        "            \"D\" : {\"A\", \"B\", \"C\", \"E\"},\n",
        "            \"E\" : {\"D\"},\n",
        "            \"F\" : {\"C\", \"G\", \"H\"},\n",
        "            \"G\" : {\"C\", \"F\", \"H\"},\n",
        "            \"H\" : {\"F\", \"G\"}\n",
        "          }"
      ],
      "execution_count": 44,
      "outputs": []
    },
    {
      "cell_type": "markdown",
      "metadata": {
        "id": "MOig2r-_l7q2"
      },
      "source": [
        "![image.png](data:image/png;base64,iVBORw0KGgoAAAANSUhEUgAAAbEAAAFICAMAAADpkzBSAAAAAXNSR0IArs4c6QAAAARnQU1BAACxjwv8YQUAAAECUExURQAAAAAAAAAAAAAAAAAAAAAAAAAAAAAAAAAAAAAAAAAAAAAAAAAAAAAAAAAAAAAAAAAAAAAAAAAAAAAAAAAAAAAAAAAAAAAAAAAAAAAAAAAAAAAAAAAAAAAAAAAAAAAAAAAAAAAAAAAAAAAAAAAAAAAAAAAAAAAAAAAAAAAAAAAAAAAAAAAAAAAAAAAAAAAAAAAAAAAAAAAAAAAAAAAAAAAAAAAAAAAAAAAAAAAAAAAAAAAAAAAAAAAAAAAAAAAAAAAAAAAAAAAAAAAAAAAAAAAAAAAAAAAAAAAAAAAAAAAAAAAAAAAAAAAAAAAAAAAAAAAAAAAAAAAAAAAAAAAAAAAAAP5Oxr4AAABVdFJOUwAECAoQFRgZHSAhJCgrLjA2ODxAQkdIUFhdYGJobXB0eHyAgYSGh42PkpeanZ6foqanq66vsre4v8DDxcfLzM3P0dLX3d7f4ePk5efu7/P09fb3+PlPKjnBAAAACXBIWXMAABcRAAAXEQHKJvM/AAAVNUlEQVR4Xu2d8WPrNhHHWxOypRRCXkZT8kJWDLRZgUAhrwQWWFggD3gZg7H8//8KcqI2PtmWJfvuLDn6/AB+3Vvn5GvrpNPpvheBQCAQCAQC5000iu+XCbP4tiN/FnCW7njx1SK+GyZM46evnqc9+U8CLtKdbeejSP7hwI34SdDMVYReUyDXkfF23pWXAacYrPP0ShhvRvIq4BCTZfGb1FnE8irgDI+PBS/YkfhZ+48D7Mzu5EURN8/yIuAE05m8KGbyKC8CDjBayAsds6m8CDROb2MUpFYDeRFomoXZ5L2/lheBhhms5EUZT7fyItAs6768KKO7DVN8F1Dm7VfLveSPmcFyPpYXgSaBMkTvpV4JaqYjLMpcIPoANsGudovvHK8uf7TbK4FL+buBRlAHxd3pxXqz/0Kq90IYFh3gHuan0opdvvv6u/JScvskLwLNobw2acUuHlTFhkt5EWiO5VBeHNG/Y72tvAg0x+ZaXhyBcUzNN0bfyItAY4z/CzcyT4pdTnbqK3ZxsZf/H2iI8Xb+D1h4c7WTazHB19+XPzwRFGsUoVcvG8ekXAm/Uib3IY41ykGvTHo3Fcc+/iyzHjNOGgfQkXplNirh7F7NUxltfQYIeNVLXM7lxRGgWPReecmU5XaAiZReFxedD2ALBSiWWZBt4TQlwALQS/B8Iy8OaBULYawBVL3UYVE7KoZBkZ2sXkKWbXoNDRR7C2ce8G8G6MnTSwBestP+2MVHn+3hoBgD/QLUFOglSBd6gD3ob38of3oglHmwUqyXsodyqvP49lfw3wjbmYzo9BIYzSjCbiYfJXoJDCoRB8swJjJRrpeIXs8wH5yltw5FOTyY6CXorPRv2XBl8lsCtTHUSxA96Q4kTTUHOAN4mOuVMF0WVXP3nsuPlwXqY6eXYLhe5GnWm29B5jFAg7VeCaP1YgwnGNFovg3LMAYq6ZUwmn+1nA6PR/v6w8nim0XQi4HKeh0YzparQ85jvXwMfTw4qKfXEbgvHaAEQ69Q5MYHjl5BMS6w9AqK8YCnV1CMA0y9gmL04OoVFKMGW6+gGC34egXFKKHQKyhGB41eQTEqqPQKitFAp1dQjAJKvYJi+NDqFRTDhlqvoBgu9Ho1qljrjH449GpOsfYZ/fDo1ZRi7TP64dKrGcXaZ/TDp1cjinlt9JMXfDn1akIxj41+coMvr14NKOav0U9+8F1xh19uxbw1+nEm+DIr5q3RjzvBl1cxb41+HAq+rIp5a/TjUvBlVcxXox+ngi+nYr4a/bgVfDkVU4x+Tv1EBCAUuNUBxrHgy6iYMnSAnj1KQ06XWsC4FnwZFcs4JLz2xcrg0qLMteDLp5hq3gN6zyk4ZPTjXPDlU0x9b3SKOTQsOueyx6eY2hJLq5gzrbHyxuc3O6W54RGmp4xPMfUDaRVzxugnT4YHMVPKGQKZgi+fYopBgl4xVwwS8gJq9P7rX2f8AQRMwZdPMcXoR6+YK0Y/uYPifnG1gy1Ej/AMi3yKfVByqcCF5Ofyh6/w3ZeWvH6UD/vby3cZ51EBT/Dl+2bUDvpAscznd0SxnNfmKjGSeps3LPIEX75vxss4pt604G3i1SYet+zcg+em+RRTV5haxVxxSFCDb+LlkGgl/jebbeQJvnyKqblSrWKuGP2owVcOismblrMkY/ky+RRTjH70irniaZG1r3k4vly5w2LLFFOMfvSKuWL0k4lj0fujUnnDYtvimGL0o1XMGaOfTHr3zX6/+Txhp7g6CHjumlExnf+ZgjNGP5mNyiRD9YJ6/zzBl1Exxb5Hsz/mjtGPGnxfBkXBQ2ZJxvOcMSqmfHy4Bw0+vTtGP2rwTU0R32SGRZ7gy6mYstcE6jzSirlU5gGDb3q+IZ44OAoyBV9WxX76L3mhh2mjyQg4LoA5/YOyJGMKvoyKDZaLX5p8KKeMfmBIBetmZVjkCr5sil0vVmJt45/Rjzr3KIQr+DIp1n08nifw0OjHsNCj++9PW1Tn0Ym3k5dL74x+DPdQ5p/mH1dCh0GxaLqNTx/FP6MfoxlFEnwLjpghQ6/Y7WYGxznvjH7Mgy+HZtSK3ayfMsOcb0Y/NsGXXjNaxfrL59z3yTOjH6vgKzS7o5w8USrWe1oXPpx+Gf3YBd/u/Tam04xOMfGslTyZPhn92AVfMTkm04xKsU68cfA4cw0sgy+dZkSKTTeE40JDWAZfKs1IFBttZ+4tqxA4Bt/fH+aCBsGXRjMCxcT44VreAg8RfP9nHnw78Qf0Zxddsf5zYYxuCVYbl9EUe7xBVqw3X7fe7tZyqxlbM1TFOrONy6sqJKyLA3A1Q1QsuuNJXjdNhXIOTM3wFJts71s3oc+lUgGO0AyprR+WYqPNI/akyFUqKSY0Q2qdiaPYcLnIHAJpLRUVE6BohqHY9SLnmFV7qa4Yimb1FevO3e/HjEodxRA0q6tY597dbS0isqcA7RCa1fkN9RQTM6C7c5jQA+qHgPEmdx/AjFqKjbdKCcdZgBG0R/l7NybUUOxm7a0HRC1wplmVNaus2KCghKP9YE2MK2pWUbHeoSb7PMFbylTSrJJi3dn2vCb0ADzFEs2sf1sFxTrxtl0lHJZgKpakiyx/n71i002qJvscwVXMWjNbxW5bWsJhAbZilprZKTbMqck+O/AVs9LMpmlIf9n2Eg4jKBQ7aIY9m9PVZJ8VVMe0h4t1mWY29r7d2ab8TI4/1HE2pjtY39dqZmXvG8WbFpVw1HQ2pmyFUKyZWFNlHQYL9/0nlGc1uBHL/3rOxrTNK/I1i8A511cKhBkVS+kfBSfyxhbmitTtRoRmagDqrQo2SaI4e7B+uGpTTTaGuSK1YkKzJ7hNPND0O+gppxH7i6Vzhns1QDFXpFcsqa1OaTZZ6mISOI3YnZfON70Cx1yRQ7G0ZpN5yW3FL5K1roQDyVyRR7FXzW4Wpc/R46FbSnTXthIOLHNFLsWOml2vyqfph2YI49bVZKOZK/IpJjT7zX9M5n2dTXfZuhIOPHNF1n6dhv6crnSbxwTPXJFTMePmoMbGdt6AaK7IqZhBg6UjznQvRyP9DF7tfiyvEuCfDJ5qRsWuN/LiyEuf3s1vvi9/ckLpTe89YN4O+7arXdxLJxaMisH/VLoX9peqZsadOz0ByKBXrHRRxqgYjE6v/eY/mmT9ETpfyYt2AA0T9YqVmivyKabYiqTu9PIXGacfmq3xpoDvjV6x0mGRTzFlzQ/u9GCDlsYgQeARsA1piWJlvcD5FDtmn14Bd3r5ThkXzVJsvgBfmxLFyhoD8ymmrCHhnb5RXjI2m34W4BhfoliZKRWfYkoCBt5p9B76xnQ/yItWAI9VlihWZq5olC5GQTm/q9zpgzL3qHSEwlWguSJwyRWo70zJR+db+SiekKpiSiBrlWLwYfVGMSVZqCj2FirWrgUZahzjU0zviqi8Y0pGy3NgQrVEsbKkKp9iyspQVQzGMR7/cC7gLlOJYmV7TXyKKbNSeKfqXJHvtjiAn6ZEsTLXD76vRnlt4J2q67HSDLZXQHPFEsXKeuIwPszqHDd1p2rOozQd6hfjf6ZjuF6x0r1BRsVgmgrcqXQSf6VNSaqkteGn6W9Zr1ipFRKjYnBYTN1pNnffnkGxc7ed9aBlolaxcnNFRsUu/vY7eZGg2x9zyS22Ft14e39QIP01axUrzxryjT/95efpRZZuD9qw8Mh1erPTaZ1U/kBX52HwrHItfLrz9RAqUVzn0Y7EfW+ePnhk+D0bhAMexTrxoYYbr8zSefoL5dSAsbliGSyKTV66phjVjhp9NrcZPmdP5WA5GzMolu6TfXcvL4pxykG7EqPlMqd6D8vZmFyxPuyT/VQ2UDvmoG3PeL3IlwbJ2ZhYsa7ahSNa6Gvvbw1OvzhM0lW+sAQdx9mYVLHOfY4z4uxJ8xJp/6HzlDo3YDgbUyo23eQe2rst7GbZX/rch8/E7QvB2ZhOsdGm6P77y9zz6H73Meqmlss6Rn/9ez1nYyrFBlpjjuEqzxPS9OiLgyTLZcMA/Pyzes7GNPmF3lNZH1+/DJlL6IuXxDT+HnYw6jgbl9WBVKFzb9T2yytDZg2Dxdr8aTNYkJZAoNh5GT0MlyuLxw0hPYCu2OisjB4sm1kPzZqsaEFWTEw4jBbu7WC8tWsYb9IcoxRUxc7KOMDe6LBrloYqAVGxzuyMnMCO1QBWdHDaHKMpJh65s7CKPfBaDWBBtMA5jo+l2GhzPhOOdDWAOVjVRjiKDVrVt1IPrAYwBu2gHoZiYsLRgn1+MzLVAIbg1azVP/bTOSOnorxqACMMuhQaU/NoXeJNLy89w77nfH41gAl9beNWS+opdrvxsw9ihZ7zhdUA5fSWmFG+jmLDlZ/ON/Y957XVAGV0VjUNgSHVFet52ijbvue8fXojTXkRlR1VFROf288Jh3XPeZNqAB3GTQoNqaZYdLfxdMJh23PetBqgEPSC2UqK3XrbeNmy57xFNUAB+A1TKig2XD/VGSWaxK7nvE01QAEEZ4esFbte+Gu1Z9Vz3qoaoID+qqbiOVgq1vV5S8Wm57xdNUABvRXBYGSVV0ys2+Slh1gchqpgbZ1DZ429XLVN1IxrTpsaxrzn/LKS5b9KhLxetU7UDNd+Oz0g9pw3A/dwsHWi5vrZd2/fjO/B9Wd/2e/3m9+qXyzSwXlDBw0zrBM13ccNzp53c6jz7I/lOWzBt8AkAGm7GLXVsW2iRkw4YJNfH1FkeLPbfzlKxpSPJuJNg7kOjEUUqvmMbaKmFV6xSuOkq93+9GK9VRqKIDRZQj1qapmouVm3wisWvjeX7/bp6YXaZan2sIhSS/qCZaLm+dnzCYcEJmSVXnNXO9gssG55PE4tqcQqUdN9XPs+4XgBvjZKy9TLBzihr3mqLlohPuU2iZoo3vo/4XgB5DAu38F3SqVmhRmmtZNN1xox4UCMnk0Des5H7/UPblnPeT2Ke0Y9zBM1F8sWmdMLQD/Oq13JUFNtn/dI/UN9KdgTNe4AmrmeWuQ9yEX0l2gGCbg9fzKJmotP/rATa/4/jpRhvTUdDl8Bcez0jr0oBmciNeIYZi1pzlr+pWMeUaLGJcCokYljikFCdSNP1FrSrAyHTI14uy4/+cMerChzxPUdkJfNzBWV2X7lFBNuLWkm+XK1O71ZP8JP1DDRO+wXScZxivlh70/yJ3BUQV2PKb3Aq9Y/IR3qe0V5b2CmRrXZa2RYNPz2t3IoP7CVPzwwl3/9wFj+ogM/AD3nMzkPqFhZz/kCsA71vaI8OfCuVVeH2lMewm+/0vcJlrXwaRV/AopVDWPoT7nyC5WR4eGLYucU1779KsATXOmIIAT7HHwXFQdFfPc9WGxSkqk5trORuPbtV0HpJP+6P/a9yW7/xU/SipX3nM+FoBE9NAcsydTUS9S4iPKNnlY2+y++A2b31d4V3IXYEdU4RT+FrZOocRM1f/DJZ4nb3qHO4+3Xpxbu1bIHFLWkGXNA/aPUPsUM91AqzR9Iakkz5oDadwyrbYRLGM0oKk2SkQ/1vQDTuyVxrHqixmEMEtyVCjSwD/W9AAvoSuaKqLVAbjB4xOo5r0K11aFMltT1WCr4CqomapylOxcjF1LPeQWy7wqaA2ZyHtADrGKixlmmm8OEAqfnPITQBR3WH2jzii0LY4P1a9ssjJ7zAMr4oa4h07l7JRfaqkGx85gubkLoOZ+G1LZETb+82e8Pu8+X1+r+WMVEjZtM1JKw0TqveXu1NG61qYoxauortQcNS3bieG5Ww+M+g9Vj9jtFa96Of6hPQU3UHHafs3Ue3W3UWyxJFoXMdGZFfelQmrdjH+rLYpOoGbagyeWY+BQwg+OnVaJm6vkhpP6K+FQp6qG+IqwSNd3HNfVbT0fnnvrmUQ/1FWKZqOmvfO22cruhXqDg1pIWY5uoEZ+ccMFBxfWS/Em7I9jCzMc2UdO59+4MdHS/oUmmnxhu7hkfZNtETe/52auZ/mhLPSB2udc+1omam7U/zd6unxfEA2IUN9Bb0jZRE90dc9/OE92THysdvRiSM2ObqOnOfehqf0M+TxKvcHMbUZaJmsHK9UOAIuASf5u+TcMm5GucOkQx+bdJv8jDxuVH7GZNHV78TCc0Ooxr6C6oVyAdb1N2I9a1oxnRHfl8e+pxqwzx9ZSnk1kZrqkfolShiJd0n1xqtijuhnhA7D5hdsFphuE6Zy++Ge6M/MJrEJH/F3iYuGFjNSB3Z/IpQ6enM1tTJ8hLORT6kuJbFlxPf0mdcy1BFvrSwbAoZ2bUZLcx+vlbox+PCPEQ8m88HICFvhRcNz2EENFQYWOm0Bebzox8H7sxGihszC30RYW60rFhmAsbiwt9sRhQVzo2DmthI/nj3330YfO2Lmw7EeSFvt6XQhvDUthIX+jbhuMGpjBsd5LvAbOXtTUMcUqHvNCXYZvNOQjTpvSFvjcO7tXSY17YaOkwSF7oe01eiOUqRoWNtg6D5IW+YkrTspyvDaWFjbYOg/SFvn6e4EFEW9ho7TBIXujbpz+75Dyamb6twyB5oa8LW7MuUFTYaOkwSL+n6Ej5gwvkFjZaOwwS7ykO3CkxcoCcwkY7h0HyQl8xr/W+rA0XtbDRymGQPgPhy6E4VkBho43DIH2h7w154ZynnCK7jcMgeaFvj/xohb+8zp4tHAapy3Cbqyjyg2Nho4XD4JJ4vGpjWRsyyVeUdRgsgNphkL4bQRuI4j8XOwzu97CtNKmVlocdZRpClSF6L9VKgG2lKR0Gx94dZW6KjGvg1W5R1HCfzmGw/WVteGRtVzXGMUTDYucsytqwyPTi1ClG0wjP56PMDZB5bXSKGXbHtWLo+VFmdqAzk0CnGL4zk1tHt70AOgwKdIphOwy61x7BA6DDoECnGLJf3Q1594g2krHuuUo8ESVwOSbAVKxdR5n5yIljUi6BqhhiHItCiqMimbbtulERz5rpdnvmZW3VyXTz1ymG5RAVytpqkDG41imGY6YVytpqoTgM6hVDcRictPsoMz3QYVCrGEYYc79HrvNkzM+KFas2KPYP5y4SbuP4KeR8a6P6BhYrBv5mJFUQTOMXHg/HmBKOrakPrOWPlsunOA4pDgQyNp5FisXxxWl7+hupgmAm9YrjidRwKNu/B2iAhR6FilGXeQSMgXsoV7tXp1wIaZVHwAorh8GAC1g5DAYcwNJhMNA8tg6DgcaxdRgMNI+tw2CgcawdBgONY+swGGgeW4fBgANYOgwGAoFAIBAIBAKBQCAQCAQCgUAg0B4uLv4PZUiO7xfdD3wAAAAASUVORK5CYII=)"
      ]
    },
    {
      "cell_type": "markdown",
      "metadata": {
        "id": "76_TLj8nuXxH"
      },
      "source": [
        "**[9-1] BFS (Breath-First Search) 알고리즘**"
      ]
    },
    {
      "cell_type": "code",
      "metadata": {
        "colab": {
          "base_uri": "https://localhost:8080/"
        },
        "id": "w1Tma5Dyr4Bh",
        "outputId": "3dfeb393-c9c8-4b95-8ef3-bfadd3fb816e"
      },
      "source": [
        "import queue\n",
        "def bfs(G, s):\n",
        "    visited = {s}              \t  # 맨 처음에는 start만 방문한 정점임\n",
        "    Q = queue.Queue()             # 파이썬 큐 모듈의 큐 객체 생성\n",
        "    Q.put(s)\n",
        "    while not Q.empty():          # 큐에 항목이 있는 동안\n",
        "        u = Q.get()               # 큐에서 하나의 정점 u를 빼냄\n",
        "        print(u, end=' ')         # u는 방문했음을 출력\n",
        "        L = G[u] - visited        # L = {u의 인접정점} - {방문정점}\n",
        "        for v in L:               # 갈 수 있는 모든 인접 정점에 대해\n",
        "            visited.add(v)        # 이제 u는 방문했음\n",
        "            Q.put(v)              # u를 큐에 삽입\n",
        "\n",
        "print('BFS : ', end='')\n",
        "bfs(mygraph, \"A\")\n",
        "print()"
      ],
      "execution_count": 47,
      "outputs": [
        {
          "output_type": "stream",
          "name": "stdout",
          "text": [
            "BFS : A C D B F G E H \n"
          ]
        }
      ]
    },
    {
      "cell_type": "markdown",
      "metadata": {
        "id": "OhtSIklfLDkw"
      },
      "source": [
        "**[9-2] DFS (Depth-First Search) 알고리즘**"
      ]
    },
    {
      "cell_type": "code",
      "metadata": {
        "colab": {
          "base_uri": "https://localhost:8080/"
        },
        "id": "y1A9q6Bmo1tk",
        "outputId": "525a5b86-9652-4a01-eeb4-02eccce6fe78"
      },
      "source": [
        "def dfs(G, v, visited):\t\t\t  # 깊이우선탐색 알고리즘\n",
        "    if v not in visited :\t\t\t# start가 방문하지 않은 정점이면\n",
        "        visited.add(v)\t\t\t\t# start를 방문한 노드 집합에 추가\n",
        "        print(v, end=' ')\t\t\t# start를 방문했다고 출력함\n",
        "        L = G[v] - visited\t\t# nbr: 차집합 연산 이용\n",
        "        for x in L:\t\t\t\t\t\t# v ∈ {인접정점} - {방문정점}\n",
        "            dfs(G, x, visited) # v에 대해 dfs를 순환적으로 호출\n",
        "\n",
        "print(\"DFS : \", end=\"\")\n",
        "dfs(mygraph, \"A\", set() )\n",
        "print()"
      ],
      "execution_count": null,
      "outputs": [
        {
          "output_type": "stream",
          "name": "stdout",
          "text": [
            "DFS : A C F H G D E B \n"
          ]
        }
      ]
    },
    {
      "cell_type": "markdown",
      "metadata": {
        "id": "xHV2v8Qlunnm"
      },
      "source": [
        "## 9.4. 최소신장트리 (Minimum Spanning Tree)\n"
      ]
    },
    {
      "cell_type": "markdown",
      "metadata": {
        "id": "HXtGfHF_LW6N"
      },
      "source": [
        "**프림(Prim) 알고리즘**"
      ]
    },
    {
      "cell_type": "code",
      "metadata": {
        "colab": {
          "base_uri": "https://localhost:8080/"
        },
        "id": "0Qvt9Eaevhls",
        "outputId": "e6d280a4-830f-4db7-a950-d07a9d309675"
      },
      "source": [
        "INF = 9999\n",
        "def getMinVertex(dist, selected) :\n",
        "    minv = -1\t\n",
        "    mindist = INF\n",
        "    for v in range(len(dist)) :\t\t\t\t\t# 모든 정점들에 대해\n",
        "        if not selected[v] and dist[v]<mindist :\t# 선택 안 되었고  \n",
        "            mindist = dist[v]\t\t\t\t\t\t# 가중치가 작으면\n",
        "            minv = v\t\t\t\t\t\t\t\t# minv 갱신\n",
        "    return minv\t\t\t\t\t# 최소 가중치의 정점 반환\n",
        "\n",
        "\n",
        "def Prim(vertex, adj) :\n",
        "    vsize = len(vertex)\n",
        "    dist = [INF] * vsize\n",
        "    dist[0] = 0\t\t\t\t\t# dist: [0, INF, ... INF]\n",
        "    selected = [False] * vsize\t# selected: [False, False, ... False]\n",
        "\n",
        "    for i in range(vsize) :\t\t# 정점의 수 만큼 반복\n",
        "        u = getMinVertex(dist, selected)\n",
        "        selected[u] = True\t\t# u는 이제 선택됨\n",
        "        print(vertex[u], end=':')\t# u를 출력\n",
        "        print(dist)\t\t\t\t# dist 를 출력\n",
        "\n",
        "        for v in range(vsize) :\t# 내부 루프\n",
        "            if (adj[u][v] != None):\t# (u,v) 간선이 있으면 dist[v] 갱신\n",
        "                if selected[v]==False and adj[u][v]< dist[v] :\n",
        "                    dist[v] = adj[u][v]\n",
        "\n",
        "\n",
        "\n",
        "vertex =   [  'A', 'B', 'C', 'D', 'E', 'F', 'G' ]\n",
        "weight = [ [ None,  29,None,None,None,  10,None ],\n",
        "           [   29,None,  16,None,None,None,  15 ],\n",
        "           [ None,  16,None,  12,None,None,None ],\n",
        "           [ None,None,  12,None,  22,None,  18 ],\n",
        "           [ None,None,None,  22,None,  27,  25 ],\n",
        "           [   10,None,None,None,  27,None,None ],\n",
        "           [ None,  15,None,  18,  25,None,None ]]\n",
        "print(\"MST By Prim's Algorithm\")\n",
        "Prim(vertex, weight)"
      ],
      "execution_count": null,
      "outputs": [
        {
          "output_type": "stream",
          "name": "stdout",
          "text": [
            "MST By Prim's Algorithm\n",
            "A:[0, 9999, 9999, 9999, 9999, 9999, 9999]\n",
            "F:[0, 29, 9999, 9999, 9999, 10, 9999]\n",
            "E:[0, 29, 9999, 9999, 27, 10, 9999]\n",
            "D:[0, 29, 9999, 22, 27, 10, 25]\n",
            "C:[0, 29, 12, 22, 27, 10, 18]\n",
            "B:[0, 16, 12, 22, 27, 10, 18]\n",
            "G:[0, 16, 12, 22, 27, 10, 15]\n"
          ]
        }
      ]
    },
    {
      "cell_type": "markdown",
      "metadata": {
        "id": "T4nUQM5mwJ2s"
      },
      "source": [
        "## 9.5. 위상정렬 (Topological Ordering)"
      ]
    },
    {
      "cell_type": "markdown",
      "metadata": {
        "id": "crKt2o6GwsC8"
      },
      "source": [
        "**[알고리즘 9-6] 위상정렬 알고리즘1**\n",
        "\n",
        "\n",
        "\n"
      ]
    },
    {
      "cell_type": "code",
      "metadata": {
        "colab": {
          "base_uri": "https://localhost:8080/"
        },
        "id": "bQi-EBw1CQRS",
        "outputId": "8df01159-73a1-4fbf-d063-e7039b9c5f18"
      },
      "source": [
        "def topological_sort1(E):  \n",
        "  # 진입간선 Edge dictionary 구축\n",
        "  IN = {}   # dictionary 초기화\n",
        "  for i in E.keys():   # 진입간선 개수를 0으로 모두 초기화\n",
        "    IN[i] = 0\n",
        "  for v in E:\n",
        "    for u in E[v]:    # 진입간선의 개수를 Graph에서 count함\n",
        "      IN[u] += 1\n",
        "  print(IN)\n",
        "\n",
        "  A = []      # 위상정렬을 출력할 목록\n",
        "  for k in range(len(V)):  # 한 번에 하나씩 A에 입력한다.\n",
        "    for u in E:            # 모든 노드 중에서..\n",
        "      if IN[u] == 0:       # 진입간선이 없으면 (진입간선 개수=0)\n",
        "        A.append(u)        # u를 A에 추가합니다.\n",
        "        for v in E[u]:     # 노드 u의 모든 도착노드를 찾아서..\n",
        "          IN[v] -= 1       # 그 도착노드에서 진입간선 개수를 -1 합니다.\n",
        "        E.pop(u)           # 노드 i를 E에서 삭제하고..\n",
        "        break              # for i in N을 유지시키기 위하여, 한 번에 한 노드씩만 A에 추가합니다.\n",
        "  return A\n",
        "\n",
        "def printV(A, V):\n",
        "  for a in A:\n",
        "    print(V[a])  # 노드 Label을 출력함\n",
        "\n",
        "# Graph 구조 저장하기\n",
        "V = {0:\"냄비에 물붓기\", 1:\"점화\", 2:\"라면 넣기\", 3:\"계란 풀어넣기\", 4:\"라면봉지 뜯기\", 5:\"스프 넣기\"}\n",
        "E = {0:{1}, 2:{3}, 3:{}, 4:{2,5}, 5:{3}}  # 진출간선\n",
        "\n",
        "A = topological_sort1(E)\n",
        "printV(A, V)\n"
      ],
      "execution_count": null,
      "outputs": [
        {
          "output_type": "stream",
          "name": "stdout",
          "text": [
            "{0: 0, 1: 1, 2: 2, 3: 3, 4: 0, 5: 2}\n",
            "냄비에 물붓기\n",
            "점화\n",
            "라면봉지 뜯기\n",
            "라면 넣기\n",
            "스프 넣기\n",
            "계란 풀어넣기\n"
          ]
        }
      ]
    },
    {
      "cell_type": "markdown",
      "metadata": {
        "id": "1vF8GMyvImWT"
      },
      "source": [
        "## 9.6. 최단경로 (Shortest Path)"
      ]
    },
    {
      "cell_type": "markdown",
      "metadata": {
        "id": "KQ_-gWOL3M5F"
      },
      "source": [
        "**[9-10] 플로이드-워샬(Floyd-Warshall) 알고리즘**"
      ]
    },
    {
      "cell_type": "code",
      "metadata": {
        "colab": {
          "base_uri": "https://localhost:8080/"
        },
        "id": "jJMQkCtt3RWK",
        "outputId": "73dce62f-3182-43f0-ae73-18892eaab0c9"
      },
      "source": [
        "def FloydWarshall(D):\t# Floyd의 최단경로탐색 함수. \n",
        "    n = len(D)       \t\t# 정점의 개수\n",
        "\n",
        "    for k in range(n) :\t\t\t# 정점 k를 추가할 때\n",
        "        for i in range(n) :\n",
        "            for j in range(n) :\t# 모든 D[i][j] 갱신\n",
        "                if (D[i][k] + D[k][j] < D[i][j]) :\n",
        "                    D[i][j] = D[i][k] + D[k][j]\n",
        "        printD(D)\t\t\t\t\t# 현재 D 행렬 출력 \n",
        "\n",
        "\n",
        "def printD(D):\t# 현재의 최단거리 행렬 D를 화면에 출력하는 함수\n",
        "    vsize = len(D)\n",
        "    print(\"====================================\")\n",
        "    for i in range(vsize) :\n",
        "        for j in range(vsize) :\n",
        "            if (D[i][j] == INF) : print(\" INF \", end='')\n",
        "            else : print(\"%4d \"%D[i][j], end='')\n",
        "        print(\"\")\n",
        "\n",
        "\n",
        "INF = 9999\n",
        "V = [  'A', 'B', 'C', 'D', 'E', 'F', 'G', 'H' ]\n",
        "E = [ [    0,   8,  11,   9, INF, INF, INF, INF ],\n",
        "      [  INF,   0, INF, INF,  10, INF, INF, INF ],\n",
        "      [  INF, INF,   0, INF, INF,   8,   8, INF ],\n",
        "      [  INF, -15,   3,   0,   1, INF, INF, INF ],\n",
        "      [  INF, INF, INF, INF,   0, INF, INF,   2 ],\n",
        "      [  INF, INF, INF, INF, INF,   0,  -7, INF ],\n",
        "      [  INF, INF, INF,  12, INF, INF,   0,   5 ],\n",
        "      [  INF, INF, INF, INF, INF,   4, INF,   0 ]]\n",
        "print(\"Floyd-Warshall's Algorithm\")\n",
        "FloydWarshall(E)\n"
      ],
      "execution_count": 52,
      "outputs": [
        {
          "output_type": "stream",
          "name": "stdout",
          "text": [
            "Floyd-Warshall's Algorithm\n",
            "====================================\n",
            "   0    8   11    9  INF  INF  INF  INF \n",
            " INF    0  INF  INF   10  INF  INF  INF \n",
            " INF  INF    0  INF  INF    8    8  INF \n",
            " INF  -15    3    0    1  INF  INF  INF \n",
            " INF  INF  INF  INF    0  INF  INF    2 \n",
            " INF  INF  INF  INF  INF    0   -7  INF \n",
            " INF  INF  INF   12  INF  INF    0    5 \n",
            " INF  INF  INF  INF  INF    4  INF    0 \n",
            "====================================\n",
            "   0    8   11    9   18  INF  INF  INF \n",
            " INF    0  INF  INF   10  INF  INF  INF \n",
            " INF  INF    0  INF  INF    8    8  INF \n",
            "9984  -15    3    0   -5 9984 9984 9984 \n",
            " INF  INF  INF  INF    0  INF  INF    2 \n",
            " INF  INF  INF  INF  INF    0   -7  INF \n",
            " INF  INF  INF   12  INF  INF    0    5 \n",
            " INF  INF  INF  INF  INF    4  INF    0 \n",
            "====================================\n",
            "   0    8   11    9   18   19   19  INF \n",
            " INF    0  INF  INF   10  INF  INF  INF \n",
            " INF  INF    0  INF  INF    8    8  INF \n",
            "9984  -15    3    0   -5   11   11 9984 \n",
            " INF  INF  INF  INF    0  INF  INF    2 \n",
            " INF  INF  INF  INF  INF    0   -7  INF \n",
            " INF  INF  INF   12  INF  INF    0    5 \n",
            " INF  INF  INF  INF  INF    4  INF    0 \n",
            "====================================\n",
            "   0   -6   11    9    4   19   19 9993 \n",
            " INF    0  INF  INF   10  INF  INF  INF \n",
            " INF 9984    0  INF 9994    8    8  INF \n",
            "9984  -15    3    0   -5   11   11 9984 \n",
            " INF 9984  INF  INF    0  INF  INF    2 \n",
            " INF 9984  INF  INF 9994    0   -7  INF \n",
            "9996   -3   15   12    7   23    0    5 \n",
            " INF 9984  INF  INF 9994    4  INF    0 \n",
            "====================================\n",
            "   0   -6   11    9    4   19   19    6 \n",
            " INF    0  INF  INF   10  INF  INF   12 \n",
            " INF 9984    0  INF 9994    8    8 9996 \n",
            "9984  -15    3    0   -5   11   11   -3 \n",
            " INF 9984  INF  INF    0  INF  INF    2 \n",
            " INF 9984  INF  INF 9994    0   -7 9996 \n",
            "9996   -3   15   12    7   23    0    5 \n",
            " INF 9984  INF  INF 9994    4  INF    0 \n",
            "====================================\n",
            "   0   -6   11    9    4   19   12    6 \n",
            " INF    0  INF  INF   10  INF 9992   12 \n",
            " INF 9984    0  INF 9994    8    1 9996 \n",
            "9984  -15    3    0   -5   11    4   -3 \n",
            " INF 9984  INF  INF    0  INF 9992    2 \n",
            " INF 9984  INF  INF 9994    0   -7 9996 \n",
            "9996   -3   15   12    7   23    0    5 \n",
            " INF 9984  INF  INF 9994    4   -3    0 \n",
            "====================================\n",
            "   0   -6   11    9    4   19   12    6 \n",
            " INF    0  INF  INF   10  INF 9992   12 \n",
            "9997   -2    0   13    8    8    1    6 \n",
            "9984  -15    3    0   -5   11    4   -3 \n",
            " INF 9984  INF  INF    0  INF 9992    2 \n",
            "9989  -10    8    5    0    0   -7   -2 \n",
            "9996   -3   15   12    7   23    0    5 \n",
            "9993   -6   12    9    4    4   -3    0 \n",
            "====================================\n",
            "   0   -6   11    9    4   10    3    6 \n",
            " INF    0   24   21   10   16    9   12 \n",
            "9997   -2    0   13    8    8    1    6 \n",
            "9984  -15    3    0   -5    1   -6   -3 \n",
            "9995   -4   14   11    0    6   -1    2 \n",
            "9989  -10    8    5    0    0   -7   -2 \n",
            "9996   -3   15   12    7    9    0    5 \n",
            "9993   -6   12    9    4    4   -3    0 \n"
          ]
        }
      ]
    },
    {
      "cell_type": "code",
      "metadata": {
        "colab": {
          "base_uri": "https://localhost:8080/"
        },
        "id": "BRCZPjir39Q4",
        "outputId": "6b576f8b-42a8-4356-ad4f-c37ca27c4db4"
      },
      "source": [
        "E"
      ],
      "execution_count": 49,
      "outputs": [
        {
          "output_type": "execute_result",
          "data": {
            "text/plain": [
              "[[0, -6, 11, 9, 4, 10, 3, 6],\n",
              " [9999, 0, 24, 21, 10, 16, 9, 12],\n",
              " [9997, -2, 0, 13, 8, 8, 1, 6],\n",
              " [9984, -15, 3, 0, -5, 1, -6, -3],\n",
              " [9995, -4, 14, 11, 0, 6, -1, 2],\n",
              " [9989, -10, 8, 5, 0, 0, -7, -2],\n",
              " [9996, -3, 15, 12, 7, 9, 0, 5],\n",
              " [9993, -6, 12, 9, 4, 4, -3, 0]]"
            ]
          },
          "metadata": {},
          "execution_count": 49
        }
      ]
    },
    {
      "cell_type": "code",
      "metadata": {
        "id": "5W2xO3zl4AIu"
      },
      "source": [
        ""
      ],
      "execution_count": null,
      "outputs": []
    }
  ]
}