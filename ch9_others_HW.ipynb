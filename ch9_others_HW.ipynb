{
  "cells": [
    {
      "cell_type": "markdown",
      "metadata": {
        "id": "view-in-github",
        "colab_type": "text"
      },
      "source": [
        "<a href=\"https://colab.research.google.com/github/jjyjung/algorithm/blob/gh-pages/ch9_others_HW.ipynb\" target=\"_parent\"><img src=\"https://colab.research.google.com/assets/colab-badge.svg\" alt=\"Open In Colab\"/></a>"
      ]
    },
    {
      "cell_type": "markdown",
      "id": "3680ef78",
      "metadata": {
        "id": "3680ef78"
      },
      "source": [
        "### 문제 예 2: 행렬 경로 문제 ###"
      ]
    },
    {
      "cell_type": "markdown",
      "source": [
        "#### (1) 재귀적 해법 ####"
      ],
      "metadata": {
        "id": "rUQcP9jWz9al"
      },
      "id": "rUQcP9jWz9al"
    },
    {
      "cell_type": "code",
      "execution_count": null,
      "id": "44b22aca",
      "metadata": {
        "id": "44b22aca",
        "outputId": "34db489d-f0de-4f6d-d984-3519d19c3a08",
        "colab": {
          "base_uri": "https://localhost:8080/"
        }
      },
      "outputs": [
        {
          "output_type": "stream",
          "name": "stdout",
          "text": [
            "3 3\n"
          ]
        },
        {
          "output_type": "execute_result",
          "data": {
            "text/plain": [
              "40"
            ]
          },
          "metadata": {},
          "execution_count": 1
        }
      ],
      "source": [
        "m1 = [[6,7,12,5], [5,3,11,18], [7,17,3,3], [8,10,14,9]]   # 교재의 예제\n",
        "m2 = [[6,7], [5,3], [7,17]]\n",
        "m3 = [[6,7,12,5], [5,3,11,18], [7,17,3,3], [8,10,14,9], [6,7,12,5], [5,3,11,18], [7,17,3,3], [8,10,14,9]]\n",
        "\n",
        "def matrixPath(i,j):\n",
        "  pass  # 구현하시오.\n",
        "\n",
        "m = m1     # m1, m2, m3로 바꿔가면서 테스트해볼 수 있음\n",
        "print(len(m)-1, len(m[0])-1)\n",
        "matrixPath(len(m)-1, len(m[0])-1)"
      ]
    },
    {
      "cell_type": "markdown",
      "source": [
        "#### (2) DP bottom-up ####"
      ],
      "metadata": {
        "id": "nF43m5gS0JYo"
      },
      "id": "nF43m5gS0JYo"
    },
    {
      "cell_type": "code",
      "source": [
        "import copy\n",
        "\n",
        "def matrixPath_DP(i,j):\n",
        "  n = len(m)\n",
        "  c = copy.deepcopy(m)\n",
        "\n",
        "  pass  # 구현하시오.\n",
        "  return c[n-1][n-1];\n",
        "\n",
        "m = m1     # m1, m2, m3로 바꿔가면서 테스트해볼 수 있음\n",
        "print(len(m)-1, len(m[0])-1)\n",
        "matrixPath_DP(len(m)-1, len(m[0])-1)"
      ],
      "metadata": {
        "id": "4WrrHpbJ0dPm"
      },
      "id": "4WrrHpbJ0dPm",
      "execution_count": null,
      "outputs": []
    },
    {
      "cell_type": "markdown",
      "id": "0a0541d6",
      "metadata": {
        "id": "0a0541d6"
      },
      "source": [
        "### 문제 예 3: 행렬 곱셈 순서 문제 ###"
      ]
    },
    {
      "cell_type": "markdown",
      "id": "884bc9c5",
      "metadata": {
        "id": "884bc9c5"
      },
      "source": [
        "#### (1) 재귀적 해법 ####"
      ]
    },
    {
      "cell_type": "code",
      "execution_count": null,
      "id": "4f1ecafc",
      "metadata": {
        "id": "4f1ecafc",
        "outputId": "007c5c25-91e2-430e-d735-e8cad7d079d5",
        "colab": {
          "base_uri": "https://localhost:8080/"
        }
      },
      "outputs": [
        {
          "output_type": "stream",
          "name": "stdout",
          "text": [
            "7500\n",
            "\n",
            " 0.00474 sec.\n"
          ]
        }
      ],
      "source": [
        "# 10x100, 100x5, 5x50 행렬을 곱하는 경우\n",
        "p1 = [10, 100, 5, 50]   # 교재의 예제\n",
        "p2 = [10, 100, 5]\n",
        "p3 = [10, 100, 5, 50, 10, 100, 5, 50, 10, 100, 5, 50, 10, 100, 5, 50]\n",
        "\n",
        "def matrixChain(i,j):\n",
        "  pass  # 구현하시오.\n",
        "  return mini\n",
        "\n",
        "import time \n",
        "start_time = time.time()\n",
        "p = p1     # p1, p2, p3로 바꿔가면서 테스트해볼 수 있음\n",
        "print(matrixChain(1,len(p)-1))\n",
        "print(\"\\n %.5f sec.\" % (time.time() - start_time))"
      ]
    },
    {
      "cell_type": "markdown",
      "id": "2f8f9cf5",
      "metadata": {
        "id": "2f8f9cf5"
      },
      "source": [
        "#### (2) DP bottom-up ####"
      ]
    },
    {
      "cell_type": "code",
      "execution_count": null,
      "id": "f4952d62",
      "metadata": {
        "id": "f4952d62",
        "outputId": "1300971f-fd13-4706-b207-cc59e9b16e0a",
        "colab": {
          "base_uri": "https://localhost:8080/"
        }
      },
      "outputs": [
        {
          "output_type": "stream",
          "name": "stdout",
          "text": [
            "31250\n",
            "\n",
            " 0.00327 sec.\n"
          ]
        }
      ],
      "source": [
        "p1 = [10, 100, 5, 50]\n",
        "def matrixChain_DP():\n",
        "  n = len(p)-1    # n: 행렬 개수\n",
        "  mat = [[0]*(n+1) for x in range(n+1)]\n",
        "    \n",
        "  pass  # 구현하시오.\n",
        "  \n",
        "  return mat[1][n]\n",
        "\n",
        "start_time = time.time()\n",
        "p = p3\n",
        "print(matrixChain_DP())\n",
        "print(\"\\n %.5f sec.\" % (time.time() - start_time))"
      ]
    },
    {
      "cell_type": "markdown",
      "id": "20912e6f",
      "metadata": {
        "id": "20912e6f"
      },
      "source": [
        "### 문제 예 4: 최장 공통 부분순서 (LCS) ###"
      ]
    },
    {
      "cell_type": "markdown",
      "source": [
        "#### (1) 재귀적 해법 ####"
      ],
      "metadata": {
        "id": "8m9wkzA_z_wO"
      },
      "id": "8m9wkzA_z_wO"
    },
    {
      "cell_type": "code",
      "execution_count": null,
      "id": "e02edf22",
      "metadata": {
        "scrolled": true,
        "id": "e02edf22",
        "outputId": "7d829b56-076c-4ed0-de8c-86e56beef4e3",
        "colab": {
          "base_uri": "https://localhost:8080/"
        }
      },
      "outputs": [
        {
          "output_type": "execute_result",
          "data": {
            "text/plain": [
              "4"
            ]
          },
          "metadata": {},
          "execution_count": 4
        }
      ],
      "source": [
        "X = \"abcbdab\"   # 교재의 예제\n",
        "Y = \"bdcaba\"\n",
        "\n",
        "def LCS(m,n):  # m과 n은 비교할 개수\n",
        "  pass  # 구현하시오.\n",
        "\n",
        "LCS(len(X), len(Y))"
      ]
    },
    {
      "cell_type": "markdown",
      "source": [
        "#### (2) DP bottom-up ####"
      ],
      "metadata": {
        "id": "uhpAQ-mZ0DFF"
      },
      "id": "uhpAQ-mZ0DFF"
    },
    {
      "cell_type": "code",
      "execution_count": null,
      "id": "0a33602c",
      "metadata": {
        "id": "0a33602c",
        "outputId": "a7f7a56d-0213-4fb0-f9aa-691340c46464",
        "colab": {
          "base_uri": "https://localhost:8080/"
        }
      },
      "outputs": [
        {
          "output_type": "execute_result",
          "data": {
            "text/plain": [
              "4"
            ]
          },
          "metadata": {},
          "execution_count": 6
        }
      ],
      "source": [
        "def LCS_DP(m,n):  # m과 n은 비교할 개수\n",
        "  C = [[0]*(n+1) for x in range(m+1)]  # C[i,j]는 i개와 j개의 LCS 길이\n",
        "\n",
        "  pass  # 구현하시오.\n",
        "  \n",
        "  return C[m][n]\n",
        "\n",
        "LCS_DP(len(X), len(Y))"
      ]
    }
  ],
  "metadata": {
    "kernelspec": {
      "display_name": "Python 3",
      "language": "python",
      "name": "python3"
    },
    "language_info": {
      "codemirror_mode": {
        "name": "ipython",
        "version": 3
      },
      "file_extension": ".py",
      "mimetype": "text/x-python",
      "name": "python",
      "nbconvert_exporter": "python",
      "pygments_lexer": "ipython3",
      "version": "3.8.8"
    },
    "colab": {
      "provenance": [],
      "collapsed_sections": [],
      "include_colab_link": true
    }
  },
  "nbformat": 4,
  "nbformat_minor": 5
}