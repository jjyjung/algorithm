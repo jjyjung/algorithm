{
  "cells": [
    {
      "cell_type": "markdown",
      "metadata": {
        "id": "view-in-github",
        "colab_type": "text"
      },
      "source": [
        "<a href=\"https://colab.research.google.com/github/jjyjung/algorithm/blob/gh-pages/ch9_others_HW.ipynb\" target=\"_parent\"><img src=\"https://colab.research.google.com/assets/colab-badge.svg\" alt=\"Open In Colab\"/></a>"
      ]
    },
    {
      "cell_type": "markdown",
      "id": "3680ef78",
      "metadata": {
        "id": "3680ef78"
      },
      "source": [
        "### 문제 예 2: 행렬 경로 문제 ###"
      ]
    },
    {
      "cell_type": "markdown",
      "source": [
        "#### (1) 재귀적 해법 ####"
      ],
      "metadata": {
        "id": "rUQcP9jWz9al"
      },
      "id": "rUQcP9jWz9al"
    },
    {
      "cell_type": "code",
      "execution_count": 1,
      "id": "44b22aca",
      "metadata": {
        "id": "44b22aca",
        "outputId": "4d43436a-858e-426e-aac9-580074e3dea4",
        "colab": {
          "base_uri": "https://localhost:8080/"
        }
      },
      "outputs": [
        {
          "output_type": "stream",
          "name": "stdout",
          "text": [
            "7 3\n"
          ]
        },
        {
          "output_type": "execute_result",
          "data": {
            "text/plain": [
              "66"
            ]
          },
          "metadata": {},
          "execution_count": 1
        }
      ],
      "source": [
        "m1 = [[6,7,12,5], [5,3,11,18], [7,17,3,3], [8,10,14,9]]   # 교재의 예제\n",
        "m2 = [[6,7], [5,3], [7,17]]\n",
        "m3 = [[6,7,12,5], [5,3,11,18], [7,17,3,3], [8,10,14,9], \n",
        "      [6,7,12,5], [5,3,11,18], [7,17,3,3], [8,10,14,9]]\n",
        "\n",
        "def matrixPath(i,j):\n",
        "  pass  # 구현하시오.\n",
        "\n",
        "m = m3     # m1, m2, m3로 바꿔가면서 테스트해볼 수 있음\n",
        "print(len(m)-1, len(m[0])-1)\n",
        "matrixPath(len(m)-1, len(m[0])-1)"
      ]
    },
    {
      "cell_type": "markdown",
      "source": [
        "#### (2) DP bottom-up ####"
      ],
      "metadata": {
        "id": "-8j1-h62TXAj"
      },
      "id": "-8j1-h62TXAj"
    },
    {
      "cell_type": "code",
      "source": [
        "import copy\n",
        "\n",
        "def matrixPath_DP(i,j):\n",
        "  n1 = len(m)\n",
        "  n2 = len(m[0])\n",
        "  c = copy.deepcopy(m)\n",
        "\n",
        "  pass  # 구현하시오.\n",
        "  \n",
        "  return c[n1-1][n2-1];\n",
        "\n",
        "m = m3     # m1, m2, m3로 바꿔가면서 테스트해볼 수 있음\n",
        "print(len(m)-1, len(m[0])-1)\n",
        "matrixPath_DP(len(m)-1, len(m[0])-1)"
      ],
      "metadata": {
        "colab": {
          "base_uri": "https://localhost:8080/"
        },
        "id": "4WrrHpbJ0dPm",
        "outputId": "fdae0e03-ccf1-4aed-f7a1-8be998c2b6dc"
      },
      "id": "4WrrHpbJ0dPm",
      "execution_count": 2,
      "outputs": [
        {
          "output_type": "stream",
          "name": "stdout",
          "text": [
            "7 3\n"
          ]
        },
        {
          "output_type": "execute_result",
          "data": {
            "text/plain": [
              "66"
            ]
          },
          "metadata": {},
          "execution_count": 2
        }
      ]
    },
    {
      "cell_type": "code",
      "source": [
        "import copy\n",
        "\n",
        "a = [[1,2],[3,4]]\n",
        "b = copy.deepcopy(a)\n",
        "c = copy.deepcopy(a)\n",
        "b[0][0] = 5\n",
        "c[1][1] = 6\n",
        "print(a)\n",
        "print(b)\n",
        "print(c)"
      ],
      "metadata": {
        "colab": {
          "base_uri": "https://localhost:8080/"
        },
        "id": "GIHbIrhKEagz",
        "outputId": "8bf1d340-241f-4bbc-9eaf-73a6d44e3fa5"
      },
      "id": "GIHbIrhKEagz",
      "execution_count": 3,
      "outputs": [
        {
          "output_type": "stream",
          "name": "stdout",
          "text": [
            "[[1, 2], [3, 4]]\n",
            "[[5, 2], [3, 4]]\n",
            "[[1, 2], [3, 6]]\n"
          ]
        }
      ]
    },
    {
      "cell_type": "markdown",
      "id": "0a0541d6",
      "metadata": {
        "id": "0a0541d6"
      },
      "source": [
        "### 문제 예 3: 행렬 곱셈 순서 문제 ###"
      ]
    },
    {
      "cell_type": "markdown",
      "id": "884bc9c5",
      "metadata": {
        "id": "884bc9c5"
      },
      "source": [
        "#### (1) 재귀적 해법 ####"
      ]
    },
    {
      "cell_type": "code",
      "execution_count": 4,
      "id": "4f1ecafc",
      "metadata": {
        "id": "4f1ecafc",
        "outputId": "e99463ab-cc6d-42f1-a1b4-64c99dda2550",
        "colab": {
          "base_uri": "https://localhost:8080/"
        }
      },
      "outputs": [
        {
          "output_type": "stream",
          "name": "stdout",
          "text": [
            "31250\n",
            "\n",
            " 2.05380 sec.\n"
          ]
        }
      ],
      "source": [
        "import math\n",
        "\n",
        "# 10x100, 100x5, 5x50 행렬을 곱하는 경우\n",
        "p1 = [10, 100, 5, 50]   # 교재의 예제\n",
        "p2 = [10, 100, 5]\n",
        "p3 = [10, 100, 5, 50, 10, 100, 5, 50, 10, 100, 5, 50, 10, 100, 5, 50]\n",
        "\n",
        "def matrixChain(i,j):\n",
        "  pass  # 구현하시오.\n",
        "  \n",
        "  return mini\n",
        "\n",
        "import time \n",
        "start_time = time.time()\n",
        "p = p3     # p1, p2, p3로 바꿔가면서 테스트해볼 수 있음\n",
        "print(matrixChain(1,len(p)-1))\n",
        "print(\"\\n %.5f sec.\" % (time.time() - start_time))"
      ]
    },
    {
      "cell_type": "markdown",
      "id": "2f8f9cf5",
      "metadata": {
        "id": "2f8f9cf5"
      },
      "source": [
        "#### (2) DP bottom-up ####"
      ]
    },
    {
      "cell_type": "code",
      "execution_count": 5,
      "id": "f4952d62",
      "metadata": {
        "id": "f4952d62",
        "outputId": "1358e044-5e06-43e6-d87e-53efbe54a29a",
        "colab": {
          "base_uri": "https://localhost:8080/"
        }
      },
      "outputs": [
        {
          "output_type": "stream",
          "name": "stdout",
          "text": [
            "31250\n",
            "\n",
            " 0.00217 sec.\n"
          ]
        }
      ],
      "source": [
        "p1 = [10, 100, 5, 50]\n",
        "def matrixChain_DP():\n",
        "  n = len(p)-1    # n: 행렬 개수\n",
        "  mat = [[0]*(n+1) for x in range(n+1)]\n",
        "    \n",
        "  pass  # 구현하시오.\n",
        "\n",
        "  return mat[1][n]\n",
        "\n",
        "start_time = time.time()\n",
        "p = p3\n",
        "print(matrixChain_DP())\n",
        "print(\"\\n %.5f sec.\" % (time.time() - start_time)) # 재귀적 호출에 비하여 시간이 1/1000 수준으로 단축됨"
      ]
    },
    {
      "cell_type": "code",
      "source": [
        "a = [[0]*2 for x in range(4)]\n",
        "a[1][0]=1\n",
        "a[1][1]=2\n",
        "a[2][0]=3\n",
        "a[2][1]=4\n",
        "a"
      ],
      "metadata": {
        "colab": {
          "base_uri": "https://localhost:8080/"
        },
        "id": "qqpMRc-CKgO0",
        "outputId": "cde3e13e-be88-47f3-b65c-d563ec2c704c"
      },
      "id": "qqpMRc-CKgO0",
      "execution_count": 6,
      "outputs": [
        {
          "output_type": "execute_result",
          "data": {
            "text/plain": [
              "[[0, 0], [1, 2], [3, 4], [0, 0]]"
            ]
          },
          "metadata": {},
          "execution_count": 6
        }
      ]
    },
    {
      "cell_type": "markdown",
      "id": "20912e6f",
      "metadata": {
        "id": "20912e6f"
      },
      "source": [
        "### 문제 예 4: 최장 공통 부분순서 (LCS) ###"
      ]
    },
    {
      "cell_type": "markdown",
      "source": [
        "#### (1) 재귀적 해법 ####"
      ],
      "metadata": {
        "id": "8m9wkzA_z_wO"
      },
      "id": "8m9wkzA_z_wO"
    },
    {
      "cell_type": "code",
      "execution_count": 7,
      "id": "e02edf22",
      "metadata": {
        "scrolled": true,
        "id": "e02edf22",
        "outputId": "1b8907db-6d8e-43ab-c247-668c972e58f0",
        "colab": {
          "base_uri": "https://localhost:8080/"
        }
      },
      "outputs": [
        {
          "output_type": "execute_result",
          "data": {
            "text/plain": [
              "4"
            ]
          },
          "metadata": {},
          "execution_count": 7
        }
      ],
      "source": [
        "x = \"abcbdab\"   # 교재의 예제\n",
        "y = \"bdcaba\"\n",
        "\n",
        "def LCS(m,n):  # m과 n은 비교할 개수\n",
        "  pass  # 구현하시오.\n",
        "\n",
        "LCS(len(x), len(y))"
      ]
    },
    {
      "cell_type": "markdown",
      "source": [
        "#### (2) DP bottom-up ####"
      ],
      "metadata": {
        "id": "uhpAQ-mZ0DFF"
      },
      "id": "uhpAQ-mZ0DFF"
    },
    {
      "cell_type": "code",
      "execution_count": 9,
      "id": "0a33602c",
      "metadata": {
        "id": "0a33602c",
        "outputId": "277f5c7d-8a9f-4c40-eed6-7cd666eea939",
        "colab": {
          "base_uri": "https://localhost:8080/"
        }
      },
      "outputs": [
        {
          "output_type": "execute_result",
          "data": {
            "text/plain": [
              "4"
            ]
          },
          "metadata": {},
          "execution_count": 9
        }
      ],
      "source": [
        "def LCS_DP(m,n):  # m과 n은 비교할 개수\n",
        "  C = [[0]*(n+1) for x in range(m+1)]  # C[i,j]는 i개와 j개의 LCS 길이\n",
        "\n",
        "  pass  # 구현하시오.\n",
        "\n",
        "  return C[m][n]\n",
        "\n",
        "LCS_DP(len(x), len(y))"
      ]
    }
  ],
  "metadata": {
    "kernelspec": {
      "display_name": "Python 3",
      "language": "python",
      "name": "python3"
    },
    "language_info": {
      "codemirror_mode": {
        "name": "ipython",
        "version": 3
      },
      "file_extension": ".py",
      "mimetype": "text/x-python",
      "name": "python",
      "nbconvert_exporter": "python",
      "pygments_lexer": "ipython3",
      "version": "3.8.8"
    },
    "colab": {
      "provenance": [],
      "collapsed_sections": [],
      "include_colab_link": true
    }
  },
  "nbformat": 4,
  "nbformat_minor": 5
}