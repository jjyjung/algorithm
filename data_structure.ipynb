{
  "nbformat": 4,
  "nbformat_minor": 0,
  "metadata": {
    "colab": {
      "provenance": [],
      "collapsed_sections": [],
      "authorship_tag": "ABX9TyNJXcVystlabjFHc1JMW05u",
      "include_colab_link": true
    },
    "kernelspec": {
      "name": "python3",
      "display_name": "Python 3"
    },
    "language_info": {
      "name": "python"
    }
  },
  "cells": [
    {
      "cell_type": "markdown",
      "metadata": {
        "id": "view-in-github",
        "colab_type": "text"
      },
      "source": [
        "<a href=\"https://colab.research.google.com/github/jjyjung/algorithm/blob/gh-pages/data_structure.ipynb\" target=\"_parent\"><img src=\"https://colab.research.google.com/assets/colab-badge.svg\" alt=\"Open In Colab\"/></a>"
      ]
    },
    {
      "cell_type": "markdown",
      "metadata": {
        "id": "tHU55uKlacbs"
      },
      "source": [
        "**리스트(List) => Python list**"
      ]
    },
    {
      "cell_type": "code",
      "metadata": {
        "colab": {
          "base_uri": "https://localhost:8080/"
        },
        "id": "2AuQX8N2aaqU",
        "outputId": "a03bb59d-0c40-4740-a112-70d873c88ed7"
      },
      "source": [
        "A = [1, 2, 3, 4, 5]\n",
        "print(A)"
      ],
      "execution_count": 1,
      "outputs": [
        {
          "output_type": "stream",
          "name": "stdout",
          "text": [
            "[1, 2, 3, 4, 5]\n"
          ]
        }
      ]
    },
    {
      "cell_type": "code",
      "metadata": {
        "colab": {
          "base_uri": "https://localhost:8080/"
        },
        "id": "SRfwa7Yla0OE",
        "outputId": "3f47ded5-1093-4f53-bb44-ab6fdb9c2130"
      },
      "source": [
        "A[2]"
      ],
      "execution_count": 2,
      "outputs": [
        {
          "output_type": "execute_result",
          "data": {
            "text/plain": [
              "3"
            ]
          },
          "metadata": {},
          "execution_count": 2
        }
      ]
    },
    {
      "cell_type": "code",
      "metadata": {
        "colab": {
          "base_uri": "https://localhost:8080/"
        },
        "id": "9zCeZ9o7a536",
        "outputId": "783e4ce5-8642-42ce-d3a2-72ccebbe7cf8"
      },
      "source": [
        "len(A)"
      ],
      "execution_count": 3,
      "outputs": [
        {
          "output_type": "execute_result",
          "data": {
            "text/plain": [
              "5"
            ]
          },
          "metadata": {},
          "execution_count": 3
        }
      ]
    },
    {
      "cell_type": "code",
      "metadata": {
        "id": "CcCFpQqSa9ND",
        "colab": {
          "base_uri": "https://localhost:8080/"
        },
        "outputId": "ddf3a24c-eae5-4f6c-ff99-41a1b1e35bbe"
      },
      "source": [
        "A.append(9)\n",
        "A"
      ],
      "execution_count": 4,
      "outputs": [
        {
          "output_type": "execute_result",
          "data": {
            "text/plain": [
              "[1, 2, 3, 4, 5, 9]"
            ]
          },
          "metadata": {},
          "execution_count": 4
        }
      ]
    },
    {
      "cell_type": "code",
      "metadata": {
        "colab": {
          "base_uri": "https://localhost:8080/"
        },
        "id": "ezJwj9UYbFWG",
        "outputId": "3069f5eb-63a4-480a-b071-b6b2a091bdeb"
      },
      "source": [
        "val = A.pop()\n",
        "print(val)\n",
        "print(A)"
      ],
      "execution_count": 5,
      "outputs": [
        {
          "output_type": "stream",
          "name": "stdout",
          "text": [
            "9\n",
            "[1, 2, 3, 4, 5]\n"
          ]
        }
      ]
    },
    {
      "cell_type": "code",
      "metadata": {
        "colab": {
          "base_uri": "https://localhost:8080/"
        },
        "id": "xXSuGs_LbLm8",
        "outputId": "5cdfbe4d-0dda-4f6a-a696-d79c4b580272"
      },
      "source": [
        "val = A.pop(2)\n",
        "print(val)\n",
        "print(A)"
      ],
      "execution_count": 6,
      "outputs": [
        {
          "output_type": "stream",
          "name": "stdout",
          "text": [
            "3\n",
            "[1, 2, 4, 5]\n"
          ]
        }
      ]
    },
    {
      "cell_type": "markdown",
      "metadata": {
        "id": "ELuiWnQ6cDPs"
      },
      "source": [
        "**스택(Stack) => Python list 또는 queue.LifoQueue**"
      ]
    },
    {
      "cell_type": "code",
      "metadata": {
        "id": "SslSwKMPcJI0"
      },
      "source": [
        "S = ['A', 'B', 'C']"
      ],
      "execution_count": 7,
      "outputs": []
    },
    {
      "cell_type": "code",
      "metadata": {
        "colab": {
          "base_uri": "https://localhost:8080/"
        },
        "id": "1DIAwqL8cR0J",
        "outputId": "a0337b89-4275-49d6-a43b-2ee4a080bac6"
      },
      "source": [
        "S.append('D')\n",
        "S.append('E')\n",
        "S"
      ],
      "execution_count": 8,
      "outputs": [
        {
          "output_type": "execute_result",
          "data": {
            "text/plain": [
              "['A', 'B', 'C', 'D', 'E']"
            ]
          },
          "metadata": {},
          "execution_count": 8
        }
      ]
    },
    {
      "cell_type": "code",
      "metadata": {
        "colab": {
          "base_uri": "https://localhost:8080/"
        },
        "id": "ve64aUjscU7D",
        "outputId": "78331059-7056-4cc3-ba1c-70606b26e278"
      },
      "source": [
        "S.pop()\n",
        "S"
      ],
      "execution_count": 9,
      "outputs": [
        {
          "output_type": "execute_result",
          "data": {
            "text/plain": [
              "['A', 'B', 'C', 'D']"
            ]
          },
          "metadata": {},
          "execution_count": 9
        }
      ]
    },
    {
      "cell_type": "markdown",
      "metadata": {
        "id": "w_c4DgQodCeX"
      },
      "source": [
        "**큐(Queue) => queue.Queue**"
      ]
    },
    {
      "cell_type": "code",
      "metadata": {
        "id": "87IGo5Z1dFdU"
      },
      "source": [
        "import queue\n",
        "Q = queue.Queue(maxsize=10)\n",
        "S = queue.LifoQueue(maxsize=10)"
      ],
      "execution_count": 10,
      "outputs": []
    },
    {
      "cell_type": "code",
      "metadata": {
        "colab": {
          "base_uri": "https://localhost:8080/"
        },
        "id": "vUsO6N2HdMrV",
        "outputId": "f4cc9eae-5fc5-4b6d-9b9f-42f98b0a51ad"
      },
      "source": [
        "Q.put(20)  # enqueue\n",
        "Q.put(21)\n",
        "Q.put(22)\n",
        "Q.put(23)\n",
        "val = Q.get()  # dequeue\n",
        "val"
      ],
      "execution_count": 11,
      "outputs": [
        {
          "output_type": "execute_result",
          "data": {
            "text/plain": [
              "20"
            ]
          },
          "metadata": {},
          "execution_count": 11
        }
      ]
    },
    {
      "cell_type": "code",
      "metadata": {
        "colab": {
          "base_uri": "https://localhost:8080/"
        },
        "id": "b5s6DAdydkys",
        "outputId": "ccd6dec1-0969-430e-e3d4-514c990bc6b1"
      },
      "source": [
        "S.put(30)\n",
        "S.put(31)\n",
        "S.put(32)\n",
        "S.put(33)\n",
        "val = S.get()\n",
        "print(val)"
      ],
      "execution_count": 12,
      "outputs": [
        {
          "output_type": "stream",
          "name": "stdout",
          "text": [
            "33\n"
          ]
        }
      ]
    },
    {
      "cell_type": "markdown",
      "metadata": {
        "id": "qCCbdN21ehPa"
      },
      "source": [
        "**집합(Set) => Python set**"
      ]
    },
    {
      "cell_type": "code",
      "metadata": {
        "id": "KRj-k2lceg5J"
      },
      "source": [
        "s1 = {1,2,3}\n",
        "s2 = {2,3,4,5}\n",
        "s3 = s1.union(s2)  # 합집합\n",
        "s4 = s1.intersection(s2) # 교집합\n",
        "s5 = s1 - s2  # 차집합"
      ],
      "execution_count": 13,
      "outputs": []
    },
    {
      "cell_type": "code",
      "metadata": {
        "colab": {
          "base_uri": "https://localhost:8080/"
        },
        "id": "u7f8xu7Od-6r",
        "outputId": "91074fda-8553-420e-d4ec-61dd586fd13e"
      },
      "source": [
        "s3"
      ],
      "execution_count": 14,
      "outputs": [
        {
          "output_type": "execute_result",
          "data": {
            "text/plain": [
              "{1, 2, 3, 4, 5}"
            ]
          },
          "metadata": {},
          "execution_count": 14
        }
      ]
    },
    {
      "cell_type": "code",
      "metadata": {
        "colab": {
          "base_uri": "https://localhost:8080/"
        },
        "id": "uLKn9rWsey22",
        "outputId": "472070ca-4020-48f7-bf62-22acf63ce414"
      },
      "source": [
        "s4"
      ],
      "execution_count": 15,
      "outputs": [
        {
          "output_type": "execute_result",
          "data": {
            "text/plain": [
              "{2, 3}"
            ]
          },
          "metadata": {},
          "execution_count": 15
        }
      ]
    },
    {
      "cell_type": "code",
      "metadata": {
        "colab": {
          "base_uri": "https://localhost:8080/"
        },
        "id": "YYvv8bBSe1VC",
        "outputId": "70463f2a-7636-4d3a-b188-459792fd2d4c"
      },
      "source": [
        "s5"
      ],
      "execution_count": 16,
      "outputs": [
        {
          "output_type": "execute_result",
          "data": {
            "text/plain": [
              "{1}"
            ]
          },
          "metadata": {},
          "execution_count": 16
        }
      ]
    },
    {
      "cell_type": "markdown",
      "metadata": {
        "id": "fivXRDUqfKt5"
      },
      "source": [
        "**맵(Map) 또는 딕셔너리(Dictionary) => Python dictionary**"
      ]
    },
    {
      "cell_type": "code",
      "metadata": {
        "id": "5xV_eAK3fJ-a"
      },
      "source": [
        "dict = { '김연아':'피겨', '류현진':'야구', '쿠드롱':'당구', '메시':'축구' }"
      ],
      "execution_count": 17,
      "outputs": []
    },
    {
      "cell_type": "code",
      "metadata": {
        "colab": {
          "base_uri": "https://localhost:8080/"
        },
        "id": "98rtLePEfQ3b",
        "outputId": "c400e933-83b9-434a-9aa5-463ec50d3d53"
      },
      "source": [
        "print(dict)"
      ],
      "execution_count": 18,
      "outputs": [
        {
          "output_type": "stream",
          "name": "stdout",
          "text": [
            "{'김연아': '피겨', '류현진': '야구', '쿠드롱': '당구', '메시': '축구'}\n"
          ]
        }
      ]
    },
    {
      "cell_type": "code",
      "metadata": {
        "colab": {
          "base_uri": "https://localhost:8080/"
        },
        "id": "r3baIbUafSZs",
        "outputId": "a41044c2-0fba-4ba6-f49f-48fdbcb59d0e"
      },
      "source": [
        "print(\"쿠드롱은 \", dict['쿠드롱'])"
      ],
      "execution_count": 19,
      "outputs": [
        {
          "output_type": "stream",
          "name": "stdout",
          "text": [
            "쿠드롱은  당구\n"
          ]
        }
      ]
    },
    {
      "cell_type": "code",
      "metadata": {
        "id": "omOGRwn3fe1V"
      },
      "source": [
        "dict['정재윤'] = '교수'"
      ],
      "execution_count": 20,
      "outputs": []
    },
    {
      "cell_type": "code",
      "metadata": {
        "colab": {
          "base_uri": "https://localhost:8080/"
        },
        "id": "eIsFunNhfm50",
        "outputId": "71b916ea-80c4-4ecc-ada9-f36b46ee293e"
      },
      "source": [
        "dict"
      ],
      "execution_count": 21,
      "outputs": [
        {
          "output_type": "execute_result",
          "data": {
            "text/plain": [
              "{'김연아': '피겨', '류현진': '야구', '쿠드롱': '당구', '메시': '축구', '정재윤': '교수'}"
            ]
          },
          "metadata": {},
          "execution_count": 21
        }
      ]
    },
    {
      "cell_type": "code",
      "metadata": {
        "colab": {
          "base_uri": "https://localhost:8080/"
        },
        "id": "XQghd6a_foja",
        "outputId": "192bb8f6-b82b-418e-e054-956eb9e0e3a1"
      },
      "source": [
        "key = '홍길동'\n",
        "if key in dict:\n",
        "  print(key, ': dict에 존재합니다')\n",
        "else:\n",
        "  print(key, '이 dict에 존재하지 않습니다')"
      ],
      "execution_count": 22,
      "outputs": [
        {
          "output_type": "stream",
          "name": "stdout",
          "text": [
            "홍길동 이 dict에 존재하지 않습니다\n"
          ]
        }
      ]
    }
  ]
}