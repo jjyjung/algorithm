{
  "nbformat": 4,
  "nbformat_minor": 0,
  "metadata": {
    "colab": {
      "provenance": [],
      "collapsed_sections": [],
      "authorship_tag": "ABX9TyOSh54aIQMr8KRkD+t3WKey",
      "include_colab_link": true
    },
    "kernelspec": {
      "name": "python3",
      "display_name": "Python 3"
    },
    "language_info": {
      "name": "python"
    }
  },
  "cells": [
    {
      "cell_type": "markdown",
      "metadata": {
        "id": "view-in-github",
        "colab_type": "text"
      },
      "source": [
        "<a href=\"https://colab.research.google.com/github/jjyjung/algorithm/blob/gh-pages/ch4.ipynb\" target=\"_parent\"><img src=\"https://colab.research.google.com/assets/colab-badge.svg\" alt=\"Open In Colab\"/></a>"
      ]
    },
    {
      "cell_type": "markdown",
      "metadata": {
        "id": "WHqIt2OOfqas"
      },
      "source": [
        "# **Ch.4 (정렬) 예시**"
      ]
    },
    {
      "cell_type": "markdown",
      "metadata": {
        "id": "-tcS0m6QdXn2"
      },
      "source": [
        "**역순 range**\n",
        "* range(start, stop, step)\n",
        "* https://www.w3schools.com/python/ref_func_range.asp\n",
        "* 예) range(5, 0, -1) => [5,4,3,2,1] \n",
        "\n",
        "**역순 for 루프**\n",
        "* for i in range(5, 0, -1): 은\n",
        "* for i in [5,4,3,2,1]: 과 동일함\n",
        "\n",
        "\n"
      ]
    },
    {
      "cell_type": "code",
      "metadata": {
        "id": "_7V8tw8rtofx",
        "colab": {
          "base_uri": "https://localhost:8080/"
        },
        "outputId": "d1e8e35d-2d99-41bd-920c-b775b4ad1c4c"
      },
      "source": [
        "# 역순 for문 예시\n",
        "for i in range(5, 0, -1):\n",
        "  print(i, end=' ')\n",
        "\n",
        "print()\n",
        "\n",
        "# 위와 동일\n",
        "for i in [5,4,3,2,1]:\n",
        "  print(i, end=' ')"
      ],
      "execution_count": 2,
      "outputs": [
        {
          "output_type": "stream",
          "name": "stdout",
          "text": [
            "5 4 3 2 1 \n",
            "5 4 3 2 1 "
          ]
        }
      ]
    },
    {
      "cell_type": "markdown",
      "metadata": {
        "id": "isJbXA12gcal"
      },
      "source": [
        "**선택정렬(selction sort)**"
      ]
    },
    {
      "cell_type": "code",
      "source": [
        "def selectionSort(A):\n",
        "  n = len(A)\n",
        "  pass\n",
        "  return A  #최종결과 반환용\n",
        "\n",
        "A = [3,7,2,5]\n",
        "A = selectionSort(A)"
      ],
      "metadata": {
        "id": "FfA3Ygpe94Xa"
      },
      "execution_count": 3,
      "outputs": []
    },
    {
      "cell_type": "code",
      "source": [
        "def selectionSort(A):\n",
        "  n = len(A)\n",
        "  for last in range(n-1,0,-1):\n",
        "    k = theLargest(A, last)\n",
        "    A[k], A[last] = A[last], A[k]  # 파이썬의 값 교환 코드!!\n",
        "    print(last, \":\", A)  # 회차별 결과 확인용\n",
        "  return A  #최종결과 반환용\n",
        "\n",
        "def theLargest(A, last):\n",
        "  largest = 0\n",
        "  for i in range(1, last+1):\n",
        "    if A[i] > A[largest]:\n",
        "      largest = i\n",
        "  return largest\n",
        "\n",
        "A = [3,7,2,5]\n",
        "A = selectionSort(A)"
      ],
      "metadata": {
        "colab": {
          "base_uri": "https://localhost:8080/"
        },
        "id": "2cql2MSNsYzG",
        "outputId": "fde7de17-0f33-4b7c-a5be-afc3ba6d1538"
      },
      "execution_count": 22,
      "outputs": [
        {
          "output_type": "stream",
          "name": "stdout",
          "text": [
            "3 : [3, 5, 2, 7]\n",
            "2 : [3, 2, 5, 7]\n",
            "1 : [2, 3, 5, 7]\n"
          ]
        }
      ]
    },
    {
      "cell_type": "code",
      "metadata": {
        "colab": {
          "base_uri": "https://localhost:8080/"
        },
        "id": "TiC8Dub2ovoj",
        "outputId": "cc1a5cd1-aa8d-48ab-99ac-b29e20ed4e82"
      },
      "source": [
        "# 교재의 예시\n",
        "B = [8,31,48,73,3,65,20,29,11,15]\n",
        "B = selectionSort(B)"
      ],
      "execution_count": 23,
      "outputs": [
        {
          "output_type": "stream",
          "name": "stdout",
          "text": [
            "9 : [8, 31, 48, 15, 3, 65, 20, 29, 11, 73]\n",
            "8 : [8, 31, 48, 15, 3, 11, 20, 29, 65, 73]\n",
            "7 : [8, 31, 29, 15, 3, 11, 20, 48, 65, 73]\n",
            "6 : [8, 20, 29, 15, 3, 11, 31, 48, 65, 73]\n",
            "5 : [8, 20, 11, 15, 3, 29, 31, 48, 65, 73]\n",
            "4 : [8, 3, 11, 15, 20, 29, 31, 48, 65, 73]\n",
            "3 : [8, 3, 11, 15, 20, 29, 31, 48, 65, 73]\n",
            "2 : [8, 3, 11, 15, 20, 29, 31, 48, 65, 73]\n",
            "1 : [3, 8, 11, 15, 20, 29, 31, 48, 65, 73]\n"
          ]
        }
      ]
    },
    {
      "cell_type": "markdown",
      "metadata": {
        "id": "LkzoAiLageed"
      },
      "source": [
        "**버블정렬(bubble sort) - 직접 풀어보기**"
      ]
    },
    {
      "cell_type": "code",
      "metadata": {
        "colab": {
          "base_uri": "https://localhost:8080/"
        },
        "id": "wQG1eDj-wOaA",
        "outputId": "4fd5d3f3-5405-4136-b22d-9c144dc0388c"
      },
      "source": [
        "def bubbleSort(A):\n",
        "  n = len(A)\n",
        "  pass # 이 부분을 직접 코딩해보시오.\n",
        "  return A  #최종결과 반환용\n",
        "\n",
        "A = [3,7,2,5]\n",
        "bubbleSort(A)"
      ],
      "execution_count": null,
      "outputs": [
        {
          "output_type": "stream",
          "name": "stdout",
          "text": [
            "3 : [3, 2, 5, 7]\n",
            "2 : [2, 3, 5, 7]\n",
            "1 : [2, 3, 5, 7]\n"
          ]
        },
        {
          "output_type": "execute_result",
          "data": {
            "text/plain": [
              "[2, 3, 5, 7]"
            ]
          },
          "metadata": {},
          "execution_count": 12
        }
      ]
    },
    {
      "cell_type": "code",
      "source": [
        "def bubbleSort(A):\n",
        "  print(A)\n",
        "  n = len(A)\n",
        "  for last in range(n-1, 0, -1):\n",
        "    for i in range(0, last):\n",
        "      if A[i] > A[i+1]:\n",
        "        A[i], A[i+1] = A[i+1], A[i]\n",
        "      print(\": \", A)\n",
        "    print(last, \": \", A)\n",
        "  return A  #최종결과 반환용\n",
        "\n",
        "A = [3,7,2,5]\n",
        "bubbleSort(A)"
      ],
      "metadata": {
        "colab": {
          "base_uri": "https://localhost:8080/"
        },
        "id": "p33_NDq-xbUb",
        "outputId": "6e542132-b865-4748-f90d-e1d7f597a8d3"
      },
      "execution_count": 20,
      "outputs": [
        {
          "output_type": "stream",
          "name": "stdout",
          "text": [
            "[3, 7, 2, 5]\n",
            ":  [3, 7, 2, 5]\n",
            ":  [3, 2, 7, 5]\n",
            ":  [3, 2, 5, 7]\n",
            "3 :  [3, 2, 5, 7]\n",
            ":  [2, 3, 5, 7]\n",
            ":  [2, 3, 5, 7]\n",
            "2 :  [2, 3, 5, 7]\n",
            ":  [2, 3, 5, 7]\n",
            "1 :  [2, 3, 5, 7]\n"
          ]
        },
        {
          "output_type": "execute_result",
          "data": {
            "text/plain": [
              "[2, 3, 5, 7]"
            ]
          },
          "metadata": {},
          "execution_count": 20
        }
      ]
    },
    {
      "cell_type": "code",
      "metadata": {
        "colab": {
          "base_uri": "https://localhost:8080/"
        },
        "id": "FaggEZX2r1_u",
        "outputId": "c3e7a6ed-9020-4657-b2a1-a57beaae9dcd"
      },
      "source": [
        "# 교재의 예시\n",
        "B = [29,10,14,37,13]\n",
        "B = bubbleSort(B)"
      ],
      "execution_count": 21,
      "outputs": [
        {
          "output_type": "stream",
          "name": "stdout",
          "text": [
            "[29, 10, 14, 37, 13]\n",
            ":  [10, 29, 14, 37, 13]\n",
            ":  [10, 14, 29, 37, 13]\n",
            ":  [10, 14, 29, 37, 13]\n",
            ":  [10, 14, 29, 13, 37]\n",
            "4 :  [10, 14, 29, 13, 37]\n",
            ":  [10, 14, 29, 13, 37]\n",
            ":  [10, 14, 29, 13, 37]\n",
            ":  [10, 14, 13, 29, 37]\n",
            "3 :  [10, 14, 13, 29, 37]\n",
            ":  [10, 14, 13, 29, 37]\n",
            ":  [10, 13, 14, 29, 37]\n",
            "2 :  [10, 13, 14, 29, 37]\n",
            ":  [10, 13, 14, 29, 37]\n",
            "1 :  [10, 13, 14, 29, 37]\n"
          ]
        }
      ]
    },
    {
      "cell_type": "markdown",
      "metadata": {
        "id": "bNr0kTA3gjH9"
      },
      "source": [
        "**병합정렬(merge sort) - 과제 (10/4까지)**"
      ]
    },
    {
      "cell_type": "code",
      "metadata": {
        "colab": {
          "base_uri": "https://localhost:8080/"
        },
        "id": "T7QTx-hSqqDo",
        "outputId": "bf58138b-fb0f-42c4-9812-7f3d1bf9fb7f"
      },
      "source": [
        "def mergeSort(A, p, r): # A:배열, p:시작index, r:종료index\n",
        "  pass # 과제 채우기\n",
        "  return A  # 최종결과 반환용\n",
        "\n",
        "def merge(A, p, q, r): # q: 앞쪽 배열의 마지막 index\n",
        "  pass # 과제 채우기\n",
        "\n",
        "A = [3,7,2,5]\n",
        "mergeSort(A, 0, len(A)-1)"
      ],
      "execution_count": null,
      "outputs": [
        {
          "output_type": "execute_result",
          "data": {
            "text/plain": [
              "[3, 7, 2, 5]"
            ]
          },
          "metadata": {},
          "execution_count": 3
        }
      ]
    },
    {
      "cell_type": "code",
      "metadata": {
        "colab": {
          "base_uri": "https://localhost:8080/"
        },
        "id": "4iwDvk5Gs6Tt",
        "outputId": "38ace491-71a2-4726-fb54-aee121dc8f22"
      },
      "source": [
        "# 교재 예시\n",
        "B = [31,3,65,73,8,11,20,29,48,15]\n",
        "mergeSort(B, 0, len(B)-1)"
      ],
      "execution_count": null,
      "outputs": [
        {
          "output_type": "stream",
          "name": "stdout",
          "text": [
            "merge: [3, 31, 0, 0, 0, 0, 0, 0, 0, 0]\n",
            "merge: [3, 31, 65, 0, 0, 0, 0, 0, 0, 0]\n",
            "merge: [8, 73, 0, 0, 0, 0, 0, 0, 0, 0]\n",
            "merge: [3, 8, 31, 65, 73, 0, 0, 0, 0, 0]\n",
            "merge: [11, 20, 0, 0, 0, 0, 0, 0, 0, 0]\n",
            "merge: [11, 20, 29, 0, 0, 0, 0, 0, 0, 0]\n",
            "merge: [15, 48, 0, 0, 0, 0, 0, 0, 0, 0]\n",
            "merge: [11, 15, 20, 29, 48, 0, 0, 0, 0, 0]\n",
            "merge: [3, 8, 11, 15, 20, 29, 31, 48, 65, 73]\n"
          ]
        },
        {
          "output_type": "execute_result",
          "data": {
            "text/plain": [
              "[3, 8, 11, 15, 20, 29, 31, 48, 65, 73]"
            ]
          },
          "metadata": {},
          "execution_count": 6
        }
      ]
    },
    {
      "cell_type": "markdown",
      "metadata": {
        "id": "iwPeZlj4oR6X"
      },
      "source": [
        "**삽입정렬(Insertion Sort)**"
      ]
    },
    {
      "cell_type": "code",
      "metadata": {
        "id": "yCpjUoTij2vg"
      },
      "source": [
        "def insertionSort(A):\n",
        "  n = len(A)\n",
        "  pass\n",
        "\n",
        "A = [3,7,2,5]\n",
        "insertionSort(A)"
      ],
      "execution_count": null,
      "outputs": []
    },
    {
      "cell_type": "code",
      "metadata": {
        "colab": {
          "base_uri": "https://localhost:8080/"
        },
        "id": "El3f_DqUi2lq",
        "outputId": "a28c3ed1-cf40-48e7-c9a1-c74aa7075ad8"
      },
      "source": [
        "def insertionSort(A):\n",
        "  print(A)\n",
        "  n = len(A)\n",
        "  for i in range(1, n):  # A[0, 1, ... n-1]\n",
        "    loc = i-1\n",
        "    newItem = A[i]\n",
        "    while loc >= 0 and newItem < A[loc]:\n",
        "      A[loc+1] = A[loc]\n",
        "      loc -= 1\n",
        "    A[loc+1] = newItem\n",
        "    print(i, \":\", A)  # 회차별 결과 확인용\n",
        "  return A\n",
        "\n",
        "A = [3,7,2,5]\n",
        "insertionSort(A)"
      ],
      "execution_count": 24,
      "outputs": [
        {
          "output_type": "stream",
          "name": "stdout",
          "text": [
            "[3, 7, 2, 5]\n",
            "1 : [3, 7, 2, 5]\n",
            "2 : [2, 3, 7, 5]\n",
            "3 : [2, 3, 5, 7]\n"
          ]
        },
        {
          "output_type": "execute_result",
          "data": {
            "text/plain": [
              "[2, 3, 5, 7]"
            ]
          },
          "metadata": {},
          "execution_count": 24
        }
      ]
    },
    {
      "cell_type": "code",
      "metadata": {
        "id": "PQCkZXCltKw1",
        "colab": {
          "base_uri": "https://localhost:8080/"
        },
        "outputId": "b526cf57-6306-40ee-e2f7-f3a96da6d552"
      },
      "source": [
        "B = [29,10,14,37,13]\n",
        "insertionSort(B)"
      ],
      "execution_count": 25,
      "outputs": [
        {
          "output_type": "stream",
          "name": "stdout",
          "text": [
            "[29, 10, 14, 37, 13]\n",
            "1 : [10, 29, 14, 37, 13]\n",
            "2 : [10, 14, 29, 37, 13]\n",
            "3 : [10, 14, 29, 37, 13]\n",
            "4 : [10, 13, 14, 29, 37]\n"
          ]
        },
        {
          "output_type": "execute_result",
          "data": {
            "text/plain": [
              "[10, 13, 14, 29, 37]"
            ]
          },
          "metadata": {},
          "execution_count": 25
        }
      ]
    },
    {
      "cell_type": "markdown",
      "metadata": {
        "id": "HAq1SEwSn9e-"
      },
      "source": [
        "**퀵정렬(Quick Sort)- 과제 (10/4까지)**\n"
      ]
    },
    {
      "cell_type": "code",
      "metadata": {
        "id": "TfJQlsJBoHaF"
      },
      "source": [
        "def quickSort(A):\n",
        "  n = len(A)\n",
        "  pass\n",
        "\n",
        "def partition(A, p, r):\n",
        "  pass\n",
        "  \n",
        "A = [3,7,2,5]\n",
        "quickSort(A)"
      ],
      "execution_count": null,
      "outputs": []
    },
    {
      "cell_type": "code",
      "metadata": {
        "id": "mB9v_Eznt84f",
        "colab": {
          "base_uri": "https://localhost:8080/"
        },
        "outputId": "6bbda9cf-6b93-4a72-e485-717fe65fb817"
      },
      "source": [
        "B = [31,8,48,73,11,3,20,29,65,15]\n",
        "quickSort(B, 0, len(B)-1)"
      ],
      "execution_count": null,
      "outputs": [
        {
          "output_type": "stream",
          "name": "stdout",
          "text": [
            "[31, 8, 48, 73, 11, 3, 20, 29, 65, 15] => [8, 11, 3, 15, 31, 48, 20, 29, 65, 73] => [8, 11, 3, 15, 31, 48, 20, 29, 65, 73]\n",
            "[8, 11, 3] => [3, 11, 8] => [3, 11, 8, 15, 31, 48, 20, 29, 65, 73]\n",
            "[11, 8] => [8, 11] => [3, 8, 11, 15, 31, 48, 20, 29, 65, 73]\n",
            "[31, 48, 20, 29, 65, 73] => [31, 48, 20, 29, 65, 73] => [3, 8, 11, 15, 31, 48, 20, 29, 65, 73]\n",
            "[31, 48, 20, 29, 65] => [31, 48, 20, 29, 65] => [3, 8, 11, 15, 31, 48, 20, 29, 65, 73]\n",
            "[31, 48, 20, 29] => [20, 29, 31, 48] => [3, 8, 11, 15, 20, 29, 31, 48, 65, 73]\n",
            "[31, 48] => [31, 48] => [3, 8, 11, 15, 20, 29, 31, 48, 65, 73]\n"
          ]
        },
        {
          "output_type": "execute_result",
          "data": {
            "text/plain": [
              "[3, 8, 11, 15, 20, 29, 31, 48, 65, 73]"
            ]
          },
          "metadata": {},
          "execution_count": 13
        }
      ]
    },
    {
      "cell_type": "markdown",
      "metadata": {
        "id": "mtEtBXBnn9Rf"
      },
      "source": [
        "**힙정렬(Heap Sort)- 과제 (10/4까지)**\n"
      ]
    },
    {
      "cell_type": "code",
      "metadata": {
        "id": "ZHyTDwQyoBJX"
      },
      "source": [
        "def heapSort(A):\n",
        "  n = len(A)\n",
        "  pass\n",
        "\n",
        "def buildHeap(A):\n",
        "  pass\n",
        "\n",
        "def heapify(A, k, n):\n",
        "  pass\n",
        "\n",
        "A = [3,7,2,5]\n",
        "heapSort(A)"
      ],
      "execution_count": null,
      "outputs": []
    },
    {
      "cell_type": "code",
      "metadata": {
        "id": "q7CUY8yjufuV",
        "colab": {
          "base_uri": "https://localhost:8080/"
        },
        "outputId": "4b82e664-3733-413e-83bc-f69250744151"
      },
      "source": [
        "B = [3,6,4,8,9,7]\n",
        "heapSort(B)"
      ],
      "execution_count": null,
      "outputs": [
        {
          "output_type": "stream",
          "name": "stdout",
          "text": [
            "buildHeap rusult :  [3, 4, 6, 8, 9, 7]\n",
            "5 : [4, 6, 7, 8, 9, 3]\n",
            "4 : [6, 7, 9, 8, 4, 3]\n",
            "3 : [7, 8, 9, 6, 4, 3]\n",
            "2 : [8, 9, 7, 6, 4, 3]\n",
            "1 : [9, 8, 7, 6, 4, 3]\n"
          ]
        },
        {
          "output_type": "execute_result",
          "data": {
            "text/plain": [
              "[9, 8, 7, 6, 4, 3]"
            ]
          },
          "metadata": {},
          "execution_count": 16
        }
      ]
    },
    {
      "cell_type": "markdown",
      "metadata": {
        "id": "VpMZcJlcDIdw"
      },
      "source": [
        "**기수정렬(Radix Sort)**\n",
        "\n",
        "교재의 유사코드로는 구현이 힘들므로 구현 생략.\n"
      ]
    },
    {
      "cell_type": "markdown",
      "metadata": {
        "id": "YihnBPMz90Ko"
      },
      "source": [
        "**계수정렬(Count Sort)**"
      ]
    },
    {
      "cell_type": "code",
      "metadata": {
        "colab": {
          "base_uri": "https://localhost:8080/"
        },
        "id": "9orPqAA1D5Wi",
        "outputId": "4a7474d0-9f7f-4d8f-9fc0-94f1bb98e895"
      },
      "source": [
        "def countingSort(A, k):\n",
        "  n = len(A)\n",
        "  pass\n",
        "  return B\n",
        "\n",
        "A = [3,7,2,5]\n",
        "countingSort(A, 10)"
      ],
      "execution_count": null,
      "outputs": [
        {
          "output_type": "execute_result",
          "data": {
            "text/plain": [
              "[9, 8, 7, 6, 4, 3]"
            ]
          },
          "metadata": {},
          "execution_count": 17
        }
      ]
    },
    {
      "cell_type": "code",
      "metadata": {
        "colab": {
          "base_uri": "https://localhost:8080/"
        },
        "id": "jlopfu4F93qZ",
        "outputId": "1271ed72-a4e3-4090-e63d-99d0b75195f7"
      },
      "source": [
        "def countingSort(A, k):\n",
        "  pass\n",
        "\n",
        "A = [3,7,2,5]\n",
        "countingSort(A, 10)"
      ],
      "execution_count": null,
      "outputs": [
        {
          "output_type": "stream",
          "name": "stdout",
          "text": [
            "카운트: C = [0, 1, 1, 0, 1, 0, 1, 0, 0, 0]\n",
            "누  적: C = [0, 1, 2, 2, 3, 3, 4, 4, 4, 4]\n",
            "삽입대상:A[j] = 5, 삽입위치:C[A[j]-1] = 3, 삽입결과:B = [0, 0, 5, 0]\n",
            "삽입대상:A[j] = 2, 삽입위치:C[A[j]-1] = 1, 삽입결과:B = [2, 0, 5, 0]\n",
            "삽입대상:A[j] = 7, 삽입위치:C[A[j]-1] = 4, 삽입결과:B = [2, 0, 5, 7]\n",
            "삽입대상:A[j] = 3, 삽입위치:C[A[j]-1] = 2, 삽입결과:B = [2, 3, 5, 7]\n"
          ]
        },
        {
          "output_type": "execute_result",
          "data": {
            "text/plain": [
              "[2, 3, 5, 7]"
            ]
          },
          "metadata": {},
          "execution_count": 18
        }
      ]
    },
    {
      "cell_type": "code",
      "metadata": {
        "colab": {
          "base_uri": "https://localhost:8080/"
        },
        "id": "CLb__QiwDh6_",
        "outputId": "4ed440e5-2035-47c6-c02d-87bd45b539c8"
      },
      "source": [
        "B = [2, 1, 2, 4, 7, 3, 1, 2, 4]\n",
        "countingSort(B, 10)"
      ],
      "execution_count": null,
      "outputs": [
        {
          "output_type": "stream",
          "name": "stdout",
          "text": [
            "카운트: C = [2, 3, 1, 2, 0, 0, 1, 0, 0, 0]\n",
            "누  적: C = [2, 5, 6, 8, 8, 8, 9, 9, 9, 9]\n",
            "삽입대상:A[j] = 4, 삽입위치:C[A[j]-1] = 8, 삽입결과:B = [0, 0, 0, 0, 0, 0, 0, 4, 0]\n",
            "삽입대상:A[j] = 2, 삽입위치:C[A[j]-1] = 5, 삽입결과:B = [0, 0, 0, 0, 2, 0, 0, 4, 0]\n",
            "삽입대상:A[j] = 1, 삽입위치:C[A[j]-1] = 2, 삽입결과:B = [0, 1, 0, 0, 2, 0, 0, 4, 0]\n",
            "삽입대상:A[j] = 3, 삽입위치:C[A[j]-1] = 6, 삽입결과:B = [0, 1, 0, 0, 2, 3, 0, 4, 0]\n",
            "삽입대상:A[j] = 7, 삽입위치:C[A[j]-1] = 9, 삽입결과:B = [0, 1, 0, 0, 2, 3, 0, 4, 7]\n",
            "삽입대상:A[j] = 4, 삽입위치:C[A[j]-1] = 7, 삽입결과:B = [0, 1, 0, 0, 2, 3, 4, 4, 7]\n",
            "삽입대상:A[j] = 2, 삽입위치:C[A[j]-1] = 4, 삽입결과:B = [0, 1, 0, 2, 2, 3, 4, 4, 7]\n",
            "삽입대상:A[j] = 1, 삽입위치:C[A[j]-1] = 1, 삽입결과:B = [1, 1, 0, 2, 2, 3, 4, 4, 7]\n",
            "삽입대상:A[j] = 2, 삽입위치:C[A[j]-1] = 3, 삽입결과:B = [1, 1, 2, 2, 2, 3, 4, 4, 7]\n"
          ]
        },
        {
          "output_type": "execute_result",
          "data": {
            "text/plain": [
              "[1, 1, 2, 2, 2, 3, 4, 4, 7]"
            ]
          },
          "metadata": {},
          "execution_count": 19
        }
      ]
    }
  ]
}
