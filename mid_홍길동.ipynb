{
  "cells": [
    {
      "cell_type": "markdown",
      "metadata": {
        "id": "view-in-github",
        "colab_type": "text"
      },
      "source": [
        "<a href=\"https://colab.research.google.com/github/jjyjung/algorithm/blob/gh-pages/mid_%ED%99%8D%EA%B8%B8%EB%8F%99.ipynb\" target=\"_parent\"><img src=\"https://colab.research.google.com/assets/colab-badge.svg\" alt=\"Open In Colab\"/></a>"
      ]
    },
    {
      "cell_type": "markdown",
      "id": "5425f3b9",
      "metadata": {
        "id": "5425f3b9"
      },
      "source": [
        "<a href=\"https://colab.research.google.com/github/jjyjung/algorithm/blob/gh-pages/mid_%ED%99%8D%EA%B8%B8%EB%8F%99.ipynb\" target=\"_parent\"><img src=\"https://colab.research.google.com/assets/colab-badge.svg\" alt=\"Open In Colab\"/></a>"
      ]
    },
    {
      "cell_type": "markdown",
      "id": "4b2820f3",
      "metadata": {
        "id": "4b2820f3"
      },
      "source": [
        "### 산업경영알고리즘 중간고사 (Fall 2023)\n",
        "##### 시험일시: 2023.10.24(화) 10:30~12:30 (120분)"
      ]
    },
    {
      "cell_type": "markdown",
      "id": "75174619",
      "metadata": {
        "id": "75174619"
      },
      "source": [
        "학번: 2022123456 (자신의 학번으로 수정하시오)\n",
        "\n",
        "이름: 홍길동 (자신의 이름으로 수정하시오)"
      ]
    },
    {
      "cell_type": "markdown",
      "id": "25042fbf",
      "metadata": {
        "id": "25042fbf"
      },
      "source": [
        "1번(등비수열 합) 문제 풀이"
      ]
    },
    {
      "cell_type": "code",
      "execution_count": null,
      "id": "8d3da6b1",
      "metadata": {
        "id": "8d3da6b1",
        "outputId": "9b26ded6-2601-49e3-b937-28df912c0b24",
        "colab": {
          "base_uri": "https://localhost:8080/"
        }
      },
      "outputs": [
        {
          "output_type": "stream",
          "name": "stdout",
          "text": [
            "4\n",
            "2\n",
            "10\n",
            "4092\n"
          ]
        }
      ],
      "source": [
        "a = int(input())\n",
        "r = int(input())\n",
        "n = int(input())\n",
        "\n",
        "# 코드를 작성하시오.\n",
        "def S_n():\n",
        "    pass #구현하시오\n",
        "\n",
        "result = S_n()\n",
        "print(result)"
      ]
    },
    {
      "cell_type": "markdown",
      "id": "be7653dd",
      "metadata": {
        "id": "be7653dd"
      },
      "source": [
        "2번(softmax) 문제 풀이"
      ]
    },
    {
      "cell_type": "code",
      "execution_count": null,
      "id": "c8fd244e",
      "metadata": {
        "id": "c8fd244e",
        "outputId": "c3db252b-45d4-45c1-8201-95fe4825d16a",
        "colab": {
          "base_uri": "https://localhost:8080/"
        }
      },
      "outputs": [
        {
          "output_type": "stream",
          "name": "stdout",
          "text": [
            "4\n",
            "1,2,3,4\n",
            "[1, 2, 3, 4]\n",
            "<class 'list'>\n",
            "[0.032, 0.087, 0.237, 0.644]\n"
          ]
        }
      ],
      "source": [
        "import math\n",
        "# e=2.718...는 math.e를 호출하여 사용할 수 있음\n",
        "\n",
        "n = int(input())\n",
        "ary = list(map(int,input().split(',')))\n",
        "print(ary)    # 확인용. 생략 가능\n",
        "\n",
        "# 코드를 작성하시오.\n",
        "def softmax():\n",
        "  pass\n",
        "\n",
        "result = softmax()\n",
        "print(result)  # (소수점 3자리 반올림은 앞에서 구현하기 바람)"
      ]
    },
    {
      "cell_type": "markdown",
      "id": "3d89d127",
      "metadata": {
        "id": "3d89d127"
      },
      "source": [
        "3번(계산식) 문제 풀이"
      ]
    },
    {
      "cell_type": "code",
      "execution_count": null,
      "id": "2ee1c8f1",
      "metadata": {
        "id": "2ee1c8f1",
        "colab": {
          "base_uri": "https://localhost:8080/"
        },
        "outputId": "95337497-27cc-498c-e4d1-5f9ead2f7d4a"
      },
      "outputs": [
        {
          "output_type": "stream",
          "name": "stdout",
          "text": [
            "3\n",
            "4\n",
            "5\n",
            "222714.938\n"
          ]
        }
      ],
      "source": [
        "K = int(input())\n",
        "A = int(input())\n",
        "B = int(input())\n",
        "\n",
        "# 코드를 작성하시오.\n",
        "def cal():\n",
        "  pass\n",
        "\n",
        "result = cal()\n",
        "print(round(result,3))"
      ]
    },
    {
      "cell_type": "markdown",
      "id": "6e1dd423",
      "metadata": {
        "id": "6e1dd423"
      },
      "source": [
        "4번(버블정렬) 문제 풀이"
      ]
    },
    {
      "cell_type": "code",
      "execution_count": null,
      "id": "8668a958",
      "metadata": {
        "id": "8668a958",
        "outputId": "351118a1-cdc3-4808-dfe0-b4215393349f",
        "colab": {
          "base_uri": "https://localhost:8080/"
        }
      },
      "outputs": [
        {
          "output_type": "stream",
          "name": "stdout",
          "text": [
            "3,7,2,5\n",
            "in: [3, 7, 2, 5]\n",
            "0 : [2, 3, 7, 5]\n",
            "1 : [2, 3, 5, 7]\n",
            "2 : [2, 3, 5, 7]\n",
            "[2, 3, 5, 7]\n"
          ]
        }
      ],
      "source": [
        "# 구현하시오\n",
        "# 필요시 추가 함수를 구현해도 무방합니다.\n",
        "def reverseBubbleSort(A):\n",
        "  pass\n",
        "\n",
        "A = list(map(int,input().split(',')))\n",
        "result = reverseBubbleSort(A)\n",
        "print(result)"
      ]
    },
    {
      "cell_type": "markdown",
      "id": "14d5ea2d",
      "metadata": {
        "id": "14d5ea2d"
      },
      "source": [
        "5번(미니조약돌) 문제 풀이"
      ]
    },
    {
      "cell_type": "code",
      "source": [
        "#입력 예시: 6,-8,7,10,12,14,-5, 9\n",
        "\n",
        "# 구현하시오\n",
        "# 필요시 추가 함수를 구현해도 무방합니다.\n",
        "def pebble2Sum():\n",
        "  pass\n",
        "\n",
        "A = list(map(int,input().split(',')))\n",
        "result = pebble2Sum()\n",
        "print(result)"
      ],
      "metadata": {
        "colab": {
          "base_uri": "https://localhost:8080/"
        },
        "id": "fsPQOZ0Eljme",
        "outputId": "7a2bf1bf-945f-4ceb-b992-93d14efc62e0"
      },
      "id": "fsPQOZ0Eljme",
      "execution_count": null,
      "outputs": [
        {
          "name": "stdout",
          "output_type": "stream",
          "text": [
            "6,-8,7,10,12,14,-5, 9\n"
          ]
        }
      ]
    }
  ],
  "metadata": {
    "colab": {
      "provenance": [],
      "include_colab_link": true
    },
    "kernelspec": {
      "display_name": "Python 3 (ipykernel)",
      "language": "python",
      "name": "python3"
    },
    "language_info": {
      "codemirror_mode": {
        "name": "ipython",
        "version": 3
      },
      "file_extension": ".py",
      "mimetype": "text/x-python",
      "name": "python",
      "nbconvert_exporter": "python",
      "pygments_lexer": "ipython3",
      "version": "3.9.12"
    }
  },
  "nbformat": 4,
  "nbformat_minor": 5
}