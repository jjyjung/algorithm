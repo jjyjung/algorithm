{
  "nbformat": 4,
  "nbformat_minor": 0,
  "metadata": {
    "colab": {
      "name": "topo_sort_matrix.ipynb",
      "provenance": [],
      "authorship_tag": "ABX9TyMFYQkCB82b9hWtltjiYP6f",
      "include_colab_link": true
    },
    "kernelspec": {
      "name": "python3",
      "display_name": "Python 3"
    },
    "language_info": {
      "name": "python"
    }
  },
  "cells": [
    {
      "cell_type": "markdown",
      "metadata": {
        "id": "view-in-github",
        "colab_type": "text"
      },
      "source": [
        "<a href=\"https://colab.research.google.com/github/jjyjung/algorithm/blob/gh-pages/topo_sort_matrix.ipynb\" target=\"_parent\"><img src=\"https://colab.research.google.com/assets/colab-badge.svg\" alt=\"Open In Colab\"/></a>"
      ]
    },
    {
      "cell_type": "code",
      "metadata": {
        "id": "Zcxt7-4mK5XL"
      },
      "source": [
        "import numpy as np\n",
        "\n",
        "K = np.mat([[0]*7]*7) #행, 열\n",
        "# k[A,B] -> a에서 B로 가는 진입간선\n",
        "# 열에서 행으로..\n",
        "# A=0, B=1, C=2, D=3, E=4, F=5, G=6\n",
        "K[0,1] = 1\n",
        "K[0,3] = 1\n",
        "K[1,2] = 1\n",
        "K[1,4] = 1\n",
        "K[3,4] = 1\n",
        "K[4,2] = 1\n",
        "K[4,5] = 1\n",
        "K[6,3] = 1\n",
        "\n",
        "G = ['a','b','c','d','e','f','g']\n",
        "\n",
        "print(K)\n",
        "\n",
        "def topologicalSort(G):\n",
        "    A = []\n",
        "    while(True):\n",
        "        for i in range(len(G)):\n",
        "            sum=0\n",
        "            for j in range(len(G)):\n",
        "                sum += K[j,i]\n",
        "            if sum ==0:\n",
        "                A.append(G[i])\n",
        "                for k in range(len(G)):\n",
        "                    K[i,k] =0\n",
        "                    K[k,i] =1\n",
        "        if (len(A)==len(G)):\n",
        "            break\n",
        "    return A\n",
        "\n",
        "print(\"위상 정렬 완료됨 : \",topologicalSort(G))\n"
      ],
      "execution_count": null,
      "outputs": []
    }
  ]
}