{
  "cells": [
    {
      "cell_type": "markdown",
      "metadata": {
        "id": "view-in-github",
        "colab_type": "text"
      },
      "source": [
        "<a href=\"https://colab.research.google.com/github/jjyjung/algorithm/blob/gh-pages/mid_%EB%8B%B5%EC%95%88%EC%98%88%EC%8B%9C.ipynb\" target=\"_parent\"><img src=\"https://colab.research.google.com/assets/colab-badge.svg\" alt=\"Open In Colab\"/></a>"
      ]
    },
    {
      "cell_type": "markdown",
      "id": "5425f3b9",
      "metadata": {
        "id": "5425f3b9"
      },
      "source": [
        "<a href=\"https://colab.research.google.com/github/jjyjung/algorithm/blob/gh-pages/mid_%ED%99%8D%EA%B8%B8%EB%8F%99.ipynb\" target=\"_parent\"><img src=\"https://colab.research.google.com/assets/colab-badge.svg\" alt=\"Open In Colab\"/></a>"
      ]
    },
    {
      "cell_type": "markdown",
      "id": "4b2820f3",
      "metadata": {
        "id": "4b2820f3"
      },
      "source": [
        "### 산업경영알고리즘 중간고사 (Fall 2023)\n",
        "##### 시험일시: 2023.10.24(화) 10:30~12:30 (120분)"
      ]
    },
    {
      "cell_type": "markdown",
      "id": "75174619",
      "metadata": {
        "id": "75174619"
      },
      "source": [
        "학번: 2022123456 (자신의 학번으로 수정하시오)\n",
        "\n",
        "이름: 정재윤 (자신의 이름으로 수정하시오)"
      ]
    },
    {
      "cell_type": "markdown",
      "id": "25042fbf",
      "metadata": {
        "id": "25042fbf"
      },
      "source": [
        "1번(등비수열 합) 문제 풀이"
      ]
    },
    {
      "cell_type": "code",
      "execution_count": null,
      "id": "8d3da6b1",
      "metadata": {
        "id": "8d3da6b1",
        "outputId": "c1df0d44-b00e-4575-a826-140edd3b2343",
        "colab": {
          "base_uri": "https://localhost:8080/"
        }
      },
      "outputs": [
        {
          "output_type": "stream",
          "name": "stdout",
          "text": [
            "1\n",
            "3\n",
            "3\n",
            "13\n"
          ]
        }
      ],
      "source": [
        "a = int(input())\n",
        "r = int(input())\n",
        "n = int(input())\n",
        "\n",
        "# 코드를 작성하시오.\n",
        "def S_n():\n",
        "    sum = a * (pow(r,n) - 1) / (r-1)\n",
        "    return int(sum)\n",
        "\n",
        "result = S_n()\n",
        "print(result)"
      ]
    },
    {
      "cell_type": "markdown",
      "id": "be7653dd",
      "metadata": {
        "id": "be7653dd"
      },
      "source": [
        "2번(softmax) 문제 풀이"
      ]
    },
    {
      "cell_type": "code",
      "execution_count": null,
      "id": "c8fd244e",
      "metadata": {
        "id": "c8fd244e",
        "outputId": "6ad0f715-4d2b-4f72-8591-225aba9850f7",
        "colab": {
          "base_uri": "https://localhost:8080/"
        }
      },
      "outputs": [
        {
          "output_type": "stream",
          "name": "stdout",
          "text": [
            "3\n",
            "1,2,3\n",
            "[1, 2, 3]\n",
            "<class 'list'>\n",
            "[0.09, 0.245, 0.665]\n"
          ]
        }
      ],
      "source": [
        "import math\n",
        "# e=2.718...는 math.e를 호출하여 사용할 수 있음\n",
        "\n",
        "n = int(input())\n",
        "ary = list(map(int,input().split(',')))\n",
        "print(ary)    # 확인용. 생략 가능\n",
        "\n",
        "def softmax():\n",
        "  # 코드를 작성하시오.\n",
        "  exp = []\n",
        "  # print(type(ary))\n",
        "  for i in range(n):\n",
        "    exp.append(pow(math.e, ary[i]))\n",
        "  summ = sum(exp)\n",
        "  smax = []\n",
        "  for i in range(n):\n",
        "    s = round(exp[i]/summ,3)\n",
        "    smax.append(s)\n",
        "  return smax\n",
        "\n",
        "result = softmax()\n",
        "print(result)  # (소수점 3자리 반올림은 앞에서 구현하기 바람)"
      ]
    },
    {
      "cell_type": "markdown",
      "id": "3d89d127",
      "metadata": {
        "id": "3d89d127"
      },
      "source": [
        "3번(계산식) 문제 풀이"
      ]
    },
    {
      "cell_type": "code",
      "execution_count": null,
      "id": "2ee1c8f1",
      "metadata": {
        "id": "2ee1c8f1",
        "colab": {
          "base_uri": "https://localhost:8080/"
        },
        "outputId": "917ff9ac-ddbc-40fb-f79d-1cafd8cc1820"
      },
      "outputs": [
        {
          "output_type": "stream",
          "name": "stdout",
          "text": [
            "2\n",
            "3\n",
            "4\n",
            "7469.49\n"
          ]
        }
      ],
      "source": [
        "K = int(input())\n",
        "A = int(input())\n",
        "B = int(input())\n",
        "\n",
        "# 코드를 작성하시오.\n",
        "def cal():\n",
        "  # S = sigma(5+2*S1+S2+3*S3)\n",
        "  S = 0\n",
        "  for k in range(1,K+1):\n",
        "    S1 = 0; S2 = 1; S3 = 1\n",
        "    for a in range(A+1):\n",
        "        S1 += (3*a+a**2)\n",
        "    for b in range(1,B+1):\n",
        "      fact = 1\n",
        "      for f in range(1,b+1):\n",
        "        fact *= f\n",
        "      S2 *= fact\n",
        "    for b in range(1,B+1):\n",
        "      S3 *= (2*b + pow(b,1/3))\n",
        "    S += (5 + 2*S1 + S2 + 3*S3)\n",
        "  return S\n",
        "\n",
        "result = cal()\n",
        "print(round(result,3))"
      ]
    },
    {
      "cell_type": "markdown",
      "id": "6e1dd423",
      "metadata": {
        "id": "6e1dd423"
      },
      "source": [
        "4번(버블정렬) 문제 풀이"
      ]
    },
    {
      "cell_type": "code",
      "execution_count": null,
      "id": "8668a958",
      "metadata": {
        "id": "8668a958",
        "outputId": "69229181-e06d-4beb-e7d7-0d526845720b",
        "colab": {
          "base_uri": "https://localhost:8080/"
        }
      },
      "outputs": [
        {
          "output_type": "stream",
          "name": "stdout",
          "text": [
            "3,7,2,5\n",
            "in: [3, 7, 2, 5]\n",
            "0 - [2, 3, 7, 5]\n",
            "1 - [2, 3, 5, 7]\n",
            "2 - [2, 3, 5, 7]\n",
            "[2, 3, 5, 7]\n"
          ]
        }
      ],
      "source": [
        "# 아래는 최대값을 맨 뒤에 반복 배치하는 방식의 선택정렬(SelectionSort)의 원본 코드이다.\n",
        "# 이 코드를 최소값을 맨 앞에 반복 배치하는 방식으로 수정하시오.\n",
        "def bubbleSort(A):\n",
        "  n = len(A)\n",
        "  for last in range(n-1, 0, -1):\n",
        "    sorted = True\n",
        "    for i in range(0, last):\n",
        "      if A[i] > A[i+1]:\n",
        "        A[i], A[i+1] = A[i+1], A[i]\n",
        "        sorted = False\n",
        "      # print(i, \":\", A)      # 회차별 결과 확인용\n",
        "    print(last, \"-\", A)  # 회차별 결과 확인용\n",
        "    if (sorted == True): print(\"return\"); return\n",
        "  result = A\n",
        "  return result  #최종결과 반환용\n",
        "\n",
        "def reverseBubbleSort(A):\n",
        "  n = len(A)\n",
        "  for first in range(0, n-1):\n",
        "    sorted = True\n",
        "    for i in range(n-1, first, -1):\n",
        "      if A[i-1] > A[i]:\n",
        "        A[i], A[i-1] = A[i-1], A[i]\n",
        "        sorted = False\n",
        "      # print(i, \":\", A)      # 회차별 결과 확인용\n",
        "    print(first, \"-\", A)  # 회차별 결과 확인용\n",
        "    if (sorted == True):\n",
        "      return A  #최종결과 반환용\n",
        "  return A  #최종결과 반환용\n",
        "\n",
        "A = list(map(int,input().split(',')))\n",
        "# A = [3,7,2,5]\n",
        "print(\"in:\", A)    # 확인용. 생략 가능\n",
        "result = reverseBubbleSort(A)\n",
        "print(result)"
      ]
    },
    {
      "cell_type": "markdown",
      "id": "14d5ea2d",
      "metadata": {
        "id": "14d5ea2d"
      },
      "source": [
        "5번(미니조약돌) 문제 풀이"
      ]
    },
    {
      "cell_type": "markdown",
      "source": [
        "(기존 조약돌 소스코드)"
      ],
      "metadata": {
        "id": "WAdIHMfiny5C"
      },
      "id": "WAdIHMfiny5C"
    },
    {
      "cell_type": "code",
      "source": [
        "A = [[6,-8,11], [7,10,12],[12,14,7],[-5, 9, 4],[5, 7, 8],[3, 13, -2],[11, 8, 9],[3, 5, 4]]\n",
        "\n",
        "def pebbleSum_DP_topdown():\n",
        "  n = len(w)\n",
        "  m = [pebble_DP_topdown(n-1,0), pebble_DP_topdown(n-1,1), pebble_DP_topdown(n-1,2), pebble_DP_topdown(n-1,3)]\n",
        "  return max(m)\n",
        "\n",
        "def pebble_DP_topdown(i, p):\n",
        "  peb = [[None]*4 for x in range(8)]\n",
        "  if i == 0:\n",
        "    peb[0] = w[0]\n",
        "    return w[0][p]\n",
        "  else:\n",
        "    M = -1000\n",
        "    for q in range(4):\n",
        "      if compatible(q,p):\n",
        "        if peb[i-1][q] != None:\n",
        "          tmp = peb[i-1][q]\n",
        "        else:\n",
        "          tmp = pebble_DP_topdown(i-1,q)\n",
        "          if tmp > M:\n",
        "            M = tmp\n",
        "    peb[i][p] = w[i][p] + M\n",
        "    return w[i][p]+M\n",
        "\n",
        "def compatible(p,q):\n",
        "  comp = {0:{1,2}, 1:{0,2,3}, 2:{0,1}, 3:{1}}\n",
        "  if q in comp[p]:\n",
        "    return True\n",
        "  else:\n",
        "    return False\n",
        "\n",
        "def append_weight(A):\n",
        "  # w = A\n",
        "  # w = A.copy()\n",
        "  import copy\n",
        "  w = copy.deepcopy(A)\n",
        "\n",
        "  for i in range(len(w)):\n",
        "    w[i].append(w[i][0]+w[i][2])\n",
        "  return w\n",
        "\n",
        "w = append_weight(A)\n",
        "print(\"A:\", A)\n",
        "print(\"B:\", w)\n",
        "print(\"max:\", pebbleSum_DP_topdown())"
      ],
      "metadata": {
        "colab": {
          "base_uri": "https://localhost:8080/"
        },
        "id": "MvWuACoIdrNn",
        "outputId": "4e633d41-83f5-4031-b2e9-b92a089e7da6"
      },
      "id": "MvWuACoIdrNn",
      "execution_count": null,
      "outputs": [
        {
          "output_type": "stream",
          "name": "stdout",
          "text": [
            "A: [[6, -8, 11], [7, 10, 12], [12, 14, 7], [-5, 9, 4], [5, 7, 8], [3, 13, -2], [11, 8, 9], [3, 5, 4]]\n",
            "B: [[6, -8, 11, 17], [7, 10, 12, 19], [12, 14, 7, 19], [-5, 9, 4, -1], [5, 7, 8, 13], [3, 13, -2, 1], [11, 8, 9, 20], [3, 5, 4, 7]]\n",
            "max: 106\n"
          ]
        }
      ]
    },
    {
      "cell_type": "markdown",
      "source": [
        "**미니조약돌 풀이의 4가지 해법 예시**\n",
        "\n",
        "(1) N 크기로 Top-down (김다인 코드 제공)\n",
        "\n",
        "(2) N 크기로 Bottom-up (임소영,박진우 코드 제공)\n",
        "\n",
        "(3) N/2 크기로 Top-down (교수 코드 제공)\n",
        "\n",
        "(4) N/2 크기로 Bottom-up (천유동 코드 제공)"
      ],
      "metadata": {
        "id": "k4LTg7X_84Tk"
      },
      "id": "k4LTg7X_84Tk"
    },
    {
      "cell_type": "markdown",
      "source": [
        "(1) N 크기로 Top-down (김다인 코드 제공)"
      ],
      "metadata": {
        "id": "ab_GKC229Sx9"
      },
      "id": "ab_GKC229Sx9"
    },
    {
      "cell_type": "code",
      "source": [
        "def odd_compatible(p,q):\n",
        "    return p == q\n",
        "\n",
        "def even_compatible(p,q):\n",
        "    return p != q\n",
        "\n",
        "def pebble2Sum():\n",
        "    n = len(A)//2\n",
        "    peb = [[None]*2 for _ in range(n)]\n",
        "    peb[0][0], peb[0][1] = A[0], A[1]\n",
        "    for i in range(1, n):\n",
        "        for p in range(2):\n",
        "            M = -10000000\n",
        "            for q in range(2):\n",
        "                if i%2 != 0:\n",
        "                    if odd_compatible(p,q):\n",
        "                        if peb[i-1][q] > M:\n",
        "                            M = peb[i-1][q]\n",
        "                if i%2 == 0:\n",
        "                    if even_compatible(p,q):\n",
        "                        if peb[i-1][q] > M:\n",
        "                            M = peb[i-1][q]\n",
        "            peb[i][p] = A[2*i+p] + M\n",
        "    return max(peb[-1])\n",
        "\n",
        "n = int(input())\n",
        "A = list(map(int,input().split(',')))\n",
        "result = pebble2Sum()\n",
        "print(result)"
      ],
      "metadata": {
        "colab": {
          "base_uri": "https://localhost:8080/"
        },
        "id": "sMedK3g99R5A",
        "outputId": "c3e2bdee-fa1a-4dbb-ea01-cf7f12c16d24"
      },
      "id": "sMedK3g99R5A",
      "execution_count": 3,
      "outputs": [
        {
          "output_type": "stream",
          "name": "stdout",
          "text": [
            "8\n",
            "6,-11,7,12,12,7,-5,4,5,8,3,-2,11,9,3,4\n",
            "45\n"
          ]
        }
      ]
    },
    {
      "cell_type": "markdown",
      "source": [
        "(2) N 크기로 Bottom-up (임소영,박진우 코드 제공)"
      ],
      "metadata": {
        "id": "m2LNXgTJ9cTF"
      },
      "id": "m2LNXgTJ9cTF"
    },
    {
      "cell_type": "code",
      "source": [
        "#입력 예시: 6,-8,7,10,12,14,-5, 9\n",
        "\n",
        "# 구현하시오\n",
        "# Tabulation(Bottom-up)방식의 DP를 사용함\n",
        "def pebble2Sum():\n",
        "    cache = [[None for j in range(2)] for i in range(n)]\n",
        "    for i in range(1, len(cache)+1):\n",
        "\n",
        "        if i == 1:\n",
        "            cache[0][0] = A[0]\n",
        "            cache[0][1] = A[1]\n",
        "\n",
        "\n",
        "        else:\n",
        "            if i%2 == 0:\n",
        "\n",
        "                cache[i-1][0] = cache[i-2][0] + A[i*2-2]\n",
        "                cache[i-1][1] = cache[i-2][1] + A[i*2-1]\n",
        "\n",
        "            else:\n",
        "\n",
        "                cache[i-1][0] = cache[i-2][1] + A[i*2-2]\n",
        "                cache[i-1][1] = cache[i-2][0] + A[i*2-1]\n",
        "    return max(cache[-1])\n",
        "\n",
        "n = int(input()) # 문제 PDF 에는 열 개수도 입력받기 때문에 n을 추가해줌.\n",
        "A = list(map(int,input().split(',')))\n",
        "result = pebble2Sum()\n",
        "print(result)"
      ],
      "metadata": {
        "colab": {
          "base_uri": "https://localhost:8080/"
        },
        "id": "dDKnHE8W9kbX",
        "outputId": "09a32bf0-507e-4956-8be6-0122fd37a404"
      },
      "id": "dDKnHE8W9kbX",
      "execution_count": 2,
      "outputs": [
        {
          "output_type": "stream",
          "name": "stdout",
          "text": [
            "8\n",
            "6,-11,7,12,12,7,-5,4,5,8,3,-2,11,9,3,4\n",
            "45\n"
          ]
        }
      ]
    },
    {
      "cell_type": "markdown",
      "source": [
        "(3) N/2 크기로 Top-down (교수 코드 제공)"
      ],
      "metadata": {
        "id": "BtvYnRFK9cnb"
      },
      "id": "BtvYnRFK9cnb"
    },
    {
      "cell_type": "code",
      "source": [
        "1#입력 예시: 6,-8,7,10,12,14,-5, 9\n",
        "# B = [6,-11,7,12,12,7,-5,4]\n",
        "# B = [6,-11,7,12, 12,7,-5,4, 5,8,3,-2, 11,9,3,4]\n",
        "n1 = int(input())\n",
        "B = list(map(int,input().split(',')))\n",
        "A = []; a1 = 0; a2 = 0\n",
        "for i,val in enumerate(B):\n",
        "  if i%4 == 0:\n",
        "    tmp = []\n",
        "    a1 = val\n",
        "  elif i%4 == 1:\n",
        "    a2 = val\n",
        "  elif i%4 == 2:\n",
        "    a1 += val\n",
        "    tmp.append(a1)\n",
        "  elif i%4 == 3:\n",
        "    a2 += val\n",
        "    tmp.append(a2)\n",
        "    A.append(tmp)\n",
        "print(\"A:\",A)\n",
        "\n",
        "def pebble2Sum():\n",
        "  n = len(w)\n",
        "  m = [pebble_DP(n-1,0), pebble_DP(n-1,1)]\n",
        "  return max(m)\n",
        "  # 구현하시오\n",
        "  # 필요시 추가 함수를 구현해도 무방합니다.\n",
        "\n",
        "def pebble_DP(i, p):\n",
        "  peb = [[None]*len(A[0]) for x in range(len(A))]\n",
        "  if i == 0:\n",
        "    peb[0] = w[0]\n",
        "    return w[0][p]\n",
        "  else:\n",
        "    M = -1000\n",
        "    for q in range(2):\n",
        "      if compatible(q,p):\n",
        "        if peb[i-1][q] != None:\n",
        "          tmp = peb[i-1][q]\n",
        "        else:\n",
        "          tmp = pebble_DP(i-1,q)\n",
        "          if tmp > M:\n",
        "            M = tmp\n",
        "    peb[i][p] = w[i][p] + M\n",
        "    return w[i][p]+M\n",
        "\n",
        "def compatible(p,q):\n",
        "  comp = {0:{1}, 1:{0}}\n",
        "  if q in comp[p]:\n",
        "    return True\n",
        "  else:\n",
        "    return False\n",
        "\n",
        "def append_weight(A):\n",
        "  # w = A\n",
        "  # w = A.copy()\n",
        "  import copy\n",
        "  w = copy.deepcopy(A)\n",
        "\n",
        "  # for i in range(len(w)):\n",
        "  #   w[i].append(w[i][0]+w[i][2])\n",
        "  return w\n",
        "\n",
        "w = append_weight(A)\n",
        "print(\"w:\", w)\n",
        "result = pebble2Sum()\n",
        "print(result)"
      ],
      "metadata": {
        "colab": {
          "base_uri": "https://localhost:8080/"
        },
        "id": "fsPQOZ0Eljme",
        "outputId": "e2a72794-1214-4577-d361-798d2b4e3887"
      },
      "id": "fsPQOZ0Eljme",
      "execution_count": null,
      "outputs": [
        {
          "output_type": "stream",
          "name": "stdout",
          "text": [
            "8\n",
            "6,-11,7,12,12,7,-5,4,5,8,3,-2,11,9,3,4\n",
            "A: [[13, 1], [7, 11], [8, 6], [14, 13]]\n",
            "w: [[13, 1], [7, 11], [8, 6], [14, 13]]\n",
            "45\n"
          ]
        }
      ]
    },
    {
      "cell_type": "markdown",
      "source": [
        "(4) N/2 크기로 Bottom-up (천유동 코드 제공)"
      ],
      "metadata": {
        "id": "Niw-Ll4b9dRr"
      },
      "id": "Niw-Ll4b9dRr"
    },
    {
      "cell_type": "code",
      "source": [
        "#입력 예시: 6,-8,7,10,12,14,-5, 9\n",
        "\n",
        "# 구현하시오\n",
        "# 필요시 추가 함수를 구현해도 무방합니다.\n",
        "def pebble2Sum(N,A):\n",
        "    p1=[]\n",
        "    p2=[]\n",
        "    for i in range(N*2):\n",
        "        if i%2 == 0 :\n",
        "            p1.append(A[i])\n",
        "        else:\n",
        "            p2.append(A[i])\n",
        "    p3=[]\n",
        "    p4=[]\n",
        "    for i in range(0, N, 2):\n",
        "        p3.append(p1[i]+p1[i+1])\n",
        "        p4.append(p2[i]+p2[i+1])\n",
        "    a1=[]\n",
        "    a2=[]\n",
        "    for i in range(int(N/2)):\n",
        "        a1.append(0)\n",
        "        a2.append(0)\n",
        "    a1[int(N/2)-1] = p3[int(N/2)-1]\n",
        "    a2[int(N/2)-1] = p4[int(N/2)-1]\n",
        "\n",
        "    for i in range(int(N/2)-2,-1,-1):\n",
        "        a1[i] = (a2[i+1]+p3[i])\n",
        "        a2[i] = (a1[i+1]+p4[i])\n",
        "\n",
        "    return max(a1[0], a2[0])\n",
        "\n",
        "\n",
        "#matrix length N\n",
        "N = int(input())\n",
        "A = list(map(int,input().split(','))) #6,-8,7,10,12,14,-5, 9\n",
        "result = pebble2Sum(N,A)\n",
        "print(result)"
      ],
      "metadata": {
        "colab": {
          "base_uri": "https://localhost:8080/"
        },
        "id": "vhWAQKNC916U",
        "outputId": "c8409588-3e4f-4c51-8116-e3272ed925de"
      },
      "id": "vhWAQKNC916U",
      "execution_count": 4,
      "outputs": [
        {
          "output_type": "stream",
          "name": "stdout",
          "text": [
            "8\n",
            "6,-11,7,12,12,7,-5,4,5,8,3,-2,11,9,3,4\n",
            "45\n"
          ]
        }
      ]
    }
  ],
  "metadata": {
    "colab": {
      "provenance": [],
      "include_colab_link": true
    },
    "kernelspec": {
      "display_name": "Python 3 (ipykernel)",
      "language": "python",
      "name": "python3"
    },
    "language_info": {
      "codemirror_mode": {
        "name": "ipython",
        "version": 3
      },
      "file_extension": ".py",
      "mimetype": "text/x-python",
      "name": "python",
      "nbconvert_exporter": "python",
      "pygments_lexer": "ipython3",
      "version": "3.9.12"
    }
  },
  "nbformat": 4,
  "nbformat_minor": 5
}