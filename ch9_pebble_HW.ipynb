{
  "nbformat": 4,
  "nbformat_minor": 0,
  "metadata": {
    "colab": {
      "provenance": [],
      "collapsed_sections": [],
      "authorship_tag": "ABX9TyN8nGZipkQj4Q3HaUMsqrIv",
      "include_colab_link": true
    },
    "kernelspec": {
      "name": "python3",
      "display_name": "Python 3"
    },
    "language_info": {
      "name": "python"
    }
  },
  "cells": [
    {
      "cell_type": "markdown",
      "metadata": {
        "id": "view-in-github",
        "colab_type": "text"
      },
      "source": [
        "<a href=\"https://colab.research.google.com/github/jjyjung/algorithm/blob/gh-pages/ch9_pebble_HW.ipynb\" target=\"_parent\"><img src=\"https://colab.research.google.com/assets/colab-badge.svg\" alt=\"Open In Colab\"/></a>"
      ]
    },
    {
      "cell_type": "markdown",
      "source": [
        "\n",
        "# 9장. 조약돌 풀이 #\n",
        "\n"
      ],
      "metadata": {
        "id": "HMR76-chOaFf"
      }
    },
    {
      "cell_type": "markdown",
      "source": [
        "**(1) weight 계산하기 (두 가지 방법)**\n",
        "\n"
      ],
      "metadata": {
        "id": "tGfBEj5TOeb6"
      }
    },
    {
      "cell_type": "code",
      "source": [
        "A1 = [[6,-8,11], [7,10,12],[12,14,7],[-5, 9, 4],[5, 7, 8],[3, 13, -2],[11, 8, 9],[3, 5, 4]]\n",
        "A2 = [[6,-8,11], [7,10,12],[12,14,7],[-5, 9, 4],[5, 7, 8],[3, 13, -2],[11, 8, 9],[3, 5, 4],\n",
        "     [6,-8,11], [7,10,12],[12,14,7],[-5, 9, 4],[5, 7, 8],[3, 13, -2],[11, 8, 9],[3, 5, 4]]\n",
        "\n",
        "def append_weight(A):\n",
        "  pass\n",
        "  return w\n",
        "\n",
        "w1 = append_weight(A1)\n",
        "w1"
      ],
      "metadata": {
        "colab": {
          "base_uri": "https://localhost:8080/"
        },
        "id": "5Vn19rcDymlm",
        "outputId": "fb5ea66d-731d-4511-cc57-5107adc5e003"
      },
      "execution_count": null,
      "outputs": [
        {
          "output_type": "execute_result",
          "data": {
            "text/plain": [
              "[[6, -8, 11, 17],\n",
              " [7, 10, 12, 19],\n",
              " [12, 14, 7, 19],\n",
              " [-5, 9, 4, -1],\n",
              " [5, 7, 8, 13],\n",
              " [3, 13, -2, 1],\n",
              " [11, 8, 9, 20],\n",
              " [3, 5, 4, 7]]"
            ]
          },
          "metadata": {},
          "execution_count": 4
        }
      ]
    },
    {
      "cell_type": "markdown",
      "source": [
        "**(2) Pebble 재귀적 호출 버전**\n",
        "\n"
      ],
      "metadata": {
        "id": "1F9lopvOO7PR"
      }
    },
    {
      "cell_type": "code",
      "source": [
        "def pebbleSum():\n",
        "  n = len(w)\n",
        "  m = [pebble(n-1,0), pebble(n-1,1), pebble(n-1,2), pebble(n-1,3)]\n",
        "  return max(m)\n",
        "\n",
        "def pebble(i, p):    \n",
        "  if i == 0:\n",
        "    return w[0][p]\n",
        "  else:\n",
        "    pass\n",
        "    return w[i][p]+M\n",
        "\n",
        "def compatible(p,q):\n",
        "  pass\n",
        "\n",
        "import time\n",
        "\n",
        "start_time = time.time()\n",
        "# w = append_weight(A1)\n",
        "w = append_weight(A2)\n",
        "print(pebbleSum())\n",
        "print(\"\\n %.4f sec.\" % (time.time() - start_time))"
      ],
      "metadata": {
        "colab": {
          "base_uri": "https://localhost:8080/"
        },
        "id": "rdznZpdbDzon",
        "outputId": "6e1a03b2-3f0e-427e-ddcb-fcc7c77e08e4"
      },
      "execution_count": null,
      "outputs": [
        {
          "output_type": "stream",
          "name": "stdout",
          "text": [
            "212\n",
            "\n",
            " 0.8355 sec.\n"
          ]
        }
      ]
    },
    {
      "cell_type": "markdown",
      "source": [
        "**(3) Pebble DP (top-down) 버전**"
      ],
      "metadata": {
        "id": "lKKleQTEPMQc"
      }
    },
    {
      "cell_type": "code",
      "source": [
        "def pebbleSum_DP_topdown():\n",
        "  n = len(w)\n",
        "  m = [pebble(n-1,0), pebble(n-1,1), pebble(n-1,2), pebble(n-1,3)]\n",
        "  return max(m)\n",
        "  \n",
        "def pebble_DP_topdown(i, p):    \n",
        "  pass\n",
        "\n",
        "start_time = time.time()\n",
        "# w = append_weight(A1)\n",
        "w = append_weight(A2)\n",
        "print(pebbleSum_DP_topdown())\n",
        "print(\"\\n %.4f sec.\" % (time.time() - start_time))"
      ],
      "metadata": {
        "colab": {
          "base_uri": "https://localhost:8080/"
        },
        "id": "BkppZWCw00Il",
        "outputId": "03bf9fdf-24b3-4d7c-ffd8-ddd046a49a6c"
      },
      "execution_count": null,
      "outputs": [
        {
          "output_type": "stream",
          "name": "stdout",
          "text": [
            "212\n",
            "\n",
            " 0.8352 sec.\n"
          ]
        }
      ]
    },
    {
      "cell_type": "markdown",
      "source": [
        "**(4) Pebble DP (bottom-up) 버전**"
      ],
      "metadata": {
        "id": "YqYVSyJJPZeK"
      }
    },
    {
      "cell_type": "code",
      "source": [
        "def pebbleSum_DP_bottomup():\n",
        "  pass\n",
        "\n",
        "start_time = time.time()\n",
        "w = append_weight(A2)\n",
        "print(pebbleSum_DP_bottomup())\n",
        "print(\"\\n %.4f sec.\" % (time.time() - start_time))"
      ],
      "metadata": {
        "colab": {
          "base_uri": "https://localhost:8080/"
        },
        "id": "M__1-7eFDGeI",
        "outputId": "cf7a6956-10fe-462c-a2e4-e8f0bec84292"
      },
      "execution_count": null,
      "outputs": [
        {
          "output_type": "stream",
          "name": "stdout",
          "text": [
            "212\n",
            "\n",
            " 0.0003 sec.\n"
          ]
        }
      ]
    },
    {
      "cell_type": "code",
      "source": [],
      "metadata": {
        "id": "XEQRk9mvOKsh"
      },
      "execution_count": null,
      "outputs": []
    }
  ]
}