{
  "nbformat": 4,
  "nbformat_minor": 0,
  "metadata": {
    "colab": {
      "name": "ch9.ipynb",
      "provenance": [],
      "toc_visible": true,
      "authorship_tag": "ABX9TyPvDFJGbWQyI4niPtpb2Wv2",
      "include_colab_link": true
    },
    "kernelspec": {
      "name": "python3",
      "display_name": "Python 3"
    },
    "language_info": {
      "name": "python"
    }
  },
  "cells": [
    {
      "cell_type": "markdown",
      "metadata": {
        "id": "view-in-github",
        "colab_type": "text"
      },
      "source": [
        "<a href=\"https://colab.research.google.com/github/jjyjung/algorithm/blob/gh-pages/ch9.ipynb\" target=\"_parent\"><img src=\"https://colab.research.google.com/assets/colab-badge.svg\" alt=\"Open In Colab\"/></a>"
      ]
    },
    {
      "cell_type": "markdown",
      "metadata": {
        "id": "O2kuL2Mnq3mP"
      },
      "source": [
        "# 9. 그래프 알고리즘"
      ]
    },
    {
      "cell_type": "markdown",
      "metadata": {
        "id": "d89rSHGOLqfK"
      },
      "source": [
        "## 9.3. 그래프 탐색(Graph Traversal) - BSF & DFS"
      ]
    },
    {
      "cell_type": "code",
      "metadata": {
        "id": "TPVb8T5Dq-BC"
      },
      "source": [
        "mygraph = { \"A\" : {\"B\",\"C\", \"D\"},\n",
        "            \"B\" : {\"A\", \"D\"},\n",
        "            \"C\" : {\"A\", \"D\", \"F\", \"G\"},\n",
        "            \"D\" : {\"A\", \"B\", \"C\", \"E\"},\n",
        "            \"E\" : {\"D\"},\n",
        "            \"F\" : {\"C\", \"G\", \"H\"},\n",
        "            \"G\" : {\"C\", \"F\", \"H\"},\n",
        "            \"H\" : {\"F\", \"G\"}\n",
        "          }"
      ],
      "execution_count": null,
      "outputs": []
    },
    {
      "cell_type": "markdown",
      "metadata": {
        "id": "76_TLj8nuXxH"
      },
      "source": [
        "**[9-1] BFS (Breath-First Search) 알고리즘**"
      ]
    },
    {
      "cell_type": "code",
      "metadata": {
        "colab": {
          "base_uri": "https://localhost:8080/"
        },
        "id": "w1Tma5Dyr4Bh",
        "outputId": "258e6ab8-9a7f-4559-c89e-749113df6fa6"
      },
      "source": [
        "import queue\n",
        "def bfs(G, s):\n",
        "    visited = {s}              \t# 맨 처음에는 start만 방문한 정점임\n",
        "    Q = queue.Queue()                 # 파이썬 큐 모듈의 큐 객체 생성\n",
        "    Q.put(s)\n",
        "    while not Q.empty():              # 큐에 항목이 있을 때 까지\n",
        "        v = Q.get()                   # 큐에서 하나의 정점 v를 빼냄\n",
        "        print(v, end=' ')               # v는 방문했음을 출력\n",
        "        L = G[v] - visited        # nbr = {v의 인접정점} - {방문정점}\n",
        "        for v in L:                   # 갈 수 있는 모든 인접 정점에 대해\n",
        "            visited.add(v)              # 이제 u는 방문했음\n",
        "            Q.put(v)                  # u를 큐에 삽입\n",
        "\n",
        "print('BFS : ', end='')\n",
        "bfs(mygraph, \"A\")\n",
        "print()"
      ],
      "execution_count": null,
      "outputs": [
        {
          "output_type": "stream",
          "name": "stdout",
          "text": [
            "BFS : A C D B F G E H \n"
          ]
        }
      ]
    },
    {
      "cell_type": "markdown",
      "metadata": {
        "id": "OhtSIklfLDkw"
      },
      "source": [
        "**[9-2] DFS (Depth-First Search) 알고리즘**"
      ]
    },
    {
      "cell_type": "code",
      "metadata": {
        "colab": {
          "base_uri": "https://localhost:8080/"
        },
        "id": "y1A9q6Bmo1tk",
        "outputId": "525a5b86-9652-4a01-eeb4-02eccce6fe78"
      },
      "source": [
        "def dfs(G, v, visited):\t\t\t# 깊이우선탐색 알고리즘\n",
        "    if v not in visited :\t\t\t\t# start가 방문하지 않은 정점이면\n",
        "        visited.add(v)\t\t\t\t\t# start를 방문한 노드 집합에 추가\n",
        "        print(v, end=' ')\t\t\t\t# start를 방문했다고 출력함\n",
        "        L = G[v] - visited\t\t# nbr: 차집합 연산 이용\n",
        "        for x in L:\t\t\t\t\t\t# v ∈ {인접정점} - {방문정점}\n",
        "            dfs(G, x, visited)\t\t\t# v에 대해 dfs를 순환적으로 호출\n",
        "\n",
        "print(\"DFS : \", end=\"\")\n",
        "dfs(mygraph, \"A\", set() )\n",
        "print()\n"
      ],
      "execution_count": null,
      "outputs": [
        {
          "output_type": "stream",
          "name": "stdout",
          "text": [
            "DFS : A C F H G D E B \n"
          ]
        }
      ]
    },
    {
      "cell_type": "markdown",
      "metadata": {
        "id": "xHV2v8Qlunnm"
      },
      "source": [
        "## 9.4. 최소신장트리 (Minimum Spanning Tree)\n"
      ]
    },
    {
      "cell_type": "markdown",
      "metadata": {
        "id": "HXtGfHF_LW6N"
      },
      "source": [
        "**프림(Prim) 알고리즘**"
      ]
    },
    {
      "cell_type": "code",
      "metadata": {
        "colab": {
          "base_uri": "https://localhost:8080/"
        },
        "id": "0Qvt9Eaevhls",
        "outputId": "e6d280a4-830f-4db7-a950-d07a9d309675"
      },
      "source": [
        "INF = 9999\n",
        "def getMinVertex(dist, selected) :\n",
        "    minv = -1\t\n",
        "    mindist = INF\n",
        "    for v in range(len(dist)) :\t\t\t\t\t# 모든 정점들에 대해\n",
        "        if not selected[v] and dist[v]<mindist :\t# 선택 안 되었고  \n",
        "            mindist = dist[v]\t\t\t\t\t\t# 가중치가 작으면\n",
        "            minv = v\t\t\t\t\t\t\t\t# minv 갱신\n",
        "    return minv\t\t\t\t\t# 최소 가중치의 정점 반환\n",
        "\n",
        "\n",
        "def Prim(vertex, adj) :\n",
        "    vsize = len(vertex)\n",
        "    dist = [INF] * vsize\n",
        "    dist[0] = 0\t\t\t\t\t# dist: [0, INF, ... INF]\n",
        "    selected = [False] * vsize\t# selected: [False, False, ... False]\n",
        "\n",
        "    for i in range(vsize) :\t\t# 정점의 수 만큼 반복\n",
        "        u = getMinVertex(dist, selected)\n",
        "        selected[u] = True\t\t# u는 이제 선택됨\n",
        "        print(vertex[u], end=':')\t# u를 출력\n",
        "        print(dist)\t\t\t\t# dist 를 출력\n",
        "\n",
        "        for v in range(vsize) :\t# 내부 루프\n",
        "            if (adj[u][v] != None):\t# (u,v) 간선이 있으면 dist[v] 갱신\n",
        "                if selected[v]==False and adj[u][v]< dist[v] :\n",
        "                    dist[v] = adj[u][v]\n",
        "\n",
        "\n",
        "\n",
        "vertex =   [  'A', 'B', 'C', 'D', 'E', 'F', 'G' ]\n",
        "weight = [ [ None,  29,None,None,None,  10,None ],\n",
        "           [   29,None,  16,None,None,None,  15 ],\n",
        "           [ None,  16,None,  12,None,None,None ],\n",
        "           [ None,None,  12,None,  22,None,  18 ],\n",
        "           [ None,None,None,  22,None,  27,  25 ],\n",
        "           [   10,None,None,None,  27,None,None ],\n",
        "           [ None,  15,None,  18,  25,None,None ]]\n",
        "print(\"MST By Prim's Algorithm\")\n",
        "Prim(vertex, weight)"
      ],
      "execution_count": null,
      "outputs": [
        {
          "output_type": "stream",
          "name": "stdout",
          "text": [
            "MST By Prim's Algorithm\n",
            "A:[0, 9999, 9999, 9999, 9999, 9999, 9999]\n",
            "F:[0, 29, 9999, 9999, 9999, 10, 9999]\n",
            "E:[0, 29, 9999, 9999, 27, 10, 9999]\n",
            "D:[0, 29, 9999, 22, 27, 10, 25]\n",
            "C:[0, 29, 12, 22, 27, 10, 18]\n",
            "B:[0, 16, 12, 22, 27, 10, 18]\n",
            "G:[0, 16, 12, 22, 27, 10, 15]\n"
          ]
        }
      ]
    },
    {
      "cell_type": "markdown",
      "metadata": {
        "id": "T4nUQM5mwJ2s"
      },
      "source": [
        "## 9.5. 위상정렬 (Topological Ordering)"
      ]
    },
    {
      "cell_type": "markdown",
      "metadata": {
        "id": "crKt2o6GwsC8"
      },
      "source": [
        "**[알고리즘 9-6] 위상정렬 알고리즘1**\n",
        "\n",
        "\n",
        "\n"
      ]
    },
    {
      "cell_type": "code",
      "metadata": {
        "colab": {
          "base_uri": "https://localhost:8080/"
        },
        "id": "bQi-EBw1CQRS",
        "outputId": "8df01159-73a1-4fbf-d063-e7039b9c5f18"
      },
      "source": [
        "def topological_sort1(E):  \n",
        "  # 진입간선 Edge dictionary 구축\n",
        "  IN = {}\n",
        "  for i in E.keys():\n",
        "    IN[i] = 0\n",
        "  for v in E:\n",
        "    for u in E[v]:\n",
        "      IN[u] += 1\n",
        "  print(IN)\n",
        "\n",
        "  A = []      # 위상정렬을 출력할 리스트\n",
        "  for k in range(len(V)):  # 한 번에 하나씩 A에 입력한다.\n",
        "    for u in E:            # 모든 노드 중에서..\n",
        "      if IN[u] == 0:       # 진입간선이 없으면\n",
        "        A.append(u)        # i를 A에 추가합니다.\n",
        "        for v in E[u]:     # 삭제된 노드 i의 모든 도착노드를 찾아서..\n",
        "          IN[v] -= 1       # E2에서 그 도착노드에서 (삭제된 노드 i로부터의) 해당 간선을 삭제합니다.\n",
        "        E.pop(u)           # 추가된 노드 i를 N에서 삭제하고..\n",
        "        break              # for i in N을 유지시키기 위하여, 한 번에 한 노드씩만 A에 추가합니다.\n",
        "  return A\n",
        "\n",
        "def printV(A, V):\n",
        "  for a in A:\n",
        "    print(V[a])  # 노드 Label을 출력함\n",
        "\n",
        "# Graph 구조 저장하기\n",
        "V = {0:\"냄비에 물붓기\", 1:\"점화\", 2:\"라면 넣기\", 3:\"계란 풀어넣기\", 4:\"라면봉지 뜯기\", 5:\"스프 넣기\"}\n",
        "E = {0:{1}, 1:{2,3,5}, 2:{3}, 3:{}, 4:{2,5}, 5:{3}}  # 진출간선\n",
        "\n",
        "A = topological_sort1(E)\n",
        "printV(A, V)\n"
      ],
      "execution_count": null,
      "outputs": [
        {
          "output_type": "stream",
          "name": "stdout",
          "text": [
            "{0: 0, 1: 1, 2: 2, 3: 3, 4: 0, 5: 2}\n",
            "냄비에 물붓기\n",
            "점화\n",
            "라면봉지 뜯기\n",
            "라면 넣기\n",
            "스프 넣기\n",
            "계란 풀어넣기\n"
          ]
        }
      ]
    },
    {
      "cell_type": "markdown",
      "metadata": {
        "id": "1vF8GMyvImWT"
      },
      "source": [
        "## 9.6. 최단경로 (Shortest Path)"
      ]
    },
    {
      "cell_type": "markdown",
      "metadata": {
        "id": "KQ_-gWOL3M5F"
      },
      "source": [
        "**[9-10] 플로이드-워샬(Floyd-Warshall) 알고리즘**"
      ]
    },
    {
      "cell_type": "code",
      "metadata": {
        "colab": {
          "base_uri": "https://localhost:8080/"
        },
        "id": "jJMQkCtt3RWK",
        "outputId": "95342e18-34f9-45ce-a9b5-a4b1fd9e01bf"
      },
      "source": [
        "def FloydWarshall(D):\t# Floyd의 최단경로탐색 함수. \n",
        "    n = len(D)       \t\t# 정점의 개수\n",
        "\n",
        "    for k in range(n) :\t\t\t# 정점 k를 추가할 때\n",
        "        for i in range(n) :\n",
        "            for j in range(n) :\t# 모든 D[i][j] 갱신\n",
        "                if (D[i][k] + D[k][j] < D[i][j]) :\n",
        "                    D[i][j] = D[i][k] + D[k][j]\n",
        "        printD(D)\t\t\t\t\t# 현재 D 행렬 출력 \n",
        "\n",
        "\n",
        "def printD(D):\t# 현재의 최단거리 행렬 D를 화면에 출력하는 함수\n",
        "    vsize = len(D)\n",
        "    print(\"====================================\")\n",
        "    for i in range(vsize) :\n",
        "        for j in range(vsize) :\n",
        "            if (D[i][j] == INF) : print(\" INF \", end='')\n",
        "            else : print(\"%4d \"%D[i][j], end='')\n",
        "        print(\"\")\n",
        "\n",
        "\n",
        "INF = 9999\n",
        "V = [  'A', 'B', 'C', 'D', 'E', 'F', 'G', 'H' ]\n",
        "E = [ [    0,   8,  11,   9, INF, INF, INF, INF ],\n",
        "      [  INF,   0, INF, INF,  10, INF, INF, INF ],\n",
        "      [  INF, INF,   0, INF, INF,   8,   8, INF ],\n",
        "      [  INF, -15,   3,   0,   1, INF, INF, INF ],\n",
        "      [  INF, INF, INF, INF,   0, INF, INF,   2 ],\n",
        "      [  INF, INF, INF, INF, INF,   0,  -7, INF ],\n",
        "      [  INF, INF, INF,  12, INF, INF,   0,   5 ],\n",
        "      [  INF, INF, INF, INF, INF,   4, INF,   0 ]]\n",
        "print(\"Floyd-Warshall's Algorithm\")\n",
        "FloydWarshall(E)\n"
      ],
      "execution_count": null,
      "outputs": [
        {
          "output_type": "stream",
          "name": "stdout",
          "text": [
            "Floyd-Warshall's Algorithm\n",
            "====================================\n",
            "   0    8   11    9  INF  INF  INF  INF \n",
            " INF    0  INF  INF   10  INF  INF  INF \n",
            " INF  INF    0  INF  INF    8    8  INF \n",
            " INF  -15    3    0    1  INF  INF  INF \n",
            " INF  INF  INF  INF    0  INF  INF    2 \n",
            " INF  INF  INF  INF  INF    0   -7  INF \n",
            " INF  INF  INF   12  INF  INF    0    5 \n",
            " INF  INF  INF  INF  INF    4  INF    0 \n",
            "====================================\n",
            "   0    8   11    9   18  INF  INF  INF \n",
            " INF    0  INF  INF   10  INF  INF  INF \n",
            " INF  INF    0  INF  INF    8    8  INF \n",
            "9984  -15    3    0   -5 9984 9984 9984 \n",
            " INF  INF  INF  INF    0  INF  INF    2 \n",
            " INF  INF  INF  INF  INF    0   -7  INF \n",
            " INF  INF  INF   12  INF  INF    0    5 \n",
            " INF  INF  INF  INF  INF    4  INF    0 \n",
            "====================================\n",
            "   0    8   11    9   18   19   19  INF \n",
            " INF    0  INF  INF   10  INF  INF  INF \n",
            " INF  INF    0  INF  INF    8    8  INF \n",
            "9984  -15    3    0   -5   11   11 9984 \n",
            " INF  INF  INF  INF    0  INF  INF    2 \n",
            " INF  INF  INF  INF  INF    0   -7  INF \n",
            " INF  INF  INF   12  INF  INF    0    5 \n",
            " INF  INF  INF  INF  INF    4  INF    0 \n",
            "====================================\n",
            "   0   -6   11    9    4   19   19 9993 \n",
            " INF    0  INF  INF   10  INF  INF  INF \n",
            " INF 9984    0  INF 9994    8    8  INF \n",
            "9984  -15    3    0   -5   11   11 9984 \n",
            " INF 9984  INF  INF    0  INF  INF    2 \n",
            " INF 9984  INF  INF 9994    0   -7  INF \n",
            "9996   -3   15   12    7   23    0    5 \n",
            " INF 9984  INF  INF 9994    4  INF    0 \n",
            "====================================\n",
            "   0   -6   11    9    4   19   19    6 \n",
            " INF    0  INF  INF   10  INF  INF   12 \n",
            " INF 9984    0  INF 9994    8    8 9996 \n",
            "9984  -15    3    0   -5   11   11   -3 \n",
            " INF 9984  INF  INF    0  INF  INF    2 \n",
            " INF 9984  INF  INF 9994    0   -7 9996 \n",
            "9996   -3   15   12    7   23    0    5 \n",
            " INF 9984  INF  INF 9994    4  INF    0 \n",
            "====================================\n",
            "   0   -6   11    9    4   19   12    6 \n",
            " INF    0  INF  INF   10  INF 9992   12 \n",
            " INF 9984    0  INF 9994    8    1 9996 \n",
            "9984  -15    3    0   -5   11    4   -3 \n",
            " INF 9984  INF  INF    0  INF 9992    2 \n",
            " INF 9984  INF  INF 9994    0   -7 9996 \n",
            "9996   -3   15   12    7   23    0    5 \n",
            " INF 9984  INF  INF 9994    4   -3    0 \n",
            "====================================\n",
            "   0   -6   11    9    4   19   12    6 \n",
            " INF    0  INF  INF   10  INF 9992   12 \n",
            "9997   -2    0   13    8    8    1    6 \n",
            "9984  -15    3    0   -5   11    4   -3 \n",
            " INF 9984  INF  INF    0  INF 9992    2 \n",
            "9989  -10    8    5    0    0   -7   -2 \n",
            "9996   -3   15   12    7   23    0    5 \n",
            "9993   -6   12    9    4    4   -3    0 \n",
            "====================================\n",
            "   0   -6   11    9    4   10    3    6 \n",
            " INF    0   24   21   10   16    9   12 \n",
            "9997   -2    0   13    8    8    1    6 \n",
            "9984  -15    3    0   -5    1   -6   -3 \n",
            "9995   -4   14   11    0    6   -1    2 \n",
            "9989  -10    8    5    0    0   -7   -2 \n",
            "9996   -3   15   12    7    9    0    5 \n",
            "9993   -6   12    9    4    4   -3    0 \n"
          ]
        }
      ]
    }
  ]
}