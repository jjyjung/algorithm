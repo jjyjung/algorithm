{
  "nbformat": 4,
  "nbformat_minor": 0,
  "metadata": {
    "colab": {
      "name": "topo_sort_matr.ipynb",
      "provenance": [],
      "authorship_tag": "ABX9TyPbcu/BRY+xQPxR3QbVqj2v",
      "include_colab_link": true
    },
    "kernelspec": {
      "name": "python3",
      "display_name": "Python 3"
    },
    "language_info": {
      "name": "python"
    }
  },
  "cells": [
    {
      "cell_type": "markdown",
      "metadata": {
        "id": "view-in-github",
        "colab_type": "text"
      },
      "source": [
        "<a href=\"https://colab.research.google.com/github/jjyjung/algorithm/blob/gh-pages/topo_sort_matr.ipynb\" target=\"_parent\"><img src=\"https://colab.research.google.com/assets/colab-badge.svg\" alt=\"Open In Colab\"/></a>"
      ]
    },
    {
      "cell_type": "code",
      "metadata": {
        "id": "FlvP5D53WM0Y"
      },
      "source": [
        "# Graph 구조 저장하기\n",
        "N = {0:\"냄비에 물붓기\", 1:\"점화\", 2:\"라면 넣기\", 3:\"계란 풀어넣기\", 4:\"라면봉지 뜯기\", 5:\"스프 넣기\"}\n",
        "E = [[0,1,0,0,0,0],\n",
        "     [0,0,1,1,0,1],\n",
        "     [0,0,0,1,0,0],\n",
        "     [0,0,0,0,0,0],\n",
        "     [0,0,1,0,0,1],\n",
        "     [0,0,0,1,0,0]]\n",
        "G = (N, E)"
      ],
      "execution_count": 4,
      "outputs": []
    },
    {
      "cell_type": "code",
      "metadata": {
        "colab": {
          "base_uri": "https://localhost:8080/"
        },
        "id": "xaEu4gbUWKaX",
        "outputId": "b8e782e1-f5b5-4b93-d150-cc6460ed8f8b"
      },
      "source": [
        "A = []   # 위상정렬을 출력할 리스트\n",
        "def topological_sort1():  \n",
        "  for k in range(len(N)):  # PPT 3페이지는 최초에 진입간선이 없는 것만 찾아주네요. 그러므로 Node 횟수만큼 반복해야 함.\n",
        "    for i in N:            # 모든 노드 중에서..\n",
        "      col_sum = sum(row[i] for row in E)\n",
        "      if col_sum == 0:     # 진입간선이 없으면\n",
        "        A.append(i)        # i를 A에 추가합니다.\n",
        "        E[i] = [0]*len(E)  # 추가된 노드 i를 N에서 삭제하는 대신, 해당 행을 0으로 채운다.\n",
        "        N.pop(i)\n",
        "        break              # for i in N을 유지시키기 위하여, 한 번에 한 노드씩만 A에 추가합니다.\n",
        "\n",
        "topological_sort1()\n",
        "A"
      ],
      "execution_count": 5,
      "outputs": [
        {
          "output_type": "execute_result",
          "data": {
            "text/plain": [
              "[0, 1, 4, 2, 5, 3]"
            ]
          },
          "metadata": {},
          "execution_count": 5
        }
      ]
    },
    {
      "cell_type": "code",
      "metadata": {
        "colab": {
          "base_uri": "https://localhost:8080/"
        },
        "id": "KMeMZFX8bv2E",
        "outputId": "f3ea9192-31f3-4e82-ca9e-9f1591f82c0f"
      },
      "source": [
        "# N에서 모든 노드가 삭제되었으므로, 다시 한 번 Node 정보 저장\n",
        "N = {0:\"냄비에 물붓기\", 1:\"점화\", 2:\"라면 넣기\", 3:\"계란 풀어넣기\", 4:\"라면봉지 뜯기\", 5:\"스프 넣기\"}\n",
        "for a in A:\n",
        "  print(N[a])  # 노드 Label을 출력함"
      ],
      "execution_count": 6,
      "outputs": [
        {
          "output_type": "stream",
          "name": "stdout",
          "text": [
            "냄비에 물붓기\n",
            "점화\n",
            "라면봉지 뜯기\n",
            "라면 넣기\n",
            "스프 넣기\n",
            "계란 풀어넣기\n"
          ]
        }
      ]
    }
  ]
}