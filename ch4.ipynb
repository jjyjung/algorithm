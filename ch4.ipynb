{
  "nbformat": 4,
  "nbformat_minor": 0,
  "metadata": {
    "colab": {
      "name": "ch4.ipynb",
      "provenance": [],
      "collapsed_sections": [],
      "authorship_tag": "ABX9TyO8TSecAJ+t8hx0o2P9w7Hn",
      "include_colab_link": true
    },
    "kernelspec": {
      "name": "python3",
      "display_name": "Python 3"
    },
    "language_info": {
      "name": "python"
    }
  },
  "cells": [
    {
      "cell_type": "markdown",
      "metadata": {
        "id": "view-in-github",
        "colab_type": "text"
      },
      "source": [
        "<a href=\"https://colab.research.google.com/github/jjyjung/algorithm/blob/gh-pages/ch4.ipynb\" target=\"_parent\"><img src=\"https://colab.research.google.com/assets/colab-badge.svg\" alt=\"Open In Colab\"/></a>"
      ]
    },
    {
      "cell_type": "markdown",
      "metadata": {
        "id": "WHqIt2OOfqas"
      },
      "source": [
        "## **Ch.4 (정렬) 예시**"
      ]
    },
    {
      "cell_type": "markdown",
      "metadata": {
        "id": "-tcS0m6QdXn2"
      },
      "source": [
        "**역순 range**\n",
        "* range(start, stop, step)\n",
        "* https://www.w3schools.com/python/ref_func_range.asp\n",
        "* 예) range(5, 0, -1) => [5,4,3,2,1] \n",
        "\n",
        "**역순 for 루프**\n",
        "* for i in range(5, 0, -1): 은\n",
        "* for i in [5,4,3,2,1]: 과 동일함\n",
        "\n",
        "\n"
      ]
    },
    {
      "cell_type": "code",
      "metadata": {
        "id": "_7V8tw8rtofx",
        "colab": {
          "base_uri": "https://localhost:8080/"
        },
        "outputId": "2ef5ce45-2d87-4f2d-fed1-607b3bc8f793"
      },
      "source": [
        "# 역순 for문 예시\n",
        "for i in range(5, 0, -1):\n",
        "  print(i, end=' ')\n",
        "\n",
        "print()\n",
        "\n",
        "# 위와 동일\n",
        "for i in [5,4,3,2,1]:\n",
        "  print(i, end=' ')"
      ],
      "execution_count": 1,
      "outputs": [
        {
          "output_type": "stream",
          "name": "stdout",
          "text": [
            "5 4 3 2 1 \n",
            "5 4 3 2 1 "
          ]
        }
      ]
    },
    {
      "cell_type": "markdown",
      "metadata": {
        "id": "isJbXA12gcal"
      },
      "source": [
        "**선택정렬(selction sort)**"
      ]
    },
    {
      "cell_type": "code",
      "metadata": {
        "id": "lIBtSwB5pvbA",
        "colab": {
          "base_uri": "https://localhost:8080/"
        },
        "outputId": "1486d8ad-5e3f-4bbe-b86c-4145cfa45506"
      },
      "source": [
        "def selectionSort(A):\n",
        "  n = len(A)\n",
        "  for last in range(n-1,0,-1):\n",
        "    max_val = max(A[:last])\n",
        "    k = A.index(max_val)\n",
        "    A[k], A[last] = A[last], A[k]\n",
        "    print(last, \":\", A)  # 회차별 결과 확인용\n",
        "  return A  #최종결과 반환용\n",
        "\n",
        "A = [3,7,2,5]\n",
        "A = selectionSort(A)"
      ],
      "execution_count": 2,
      "outputs": [
        {
          "output_type": "stream",
          "name": "stdout",
          "text": [
            "3 : [3, 5, 2, 7]\n",
            "2 : [3, 2, 5, 7]\n",
            "1 : [2, 3, 5, 7]\n"
          ]
        }
      ]
    },
    {
      "cell_type": "code",
      "metadata": {
        "colab": {
          "base_uri": "https://localhost:8080/"
        },
        "id": "TiC8Dub2ovoj",
        "outputId": "e771b8ef-e59b-4f15-cb82-7eee6914024b"
      },
      "source": [
        "# 교재의 예시\n",
        "B = [8,31,48,73,3,65,20,29,11,15]\n",
        "B = selectionSort(B)"
      ],
      "execution_count": 3,
      "outputs": [
        {
          "output_type": "stream",
          "name": "stdout",
          "text": [
            "9 : [8, 31, 48, 15, 3, 65, 20, 29, 11, 73]\n",
            "8 : [8, 31, 48, 15, 3, 11, 20, 29, 65, 73]\n",
            "7 : [8, 31, 29, 15, 3, 11, 20, 48, 65, 73]\n",
            "6 : [8, 20, 29, 15, 3, 11, 31, 48, 65, 73]\n",
            "5 : [8, 20, 11, 15, 3, 29, 31, 48, 65, 73]\n",
            "4 : [8, 3, 11, 15, 20, 29, 31, 48, 65, 73]\n",
            "3 : [8, 3, 15, 11, 20, 29, 31, 48, 65, 73]\n",
            "2 : [15, 3, 8, 11, 20, 29, 31, 48, 65, 73]\n",
            "1 : [3, 15, 8, 11, 20, 29, 31, 48, 65, 73]\n"
          ]
        }
      ]
    },
    {
      "cell_type": "markdown",
      "metadata": {
        "id": "LkzoAiLageed"
      },
      "source": [
        "**버블정렬(bubble sort)**"
      ]
    },
    {
      "cell_type": "code",
      "metadata": {
        "colab": {
          "base_uri": "https://localhost:8080/"
        },
        "id": "wQG1eDj-wOaA",
        "outputId": "22147908-6692-4628-8e78-178f7600d98c"
      },
      "source": [
        "def bubbleSort(A):\n",
        "  for last in range(len(A)-1, 0, -1):\n",
        "    for i in range(0, last):\n",
        "      if A[i] > A[i+1]:\n",
        "        A[i], A[i+1] = A[i+1], A[i]\n",
        "      print(\":\", A)      # 회차별 결과 확인용\n",
        "    print(last, \":\", A)  # 회차별 결과 확인용\n",
        "  return A  #최종결과 반환용\n",
        "\n",
        "A = [3,7,2,5]\n",
        "bubbleSort(A)"
      ],
      "execution_count": 4,
      "outputs": [
        {
          "output_type": "stream",
          "name": "stdout",
          "text": [
            ": [3, 7, 2, 5]\n",
            ": [3, 2, 7, 5]\n",
            ": [3, 2, 5, 7]\n",
            "3 : [3, 2, 5, 7]\n",
            ": [2, 3, 5, 7]\n",
            ": [2, 3, 5, 7]\n",
            "2 : [2, 3, 5, 7]\n",
            ": [2, 3, 5, 7]\n",
            "1 : [2, 3, 5, 7]\n"
          ]
        },
        {
          "output_type": "execute_result",
          "data": {
            "text/plain": [
              "[2, 3, 5, 7]"
            ]
          },
          "metadata": {},
          "execution_count": 4
        }
      ]
    },
    {
      "cell_type": "code",
      "metadata": {
        "colab": {
          "base_uri": "https://localhost:8080/"
        },
        "id": "FaggEZX2r1_u",
        "outputId": "cd831564-9b29-4191-f65b-66ebdf35fa8f"
      },
      "source": [
        "# 교재의 예시\n",
        "B = [29,10,14,37,13]\n",
        "B = bubbleSort(B)"
      ],
      "execution_count": 5,
      "outputs": [
        {
          "output_type": "stream",
          "name": "stdout",
          "text": [
            ": [10, 29, 14, 37, 13]\n",
            ": [10, 14, 29, 37, 13]\n",
            ": [10, 14, 29, 37, 13]\n",
            ": [10, 14, 29, 13, 37]\n",
            "4 : [10, 14, 29, 13, 37]\n",
            ": [10, 14, 29, 13, 37]\n",
            ": [10, 14, 29, 13, 37]\n",
            ": [10, 14, 13, 29, 37]\n",
            "3 : [10, 14, 13, 29, 37]\n",
            ": [10, 14, 13, 29, 37]\n",
            ": [10, 13, 14, 29, 37]\n",
            "2 : [10, 13, 14, 29, 37]\n",
            ": [10, 13, 14, 29, 37]\n",
            "1 : [10, 13, 14, 29, 37]\n"
          ]
        }
      ]
    },
    {
      "cell_type": "markdown",
      "metadata": {
        "id": "bNr0kTA3gjH9"
      },
      "source": [
        "**병합정렬(merge sort)**"
      ]
    },
    {
      "cell_type": "code",
      "metadata": {
        "colab": {
          "base_uri": "https://localhost:8080/"
        },
        "id": "T7QTx-hSqqDo",
        "outputId": "71182d50-0531-416c-c106-c2f47896977d"
      },
      "source": [
        "def mergeSort(A, p, r): # A:배열, p:시작index, r:종료index\n",
        "  if p < r:\n",
        "    q = int((p+r)/2)\n",
        "    mergeSort(A, p, q)\n",
        "    mergeSort(A, q+1, r)\n",
        "    merge(A, p, q, r)\n",
        "  return A  # 최종결과 반환용\n",
        "\n",
        "def merge(A, p, q, r): # q: 앞쪽 배열의 마지막 index\n",
        "  tmp = [0]*len(A)  #A의 길이만큼의 zero 배열 공간을 사전 생성 (<= 교재에 없는 라인)\n",
        "  i = p; j = q+1; t = 0\n",
        "  while (i <= q and j <= r):  # Python의 논리연산자는 and, or, not 입니다. (cf. &, |, ^가 아님) <= 수업시간에 교수님 실수한 부분\n",
        "    if A[i] <= A[j]:\n",
        "      tmp[t] = A[i]\n",
        "      t += 1; i += 1\n",
        "    else:\n",
        "      tmp[t] = A[j]\n",
        "      t += 1; j += 1\n",
        "  while i <= q:\n",
        "    tmp[t] = A[i]\n",
        "    t += 1; i += 1\n",
        "  while j <= r:\n",
        "    tmp[t] = A[j]\n",
        "    t += 1; j += 1\n",
        "  i = p; t = 0\n",
        "  while i <= r:\n",
        "    A[i] = tmp[t]\n",
        "    t += 1; i += 1\n",
        "  print(\"merge:\", tmp) # 병합 결과를 확인용\n",
        "\n",
        "A = [3,7,2,5]\n",
        "mergeSort(A, 0, len(A)-1)"
      ],
      "execution_count": 6,
      "outputs": [
        {
          "output_type": "stream",
          "name": "stdout",
          "text": [
            "merge: [3, 7, 0, 0]\n",
            "merge: [2, 5, 0, 0]\n",
            "merge: [2, 3, 5, 7]\n"
          ]
        },
        {
          "output_type": "execute_result",
          "data": {
            "text/plain": [
              "[2, 3, 5, 7]"
            ]
          },
          "metadata": {},
          "execution_count": 6
        }
      ]
    },
    {
      "cell_type": "code",
      "metadata": {
        "colab": {
          "base_uri": "https://localhost:8080/"
        },
        "id": "4iwDvk5Gs6Tt",
        "outputId": "9f9dd1c2-bd32-422f-fdb5-35661fa53fc3"
      },
      "source": [
        "# 교재 예시\n",
        "B = [31,3,65,73,8,11,20,29,48,15]\n",
        "mergeSort(B, 0, len(B)-1)"
      ],
      "execution_count": 7,
      "outputs": [
        {
          "output_type": "stream",
          "name": "stdout",
          "text": [
            "merge: [3, 31, 0, 0, 0, 0, 0, 0, 0, 0]\n",
            "merge: [3, 31, 65, 0, 0, 0, 0, 0, 0, 0]\n",
            "merge: [8, 73, 0, 0, 0, 0, 0, 0, 0, 0]\n",
            "merge: [3, 8, 31, 65, 73, 0, 0, 0, 0, 0]\n",
            "merge: [11, 20, 0, 0, 0, 0, 0, 0, 0, 0]\n",
            "merge: [11, 20, 29, 0, 0, 0, 0, 0, 0, 0]\n",
            "merge: [15, 48, 0, 0, 0, 0, 0, 0, 0, 0]\n",
            "merge: [11, 15, 20, 29, 48, 0, 0, 0, 0, 0]\n",
            "merge: [3, 8, 11, 15, 20, 29, 31, 48, 65, 73]\n"
          ]
        },
        {
          "output_type": "execute_result",
          "data": {
            "text/plain": [
              "[3, 8, 11, 15, 20, 29, 31, 48, 65, 73]"
            ]
          },
          "metadata": {},
          "execution_count": 7
        }
      ]
    },
    {
      "cell_type": "markdown",
      "metadata": {
        "id": "iwPeZlj4oR6X"
      },
      "source": [
        "**삽입정렬(Insertion Sort)**"
      ]
    },
    {
      "cell_type": "code",
      "metadata": {
        "id": "yCpjUoTij2vg"
      },
      "source": [
        "def insertionSort(A):\n",
        "  n = len(A)\n",
        "  pass  # 다음 온라인 강의에서 다룰 부분. 관심있는 사람은 미리\n",
        "\n",
        "A = [3,7,2,5]\n",
        "insertionSort(A)"
      ],
      "execution_count": 8,
      "outputs": []
    },
    {
      "cell_type": "code",
      "metadata": {
        "id": "PQCkZXCltKw1"
      },
      "source": [
        "B = [29,10,14,37,13]\n",
        "insertionSort(A)"
      ],
      "execution_count": 9,
      "outputs": []
    },
    {
      "cell_type": "markdown",
      "metadata": {
        "id": "HAq1SEwSn9e-"
      },
      "source": [
        "**퀵정렬(Quick Sort)**\n"
      ]
    },
    {
      "cell_type": "code",
      "metadata": {
        "id": "TfJQlsJBoHaF"
      },
      "source": [
        "def quickSort(A):\n",
        "  n = len(A)\n",
        "  pass  # 다음 온라인 강의에서 다룰 부분. 관심있는 사람은 미리\n",
        "\n",
        "def partition(A, p, r):\n",
        "  pass\n",
        "  \n",
        "A = [3,7,2,5]\n",
        "quickSort(A)"
      ],
      "execution_count": 10,
      "outputs": []
    },
    {
      "cell_type": "code",
      "metadata": {
        "id": "mB9v_Eznt84f"
      },
      "source": [
        "B = [31,8,48,73,11,3,20,29,65,15]\n",
        "quickSort(A)"
      ],
      "execution_count": 11,
      "outputs": []
    },
    {
      "cell_type": "markdown",
      "metadata": {
        "id": "mtEtBXBnn9Rf"
      },
      "source": [
        "**힙정렬(Heap Sort)**\n"
      ]
    },
    {
      "cell_type": "code",
      "metadata": {
        "id": "ZHyTDwQyoBJX"
      },
      "source": [
        "def heapSort(A):\n",
        "  n = len(A)\n",
        "  pass  # 다음 온라인 강의에서 다룰 부분. 관심있는 사람은 미리\n",
        "\n",
        "def buildHeap(A):\n",
        "  pass\n",
        "\n",
        "A = [3,7,2,5]\n",
        "heapSort(A)"
      ],
      "execution_count": 12,
      "outputs": []
    },
    {
      "cell_type": "code",
      "metadata": {
        "id": "q7CUY8yjufuV"
      },
      "source": [
        "B = [3,6,4,8,9,7]\n",
        "heapSort(A)"
      ],
      "execution_count": 13,
      "outputs": []
    }
  ]
}