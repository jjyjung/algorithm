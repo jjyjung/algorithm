{
  "nbformat": 4,
  "nbformat_minor": 0,
  "metadata": {
    "colab": {
      "name": "Ch1.ipynb",
      "provenance": [],
      "collapsed_sections": [],
      "authorship_tag": "ABX9TyMIYVyACjKE6Eqmk5pfAFEm",
      "include_colab_link": true
    },
    "kernelspec": {
      "name": "python3",
      "display_name": "Python 3"
    },
    "language_info": {
      "name": "python"
    }
  },
  "cells": [
    {
      "cell_type": "markdown",
      "metadata": {
        "id": "view-in-github",
        "colab_type": "text"
      },
      "source": [
        "<a href=\"https://colab.research.google.com/github/jjyjung/algorithm/blob/gh-pages/Ch1.ipynb\" target=\"_parent\"><img src=\"https://colab.research.google.com/assets/colab-badge.svg\" alt=\"Open In Colab\"/></a>"
      ]
    },
    {
      "cell_type": "markdown",
      "metadata": {
        "id": "oa1yHDjufLQM"
      },
      "source": [
        "# **Ch.1 (알고리즘 개요)**"
      ]
    },
    {
      "cell_type": "code",
      "metadata": {
        "colab": {
          "base_uri": "https://localhost:8080/"
        },
        "id": "qRoTDolIpzvB",
        "outputId": "db34f44a-b015-4760-c951-3bd330445f02"
      },
      "source": [
        "def sample1(A):\n",
        "  n = len(A)\n",
        "  k = int((n-1)/2)  # 교재의 의도는 N/2의 내림 index를 의미함\n",
        "  return A[k]\n",
        "\n",
        "A = [3,7,2,5]\n",
        "num = sample1(A)   # ipynb이 아니라 .py라면 return을 받은 후, 출력해주어야 함\n",
        "print(num)         # ipynb이 아니라 .py라면 return을 받은 후, 출력해주어야 함"
      ],
      "execution_count": 1,
      "outputs": [
        {
          "output_type": "stream",
          "name": "stdout",
          "text": [
            "7\n"
          ]
        }
      ]
    },
    {
      "cell_type": "code",
      "metadata": {
        "colab": {
          "base_uri": "https://localhost:8080/"
        },
        "id": "jUqkAcoscRHW",
        "outputId": "89addd75-705d-4eba-f4ba-9fd595d796db"
      },
      "source": [
        "def sample2(A):\n",
        "  sum = 0\n",
        "  for i in range(len(A)):\n",
        "    sum = sum + A[i]\n",
        "  return sum\n",
        "\n",
        "A = [3,7,2,5]\n",
        "sample2(A)        # ipynb에서는 마지막 결과를 출력하므로, 이렇게 단순화 가능"
      ],
      "execution_count": 2,
      "outputs": [
        {
          "output_type": "execute_result",
          "data": {
            "text/plain": [
              "17"
            ]
          },
          "metadata": {},
          "execution_count": 2
        }
      ]
    },
    {
      "cell_type": "code",
      "metadata": {
        "id": "pY8NHjq1cbdN",
        "colab": {
          "base_uri": "https://localhost:8080/"
        },
        "outputId": "d83b9565-b2a6-42b0-d7ce-5a33eb462608"
      },
      "source": [
        "def sample3(A):\n",
        "  sum = 0\n",
        "  for i in range(len(A)):\n",
        "    for j in range(len(A)):\n",
        "      sum = sum + A[i]*A[j]\n",
        "  return sum\n",
        "\n",
        "A = [3,7,2,5]\n",
        "sample3(A)"
      ],
      "execution_count": 3,
      "outputs": [
        {
          "output_type": "execute_result",
          "data": {
            "text/plain": [
              "289"
            ]
          },
          "metadata": {},
          "execution_count": 3
        }
      ]
    },
    {
      "cell_type": "code",
      "metadata": {
        "id": "7vuRnCb7gevb",
        "colab": {
          "base_uri": "https://localhost:8080/"
        },
        "outputId": "57cf199f-39de-481f-83a5-ae1522cce9ea"
      },
      "source": [
        "import random\n",
        "\n",
        "def sample4(A):\n",
        "  n = len(A)\n",
        "  sum = 0\n",
        "  for i in range(len(A)):\n",
        "    for j in range(len(A)):\n",
        "      for m in range(int(len(A)/2)):\n",
        "        rd = random.randint(0, len(A)-1)\n",
        "        k = A[rd]\n",
        "        print(\"i=\",i,\", j=\", j, \", 반복차수=\", m, \" => A[\", rd, \"]=\", k, sep='')\n",
        "        sum = sum + k\n",
        "  return sum\n",
        "\n",
        "A = [3,7,2,5]\n",
        "sample4(A)"
      ],
      "execution_count": 4,
      "outputs": [
        {
          "output_type": "stream",
          "name": "stdout",
          "text": [
            "i=0, j=0, 반복차수=0 => A[0]=3\n",
            "i=0, j=0, 반복차수=1 => A[1]=7\n",
            "i=0, j=1, 반복차수=0 => A[2]=2\n",
            "i=0, j=1, 반복차수=1 => A[1]=7\n",
            "i=0, j=2, 반복차수=0 => A[2]=2\n",
            "i=0, j=2, 반복차수=1 => A[2]=2\n",
            "i=0, j=3, 반복차수=0 => A[1]=7\n",
            "i=0, j=3, 반복차수=1 => A[3]=5\n",
            "i=1, j=0, 반복차수=0 => A[1]=7\n",
            "i=1, j=0, 반복차수=1 => A[2]=2\n",
            "i=1, j=1, 반복차수=0 => A[3]=5\n",
            "i=1, j=1, 반복차수=1 => A[1]=7\n",
            "i=1, j=2, 반복차수=0 => A[1]=7\n",
            "i=1, j=2, 반복차수=1 => A[0]=3\n",
            "i=1, j=3, 반복차수=0 => A[2]=2\n",
            "i=1, j=3, 반복차수=1 => A[1]=7\n",
            "i=2, j=0, 반복차수=0 => A[1]=7\n",
            "i=2, j=0, 반복차수=1 => A[3]=5\n",
            "i=2, j=1, 반복차수=0 => A[3]=5\n",
            "i=2, j=1, 반복차수=1 => A[0]=3\n",
            "i=2, j=2, 반복차수=0 => A[3]=5\n",
            "i=2, j=2, 반복차수=1 => A[2]=2\n",
            "i=2, j=3, 반복차수=0 => A[0]=3\n",
            "i=2, j=3, 반복차수=1 => A[1]=7\n",
            "i=3, j=0, 반복차수=0 => A[3]=5\n",
            "i=3, j=0, 반복차수=1 => A[3]=5\n",
            "i=3, j=1, 반복차수=0 => A[3]=5\n",
            "i=3, j=1, 반복차수=1 => A[3]=5\n",
            "i=3, j=2, 반복차수=0 => A[0]=3\n",
            "i=3, j=2, 반복차수=1 => A[3]=5\n",
            "i=3, j=3, 반복차수=0 => A[3]=5\n",
            "i=3, j=3, 반복차수=1 => A[0]=3\n"
          ]
        },
        {
          "output_type": "execute_result",
          "data": {
            "text/plain": [
              "148"
            ]
          },
          "metadata": {},
          "execution_count": 4
        }
      ]
    },
    {
      "cell_type": "code",
      "metadata": {
        "id": "25lSBU9Fg3kL",
        "colab": {
          "base_uri": "https://localhost:8080/"
        },
        "outputId": "2e2fa05d-4af5-4f44-9038-51195b070554"
      },
      "source": [
        "def factorial(n):\n",
        "  if n == 1:\n",
        "    return 1\n",
        "  return n*factorial(n-1)\n",
        "\n",
        "factorial(3)"
      ],
      "execution_count": 5,
      "outputs": [
        {
          "output_type": "execute_result",
          "data": {
            "text/plain": [
              "6"
            ]
          },
          "metadata": {},
          "execution_count": 5
        }
      ]
    }
  ]
}