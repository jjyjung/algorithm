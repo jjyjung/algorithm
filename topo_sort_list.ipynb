{
  "nbformat": 4,
  "nbformat_minor": 0,
  "metadata": {
    "colab": {
      "name": "topo_sort_list.ipynb",
      "provenance": [],
      "authorship_tag": "ABX9TyPNPofptHp9xDp6cZbNGBMo",
      "include_colab_link": true
    },
    "kernelspec": {
      "name": "python3",
      "display_name": "Python 3"
    },
    "language_info": {
      "name": "python"
    }
  },
  "cells": [
    {
      "cell_type": "markdown",
      "metadata": {
        "id": "view-in-github",
        "colab_type": "text"
      },
      "source": [
        "<a href=\"https://colab.research.google.com/github/jjyjung/algorithm/blob/gh-pages/topo_sort_list.ipynb\" target=\"_parent\"><img src=\"https://colab.research.google.com/assets/colab-badge.svg\" alt=\"Open In Colab\"/></a>"
      ]
    },
    {
      "cell_type": "code",
      "metadata": {
        "id": "K2QLpaPr2Ehx"
      },
      "source": [
        "N = {0:\"냄비에 물붓기\", 1:\"점화\", 2:\"라면 넣기\", 3:\"계란 풀어넣기\", 4:\"라면봉지 뜯기\", 5:\"스프 넣기\"}\n",
        "E = {0:{1}, 1:{2,3,5}, 2:{3}, 3:{}, 4:{2,5}, 5:{3}}  # 진출간선\n",
        "G = (N, E)"
      ],
      "execution_count": 1,
      "outputs": []
    },
    {
      "cell_type": "code",
      "metadata": {
        "colab": {
          "base_uri": "https://localhost:8080/"
        },
        "id": "S3VL9hyQAohi",
        "outputId": "edc9533e-f86d-41a7-9b80-0f52599c847c"
      },
      "source": [
        "E2 = {}  # 진입간선 dictionary 구축\n",
        "for i in N.keys():\n",
        "  E2[i] = set()\n",
        "E2"
      ],
      "execution_count": 2,
      "outputs": [
        {
          "output_type": "execute_result",
          "data": {
            "text/plain": [
              "{0: set(), 1: set(), 2: set(), 3: set(), 4: set(), 5: set()}"
            ]
          },
          "metadata": {},
          "execution_count": 2
        }
      ]
    },
    {
      "cell_type": "code",
      "metadata": {
        "colab": {
          "base_uri": "https://localhost:8080/"
        },
        "id": "cuyzZQXhCs-V",
        "outputId": "5c00f12a-1fec-4dbf-bf09-5df5736941a8"
      },
      "source": [
        "for i in E.keys():\n",
        "  for j in E[i]:\n",
        "    E2[j].add(i)\n",
        "E2"
      ],
      "execution_count": 3,
      "outputs": [
        {
          "output_type": "execute_result",
          "data": {
            "text/plain": [
              "{0: set(), 1: {0}, 2: {1, 4}, 3: {1, 2, 5}, 4: set(), 5: {1, 4}}"
            ]
          },
          "metadata": {},
          "execution_count": 3
        }
      ]
    },
    {
      "cell_type": "code",
      "metadata": {
        "colab": {
          "base_uri": "https://localhost:8080/"
        },
        "id": "ecReLNmD20is",
        "outputId": "d98924df-1de7-4900-e228-e8e334738968"
      },
      "source": [
        "A = []   # 위상정렬 출력 목록\n",
        "def topological_sort1():  \n",
        "  for k in range(len(N)):  # PPT 3페이지는 진입간선이 없는 것만 찾아주네요.\n",
        "    for i in N:            # 모든 노드 중에서..\n",
        "      if len(E2[i]) == 0:  # 진입간선이 없으면\n",
        "        A.append(i)        # i를 A에 추가합니다.\n",
        "        N.pop(i)           # 추가된 노드 i를 N에서 삭제하고\n",
        "        for j in E[i]:     # 삭제된 노드 i의 모든 도착노드를 찾아서..\n",
        "          E2[j].remove(i)  # E2에서 그 도착노드에서 (삭제된 노드 i로부터의) 간선을 삭제합니다.\n",
        "        break              # 한 번에 한 노드씩만 A에 추가합니다. for i in N을 유지시키기 위하여.\n",
        "\n",
        "topological_sort1()\n",
        "A"
      ],
      "execution_count": 4,
      "outputs": [
        {
          "output_type": "execute_result",
          "data": {
            "text/plain": [
              "[0, 1, 4, 2, 5, 3]"
            ]
          },
          "metadata": {},
          "execution_count": 4
        }
      ]
    },
    {
      "cell_type": "code",
      "metadata": {
        "colab": {
          "base_uri": "https://localhost:8080/"
        },
        "id": "Z008S8pV8-0s",
        "outputId": "d4303d60-3d0c-4daa-ae8b-c4b5ad6e8b58"
      },
      "source": [
        "N = {0:\"냄비에 물붓기\", 1:\"점화\", 2:\"라면 넣기\", 3:\"계란 풀어넣기\", 4:\"라면봉지 뜯기\", 5:\"스프 넣기\"}\n",
        "for a in A:\n",
        "  print(N[a])"
      ],
      "execution_count": 5,
      "outputs": [
        {
          "output_type": "stream",
          "name": "stdout",
          "text": [
            "냄비에 물붓기\n",
            "점화\n",
            "라면봉지 뜯기\n",
            "라면 넣기\n",
            "스프 넣기\n",
            "계란 풀어넣기\n"
          ]
        }
      ]
    },
    {
      "cell_type": "code",
      "metadata": {
        "id": "i2N6bbYXAFfO"
      },
      "source": [
        ""
      ],
      "execution_count": 5,
      "outputs": []
    }
  ]
}