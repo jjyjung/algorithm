{
  "nbformat": 4,
  "nbformat_minor": 0,
  "metadata": {
    "colab": {
      "provenance": [],
      "collapsed_sections": [],
      "authorship_tag": "ABX9TyPg36kKeS+R/pVLJ8vaq4P9",
      "include_colab_link": true
    },
    "kernelspec": {
      "name": "python3",
      "display_name": "Python 3"
    },
    "language_info": {
      "name": "python"
    }
  },
  "cells": [
    {
      "cell_type": "markdown",
      "metadata": {
        "id": "view-in-github",
        "colab_type": "text"
      },
      "source": [
        "<a href=\"https://colab.research.google.com/github/jjyjung/algorithm/blob/gh-pages/data_structure.ipynb\" target=\"_parent\"><img src=\"https://colab.research.google.com/assets/colab-badge.svg\" alt=\"Open In Colab\"/></a>"
      ]
    },
    {
      "cell_type": "markdown",
      "metadata": {
        "id": "tHU55uKlacbs"
      },
      "source": [
        "**리스트(List) => Python list**"
      ]
    },
    {
      "cell_type": "code",
      "metadata": {
        "colab": {
          "base_uri": "https://localhost:8080/"
        },
        "id": "2AuQX8N2aaqU",
        "outputId": "8d144e93-93d8-4d6f-e536-d0971215fcc2"
      },
      "source": [
        "A = [1, 2, 3, 4, 5]\n",
        "print(A)"
      ],
      "execution_count": 28,
      "outputs": [
        {
          "output_type": "stream",
          "name": "stdout",
          "text": [
            "[1, 2, 3, 4, 5]\n"
          ]
        }
      ]
    },
    {
      "cell_type": "code",
      "metadata": {
        "colab": {
          "base_uri": "https://localhost:8080/"
        },
        "id": "SRfwa7Yla0OE",
        "outputId": "999660a6-d6dd-49e7-d73d-0aedcb696d26"
      },
      "source": [
        "A[2]"
      ],
      "execution_count": 29,
      "outputs": [
        {
          "output_type": "execute_result",
          "data": {
            "text/plain": [
              "3"
            ]
          },
          "metadata": {},
          "execution_count": 29
        }
      ]
    },
    {
      "cell_type": "code",
      "metadata": {
        "colab": {
          "base_uri": "https://localhost:8080/"
        },
        "id": "9zCeZ9o7a536",
        "outputId": "c1ca32fc-718f-45a4-85f6-81f0296273af"
      },
      "source": [
        "len(A)"
      ],
      "execution_count": 30,
      "outputs": [
        {
          "output_type": "execute_result",
          "data": {
            "text/plain": [
              "5"
            ]
          },
          "metadata": {},
          "execution_count": 30
        }
      ]
    },
    {
      "cell_type": "code",
      "metadata": {
        "id": "CcCFpQqSa9ND",
        "colab": {
          "base_uri": "https://localhost:8080/"
        },
        "outputId": "257cb037-8296-4faa-bb5b-fcc9dd578f5c"
      },
      "source": [
        "A.append(9)\n",
        "A"
      ],
      "execution_count": 31,
      "outputs": [
        {
          "output_type": "execute_result",
          "data": {
            "text/plain": [
              "[1, 2, 3, 4, 5, 9]"
            ]
          },
          "metadata": {},
          "execution_count": 31
        }
      ]
    },
    {
      "cell_type": "code",
      "metadata": {
        "colab": {
          "base_uri": "https://localhost:8080/"
        },
        "id": "ezJwj9UYbFWG",
        "outputId": "b9c9f5b1-f12a-4170-e236-f57a7acdd925"
      },
      "source": [
        "# Stack 구조의 활용\n",
        "val = A.pop()\n",
        "print(val)\n",
        "print(A)"
      ],
      "execution_count": 32,
      "outputs": [
        {
          "output_type": "stream",
          "name": "stdout",
          "text": [
            "9\n",
            "[1, 2, 3, 4, 5]\n"
          ]
        }
      ]
    },
    {
      "cell_type": "code",
      "metadata": {
        "colab": {
          "base_uri": "https://localhost:8080/"
        },
        "id": "xXSuGs_LbLm8",
        "outputId": "454ec767-13f5-42a5-f4c4-0e42997bb6bd"
      },
      "source": [
        "val = A.pop(2)\n",
        "print(val)\n",
        "print(A)"
      ],
      "execution_count": 33,
      "outputs": [
        {
          "output_type": "stream",
          "name": "stdout",
          "text": [
            "3\n",
            "[1, 2, 4, 5]\n"
          ]
        }
      ]
    },
    {
      "cell_type": "markdown",
      "metadata": {
        "id": "ELuiWnQ6cDPs"
      },
      "source": [
        "**스택(Stack) => Python list 또는 queue.LifoQueue**"
      ]
    },
    {
      "cell_type": "code",
      "metadata": {
        "id": "SslSwKMPcJI0"
      },
      "source": [
        "S = ['A', 'B', 'C']"
      ],
      "execution_count": 34,
      "outputs": []
    },
    {
      "cell_type": "code",
      "metadata": {
        "colab": {
          "base_uri": "https://localhost:8080/"
        },
        "id": "1DIAwqL8cR0J",
        "outputId": "6b1efacb-5b37-492b-9c3f-1cfbd9738bb4"
      },
      "source": [
        "S.append('D')\n",
        "S.append('E')\n",
        "S"
      ],
      "execution_count": 35,
      "outputs": [
        {
          "output_type": "execute_result",
          "data": {
            "text/plain": [
              "['A', 'B', 'C', 'D', 'E']"
            ]
          },
          "metadata": {},
          "execution_count": 35
        }
      ]
    },
    {
      "cell_type": "code",
      "metadata": {
        "colab": {
          "base_uri": "https://localhost:8080/"
        },
        "id": "ve64aUjscU7D",
        "outputId": "c6efd0c1-652e-45ac-9d9a-fd6fe2887302"
      },
      "source": [
        "S.pop()\n",
        "S"
      ],
      "execution_count": 36,
      "outputs": [
        {
          "output_type": "execute_result",
          "data": {
            "text/plain": [
              "['A', 'B', 'C', 'D']"
            ]
          },
          "metadata": {},
          "execution_count": 36
        }
      ]
    },
    {
      "cell_type": "markdown",
      "metadata": {
        "id": "w_c4DgQodCeX"
      },
      "source": [
        "**큐(Queue) => queue.Queue**"
      ]
    },
    {
      "cell_type": "code",
      "metadata": {
        "id": "87IGo5Z1dFdU"
      },
      "source": [
        "import queue\n",
        "Q = queue.Queue(maxsize=10)\n",
        "S = queue.LifoQueue(maxsize=10)"
      ],
      "execution_count": 37,
      "outputs": []
    },
    {
      "cell_type": "code",
      "metadata": {
        "colab": {
          "base_uri": "https://localhost:8080/"
        },
        "id": "vUsO6N2HdMrV",
        "outputId": "7d851b10-3540-48c1-f4fe-d2559974de08"
      },
      "source": [
        "Q.put(20)  # enqueue\n",
        "Q.put(21)\n",
        "Q.put(22)\n",
        "Q.put(23)\n",
        "val = Q.get()  # dequeue\n",
        "val = Q.get()  # dequeue\n",
        "val"
      ],
      "execution_count": 38,
      "outputs": [
        {
          "output_type": "execute_result",
          "data": {
            "text/plain": [
              "21"
            ]
          },
          "metadata": {},
          "execution_count": 38
        }
      ]
    },
    {
      "cell_type": "code",
      "source": [
        "for i in Q.queue: # Queue 내의 값들을 출력하기\n",
        "  print(i)"
      ],
      "metadata": {
        "colab": {
          "base_uri": "https://localhost:8080/"
        },
        "id": "MDQ0fxQyDZjv",
        "outputId": "16dcf1ef-6a4b-4e77-e8e8-efb5dd1648d9"
      },
      "execution_count": 39,
      "outputs": [
        {
          "output_type": "stream",
          "name": "stdout",
          "text": [
            "22\n",
            "23\n"
          ]
        }
      ]
    },
    {
      "cell_type": "code",
      "source": [
        "print(\"size:\", Q.qsize())\n",
        "\n",
        "while not Q.empty():\n",
        "  num = Q.get()\n",
        "  print(num)\n",
        "\n",
        "print(\"size:\", Q.qsize())"
      ],
      "metadata": {
        "colab": {
          "base_uri": "https://localhost:8080/"
        },
        "id": "akm0J3UTYM77",
        "outputId": "2db84719-85b9-4009-a619-49070f1b37c1"
      },
      "execution_count": 40,
      "outputs": [
        {
          "output_type": "stream",
          "name": "stdout",
          "text": [
            "size: 2\n",
            "22\n",
            "23\n",
            "size: 0\n"
          ]
        }
      ]
    },
    {
      "cell_type": "code",
      "metadata": {
        "colab": {
          "base_uri": "https://localhost:8080/"
        },
        "id": "b5s6DAdydkys",
        "outputId": "109f1b09-74b2-4e22-c9dd-c8b19d2a4262"
      },
      "source": [
        "S.put(30)\n",
        "S.put(31)\n",
        "S.put(32)\n",
        "S.put(33)\n",
        "val = S.get()\n",
        "val = S.get()\n",
        "val = S.get()\n",
        "print(val)"
      ],
      "execution_count": 41,
      "outputs": [
        {
          "output_type": "stream",
          "name": "stdout",
          "text": [
            "31\n"
          ]
        }
      ]
    },
    {
      "cell_type": "markdown",
      "metadata": {
        "id": "qCCbdN21ehPa"
      },
      "source": [
        "**집합(Set) => Python set**"
      ]
    },
    {
      "cell_type": "code",
      "metadata": {
        "id": "KRj-k2lceg5J"
      },
      "source": [
        "s1 = {1,2,3}\n",
        "s2 = {2,3,4,5}\n",
        "s3 = s1.union(s2)  # 합집합\n",
        "s4 = s1.intersection(s2) # 교집합\n",
        "s5 = s1 - s2  # 차집합"
      ],
      "execution_count": 42,
      "outputs": []
    },
    {
      "cell_type": "code",
      "metadata": {
        "colab": {
          "base_uri": "https://localhost:8080/"
        },
        "id": "u7f8xu7Od-6r",
        "outputId": "aeb7d7a6-fa11-4381-8291-1b1cbd6dddfb"
      },
      "source": [
        "s3"
      ],
      "execution_count": 43,
      "outputs": [
        {
          "output_type": "execute_result",
          "data": {
            "text/plain": [
              "{1, 2, 3, 4, 5}"
            ]
          },
          "metadata": {},
          "execution_count": 43
        }
      ]
    },
    {
      "cell_type": "code",
      "metadata": {
        "colab": {
          "base_uri": "https://localhost:8080/"
        },
        "id": "uLKn9rWsey22",
        "outputId": "e6dee9d0-1ff3-4db8-9d83-fcbfc4536efd"
      },
      "source": [
        "s4"
      ],
      "execution_count": 44,
      "outputs": [
        {
          "output_type": "execute_result",
          "data": {
            "text/plain": [
              "{2, 3}"
            ]
          },
          "metadata": {},
          "execution_count": 44
        }
      ]
    },
    {
      "cell_type": "code",
      "metadata": {
        "colab": {
          "base_uri": "https://localhost:8080/"
        },
        "id": "YYvv8bBSe1VC",
        "outputId": "8539e0ee-4a8f-45aa-ccc8-695fd12f593d"
      },
      "source": [
        "s5"
      ],
      "execution_count": 45,
      "outputs": [
        {
          "output_type": "execute_result",
          "data": {
            "text/plain": [
              "{1}"
            ]
          },
          "metadata": {},
          "execution_count": 45
        }
      ]
    },
    {
      "cell_type": "markdown",
      "metadata": {
        "id": "fivXRDUqfKt5"
      },
      "source": [
        "**맵(Map) 또는 딕셔너리(Dictionary) => Python dictionary**"
      ]
    },
    {
      "cell_type": "code",
      "metadata": {
        "id": "5xV_eAK3fJ-a"
      },
      "source": [
        "dict = { '김연아':'피겨', '류현진':'야구', '쿠드롱':'당구', '메시':'축구' }"
      ],
      "execution_count": 46,
      "outputs": []
    },
    {
      "cell_type": "code",
      "metadata": {
        "colab": {
          "base_uri": "https://localhost:8080/"
        },
        "id": "98rtLePEfQ3b",
        "outputId": "68385856-5102-4685-ffba-00554c0ee20f"
      },
      "source": [
        "print(dict)"
      ],
      "execution_count": 47,
      "outputs": [
        {
          "output_type": "stream",
          "name": "stdout",
          "text": [
            "{'김연아': '피겨', '류현진': '야구', '쿠드롱': '당구', '메시': '축구'}\n"
          ]
        }
      ]
    },
    {
      "cell_type": "code",
      "metadata": {
        "colab": {
          "base_uri": "https://localhost:8080/"
        },
        "id": "r3baIbUafSZs",
        "outputId": "0e93667f-aa29-4192-8847-74174ee337cc"
      },
      "source": [
        "print(\"쿠드롱은 \", dict['쿠드롱'])"
      ],
      "execution_count": 48,
      "outputs": [
        {
          "output_type": "stream",
          "name": "stdout",
          "text": [
            "쿠드롱은  당구\n"
          ]
        }
      ]
    },
    {
      "cell_type": "code",
      "metadata": {
        "id": "omOGRwn3fe1V"
      },
      "source": [
        "dict['정재윤'] = '교수'"
      ],
      "execution_count": 49,
      "outputs": []
    },
    {
      "cell_type": "code",
      "metadata": {
        "colab": {
          "base_uri": "https://localhost:8080/"
        },
        "id": "eIsFunNhfm50",
        "outputId": "0cb4cd46-5855-4d29-f2da-c82c66480698"
      },
      "source": [
        "dict"
      ],
      "execution_count": 50,
      "outputs": [
        {
          "output_type": "execute_result",
          "data": {
            "text/plain": [
              "{'김연아': '피겨', '류현진': '야구', '쿠드롱': '당구', '메시': '축구', '정재윤': '교수'}"
            ]
          },
          "metadata": {},
          "execution_count": 50
        }
      ]
    },
    {
      "cell_type": "code",
      "metadata": {
        "colab": {
          "base_uri": "https://localhost:8080/"
        },
        "id": "XQghd6a_foja",
        "outputId": "ca7af081-5fa2-4b30-b1c8-5d3ae4285e6a"
      },
      "source": [
        "key = '홍길동'\n",
        "if key in dict:\n",
        "  print(key, ': dict에 존재합니다')\n",
        "else:\n",
        "  print(key, '이 dict에 존재하지 않습니다')"
      ],
      "execution_count": 51,
      "outputs": [
        {
          "output_type": "stream",
          "name": "stdout",
          "text": [
            "홍길동 이 dict에 존재하지 않습니다\n"
          ]
        }
      ]
    },
    {
      "cell_type": "code",
      "source": [
        "gene = ['A', 'T', 'G', 'C', 'G', 'C', 'T', 'C']\n",
        "gene_str = 'ATGCGCTC'\n",
        "dic = {}\n",
        "\n",
        "for g in gene:\n",
        "  pass\n",
        "  # if g가 존재하지 않으면\n",
        "    # g를 dic에 새롭게 추가하시오. 'A':1\n",
        "  # else:\n",
        "    # count = dic[g]\n",
        "    # 1을 더하여서 다시 dict에 넣으시오. 'A':2\n",
        "\n",
        "dic = {'A':1, 'T':2, 'G':2, 'C':3}"
      ],
      "metadata": {
        "id": "gW-RKRPeFyjO"
      },
      "execution_count": 52,
      "outputs": []
    }
  ]
}