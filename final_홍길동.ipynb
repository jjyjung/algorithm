{
  "cells": [
    {
      "cell_type": "markdown",
      "metadata": {
        "id": "view-in-github",
        "colab_type": "text"
      },
      "source": [
        "<a href=\"https://colab.research.google.com/github/jjyjung/algorithm/blob/gh-pages/final_%ED%99%8D%EA%B8%B8%EB%8F%99.ipynb\" target=\"_parent\"><img src=\"https://colab.research.google.com/assets/colab-badge.svg\" alt=\"Open In Colab\"/></a>"
      ]
    },
    {
      "cell_type": "markdown",
      "id": "4b2820f3",
      "metadata": {
        "id": "4b2820f3"
      },
      "source": [
        "### 산업경영알고리즘 기말고사 (Fall 2022)\n",
        "##### 시험일시: 2022.12.08(목) 10:30~12:00 (90분)"
      ]
    },
    {
      "cell_type": "markdown",
      "id": "75174619",
      "metadata": {
        "id": "75174619"
      },
      "source": [
        "학번: 2020123456  (자신의 학번으로 수정하시오)\n",
        "    \n",
        "이름: 홍길동  (자신의 이름으로 수정하시오)"
      ]
    },
    {
      "cell_type": "markdown",
      "id": "25042fbf",
      "metadata": {
        "id": "25042fbf"
      },
      "source": [
        "#### 1번 문제 풀이 (재귀적해법)"
      ]
    },
    {
      "cell_type": "code",
      "execution_count": null,
      "id": "c8fd244e",
      "metadata": {
        "id": "c8fd244e",
        "outputId": "510c4848-cea2-49cf-b4ef-30716ae390d8",
        "colab": {
          "base_uri": "https://localhost:8080/"
        }
      },
      "outputs": [
        {
          "name": "stdout",
          "output_type": "stream",
          "text": [
            "3\n"
          ]
        },
        {
          "output_type": "execute_result",
          "data": {
            "text/plain": [
              "1"
            ]
          },
          "metadata": {},
          "execution_count": 1
        }
      ],
      "source": [
        "n = int(input())\n",
        "\n",
        "def f(n):\n",
        "\n",
        "  # 코드를 작성하시오.\n",
        "  \n",
        "  return val\n",
        "\n",
        "f(n)"
      ]
    },
    {
      "cell_type": "markdown",
      "id": "be7653dd",
      "metadata": {
        "id": "be7653dd"
      },
      "source": [
        "#### 2번 문제 풀이 (동적계획법)"
      ]
    },
    {
      "cell_type": "code",
      "execution_count": null,
      "id": "8d3da6b1",
      "metadata": {
        "id": "8d3da6b1",
        "outputId": "63aece3e-506c-421b-8a96-8848e4b3af00",
        "colab": {
          "base_uri": "https://localhost:8080/"
        }
      },
      "outputs": [
        {
          "name": "stdout",
          "output_type": "stream",
          "text": [
            "7\n"
          ]
        },
        {
          "output_type": "execute_result",
          "data": {
            "text/plain": [
              "-39"
            ]
          },
          "metadata": {},
          "execution_count": 2
        }
      ],
      "source": [
        "n = int(input())\n",
        "\n",
        "def f_dp(n):\n",
        "\n",
        "  # 코드를 작성하시오.\n",
        "\n",
        "  return val\n",
        "\n",
        "f_dp(n)"
      ]
    },
    {
      "cell_type": "markdown",
      "id": "3d89d127",
      "metadata": {
        "id": "3d89d127"
      },
      "source": [
        "#### 3번 문제 풀이 (A-star)"
      ]
    },
    {
      "cell_type": "code",
      "execution_count": null,
      "id": "2ee1c8f1",
      "metadata": {
        "id": "2ee1c8f1"
      },
      "outputs": [],
      "source": [
        "my_graph = {'s':{'a':10, 'b':17, 'c':25, 'd':23, 'e':30},\n",
        "            'a':{'b':20},\n",
        "            'b':{'c':17},\n",
        "            'c':{'f':25, 'g':39},\n",
        "            'd':{'c':28, 'e':16, 'h':18},\n",
        "            'e':{'a':19, 'h':24},\n",
        "            'f':{'g':29},\n",
        "            'g':{'d':20, 't':28},\n",
        "            'h':{'t':20},\n",
        "            't':{'f':40}}\n",
        "my_h = {'s':52, 'a':61, 'b':68, 'c':52, 'd':34,\n",
        "        'e':40, 'f':39, 'g':19, 'h':19, 't':0}"
      ]
    },
    {
      "cell_type": "code",
      "source": [
        "path=[]\n",
        "def A_star(G,H,s,t):\n",
        "  Q=list(G.keys())\n",
        "  g={}; f={}; h={}\n",
        "  prev={}\n",
        "  for u in Q:\n",
        "    g[u]=1000; f[u]=1000;\n",
        "    h[u]=H[u]\n",
        "  pass\n",
        "\n",
        "def deleteMin(Q, f):\n",
        "  pass\n",
        "  return u\n",
        "\n",
        "def find_path(prev,v):\n",
        "  path.append(v)\n",
        "  if v in prev.keys():\n",
        "    find_path(prev,prev[v])\n",
        "\n",
        "A_star(my_graph,my_h,\"s\",\"t\")"
      ],
      "metadata": {
        "colab": {
          "base_uri": "https://localhost:8080/"
        },
        "outputId": "5852c91e-2c26-4fcb-bd91-5c50f4ef346f",
        "id": "d3U9ouCQWID5"
      },
      "execution_count": null,
      "outputs": [
        {
          "output_type": "stream",
          "name": "stdout",
          "text": [
            "최적해: 61\n",
            "최적경로: ['t', 'h', 'd', 's']\n",
            "방문경로: ['s', 'd', 'h', 't']\n"
          ]
        }
      ],
      "id": "d3U9ouCQWID5"
    },
    {
      "cell_type": "markdown",
      "id": "6e1dd423",
      "metadata": {
        "id": "6e1dd423"
      },
      "source": [
        "#### 4번 문제 풀이 (Graph)"
      ]
    },
    {
      "cell_type": "code",
      "source": [
        "mynode=['a','b','c','d','e','f','g']\n",
        "myarc=[[0, 0, 0, 0, 0, 0, 0],\n",
        "[0, 0, 1, 1, 0, 0, 0],\n",
        "[0, 0, 0, 0, 0, 0, 0],\n",
        "[0, 0, 0, 0, 0, 0, 0],\n",
        "[1, 0, 0, 0, 0, 0, 1],\n",
        "[0, 1, 0, 0, 1, 0, 0],\n",
        "[0, 0, 0, 0, 0, 0, 0]]"
      ],
      "metadata": {
        "id": "hHS3nP6rPMxm"
      },
      "id": "hHS3nP6rPMxm",
      "execution_count": null,
      "outputs": []
    },
    {
      "cell_type": "code",
      "source": [
        "# 노드를 입력하면, 자식노드를 출력하는 코드\n",
        "def get_child(N, A, s):\n",
        "\n",
        "  # 코드를 작성하시오.\n",
        "\n",
        "  return nodes\n",
        "\n",
        "get_child(mynode, myarc, 'e')"
      ],
      "metadata": {
        "colab": {
          "base_uri": "https://localhost:8080/"
        },
        "id": "15MJXg35DxzY",
        "outputId": "13434a3c-3763-4963-f3ec-a3270b54ffe3"
      },
      "id": "15MJXg35DxzY",
      "execution_count": null,
      "outputs": [
        {
          "output_type": "execute_result",
          "data": {
            "text/plain": [
              "['a', 'g']"
            ]
          },
          "metadata": {},
          "execution_count": 6
        }
      ]
    },
    {
      "cell_type": "markdown",
      "source": [
        "#### 5번 문제 풀이 (BFS)"
      ],
      "metadata": {
        "id": "RhYhMWSEUvsH"
      },
      "id": "RhYhMWSEUvsH"
    },
    {
      "cell_type": "code",
      "execution_count": null,
      "id": "8668a958",
      "metadata": {
        "id": "8668a958",
        "outputId": "7888d43b-4640-4bb1-8e82-90f197fd625a",
        "colab": {
          "base_uri": "https://localhost:8080/"
        }
      },
      "outputs": [
        {
          "output_type": "execute_result",
          "data": {
            "text/plain": [
              "['f', 'b', 'e', 'c', 'd', 'a', 'g']"
            ]
          },
          "metadata": {},
          "execution_count": 7
        }
      ],
      "source": [
        "import queue\n",
        "def bfs_matrix(N, A, s):\n",
        "  visited = []              \t  # 맨 처음에는 start만 방문한 정점임\n",
        "  visited_nodes = []\n",
        "\n",
        "  # 코드를 작성하시오.\n",
        "\n",
        "  return visited_nodes\n",
        "\n",
        "bfs_matrix(mynode, myarc, 'f')"
      ]
    }
  ],
  "metadata": {
    "kernelspec": {
      "display_name": "Python 3",
      "language": "python",
      "name": "python3"
    },
    "language_info": {
      "codemirror_mode": {
        "name": "ipython",
        "version": 3
      },
      "file_extension": ".py",
      "mimetype": "text/x-python",
      "name": "python",
      "nbconvert_exporter": "python",
      "pygments_lexer": "ipython3",
      "version": "3.8.8"
    },
    "colab": {
      "provenance": [],
      "include_colab_link": true
    }
  },
  "nbformat": 4,
  "nbformat_minor": 5
}