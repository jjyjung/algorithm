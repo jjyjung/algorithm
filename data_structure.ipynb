{
  "nbformat": 4,
  "nbformat_minor": 0,
  "metadata": {
    "colab": {
      "provenance": [],
      "collapsed_sections": [],
      "authorship_tag": "ABX9TyPreHgmfFt5CL8fAsr3j6+Z",
      "include_colab_link": true
    },
    "kernelspec": {
      "name": "python3",
      "display_name": "Python 3"
    },
    "language_info": {
      "name": "python"
    }
  },
  "cells": [
    {
      "cell_type": "markdown",
      "metadata": {
        "id": "view-in-github",
        "colab_type": "text"
      },
      "source": [
        "<a href=\"https://colab.research.google.com/github/jjyjung/algorithm/blob/gh-pages/data_structure.ipynb\" target=\"_parent\"><img src=\"https://colab.research.google.com/assets/colab-badge.svg\" alt=\"Open In Colab\"/></a>"
      ]
    },
    {
      "cell_type": "markdown",
      "metadata": {
        "id": "tHU55uKlacbs"
      },
      "source": [
        "**리스트(List) => Python list**"
      ]
    },
    {
      "cell_type": "code",
      "metadata": {
        "colab": {
          "base_uri": "https://localhost:8080/"
        },
        "id": "2AuQX8N2aaqU",
        "outputId": "95511a96-9407-482d-866f-1837877da812"
      },
      "source": [
        "A = [1, 2, 3, 4, 5]\n",
        "print(A)"
      ],
      "execution_count": 29,
      "outputs": [
        {
          "output_type": "stream",
          "name": "stdout",
          "text": [
            "[1, 2, 3, 4, 5]\n"
          ]
        }
      ]
    },
    {
      "cell_type": "code",
      "metadata": {
        "colab": {
          "base_uri": "https://localhost:8080/"
        },
        "id": "SRfwa7Yla0OE",
        "outputId": "174fc645-78a8-4f22-e0dc-09cd5aa99078"
      },
      "source": [
        "A[2]"
      ],
      "execution_count": 3,
      "outputs": [
        {
          "output_type": "execute_result",
          "data": {
            "text/plain": [
              "3"
            ]
          },
          "metadata": {},
          "execution_count": 3
        }
      ]
    },
    {
      "cell_type": "code",
      "metadata": {
        "colab": {
          "base_uri": "https://localhost:8080/"
        },
        "id": "9zCeZ9o7a536",
        "outputId": "a29847b5-5d7e-407d-dbd3-e345b45b3970"
      },
      "source": [
        "len(A)"
      ],
      "execution_count": 4,
      "outputs": [
        {
          "output_type": "execute_result",
          "data": {
            "text/plain": [
              "5"
            ]
          },
          "metadata": {},
          "execution_count": 4
        }
      ]
    },
    {
      "cell_type": "code",
      "metadata": {
        "id": "CcCFpQqSa9ND",
        "colab": {
          "base_uri": "https://localhost:8080/"
        },
        "outputId": "f9a817df-a604-41c1-f005-7706e4ac045d"
      },
      "source": [
        "A.append(9)\n",
        "A"
      ],
      "execution_count": 5,
      "outputs": [
        {
          "output_type": "execute_result",
          "data": {
            "text/plain": [
              "[1, 2, 3, 4, 5, 9]"
            ]
          },
          "metadata": {},
          "execution_count": 5
        }
      ]
    },
    {
      "cell_type": "code",
      "metadata": {
        "colab": {
          "base_uri": "https://localhost:8080/"
        },
        "id": "ezJwj9UYbFWG",
        "outputId": "9a95e727-09f8-4054-95d4-77e30ade0a1a"
      },
      "source": [
        "# Stack 구조의 활용\n",
        "val = A.pop()\n",
        "print(val)\n",
        "print(A)"
      ],
      "execution_count": 30,
      "outputs": [
        {
          "output_type": "stream",
          "name": "stdout",
          "text": [
            "5\n",
            "[1, 2, 3, 4]\n"
          ]
        }
      ]
    },
    {
      "cell_type": "code",
      "metadata": {
        "colab": {
          "base_uri": "https://localhost:8080/"
        },
        "id": "xXSuGs_LbLm8",
        "outputId": "3d7e791b-440d-4456-9963-b39ce3f2fac1"
      },
      "source": [
        "val = A.pop(2)\n",
        "print(val)\n",
        "print(A)"
      ],
      "execution_count": 7,
      "outputs": [
        {
          "output_type": "stream",
          "name": "stdout",
          "text": [
            "3\n",
            "[1, 2, 4, 5]\n"
          ]
        }
      ]
    },
    {
      "cell_type": "markdown",
      "metadata": {
        "id": "ELuiWnQ6cDPs"
      },
      "source": [
        "**스택(Stack) => Python list 또는 queue.LifoQueue**"
      ]
    },
    {
      "cell_type": "code",
      "metadata": {
        "id": "SslSwKMPcJI0"
      },
      "source": [
        "S = ['A', 'B', 'C']"
      ],
      "execution_count": 8,
      "outputs": []
    },
    {
      "cell_type": "code",
      "metadata": {
        "colab": {
          "base_uri": "https://localhost:8080/"
        },
        "id": "1DIAwqL8cR0J",
        "outputId": "8a7dcdd0-7fa5-4114-b9e3-ccc55e91cbf2"
      },
      "source": [
        "S.append('D')\n",
        "S.append('E')\n",
        "S"
      ],
      "execution_count": 9,
      "outputs": [
        {
          "output_type": "execute_result",
          "data": {
            "text/plain": [
              "['A', 'B', 'C', 'D', 'E']"
            ]
          },
          "metadata": {},
          "execution_count": 9
        }
      ]
    },
    {
      "cell_type": "code",
      "metadata": {
        "colab": {
          "base_uri": "https://localhost:8080/"
        },
        "id": "ve64aUjscU7D",
        "outputId": "59701ceb-8b11-4f27-b670-2c173867bd4d"
      },
      "source": [
        "S.pop()\n",
        "S"
      ],
      "execution_count": 10,
      "outputs": [
        {
          "output_type": "execute_result",
          "data": {
            "text/plain": [
              "['A', 'B', 'C', 'D']"
            ]
          },
          "metadata": {},
          "execution_count": 10
        }
      ]
    },
    {
      "cell_type": "markdown",
      "metadata": {
        "id": "w_c4DgQodCeX"
      },
      "source": [
        "**큐(Queue) => queue.Queue**"
      ]
    },
    {
      "cell_type": "code",
      "metadata": {
        "id": "87IGo5Z1dFdU"
      },
      "source": [
        "import queue\n",
        "Q = queue.Queue(maxsize=10)\n",
        "S = queue.LifoQueue(maxsize=10)"
      ],
      "execution_count": 31,
      "outputs": []
    },
    {
      "cell_type": "code",
      "metadata": {
        "colab": {
          "base_uri": "https://localhost:8080/"
        },
        "id": "vUsO6N2HdMrV",
        "outputId": "8b3c2374-ad88-4651-bd29-fe04e6102998"
      },
      "source": [
        "Q.put(20)  # enqueue\n",
        "Q.put(21)\n",
        "Q.put(22)\n",
        "Q.put(23)\n",
        "val = Q.get()  # dequeue\n",
        "val = Q.get()  # dequeue\n",
        "val"
      ],
      "execution_count": 32,
      "outputs": [
        {
          "output_type": "execute_result",
          "data": {
            "text/plain": [
              "21"
            ]
          },
          "metadata": {},
          "execution_count": 32
        }
      ]
    },
    {
      "cell_type": "code",
      "source": [
        "for i in Q.queue: # Queue 내의 값들을 출력하기\n",
        "  print(i)"
      ],
      "metadata": {
        "colab": {
          "base_uri": "https://localhost:8080/"
        },
        "id": "MDQ0fxQyDZjv",
        "outputId": "72b2f65a-d622-4a6a-e5f7-9df03b7205eb"
      },
      "execution_count": 38,
      "outputs": [
        {
          "output_type": "stream",
          "name": "stdout",
          "text": [
            "22\n",
            "23\n"
          ]
        }
      ]
    },
    {
      "cell_type": "code",
      "metadata": {
        "colab": {
          "base_uri": "https://localhost:8080/"
        },
        "id": "b5s6DAdydkys",
        "outputId": "67ff6690-3d88-436d-eb02-ae158fc5b2bf"
      },
      "source": [
        "S.put(30)\n",
        "S.put(31)\n",
        "S.put(32)\n",
        "S.put(33)\n",
        "val = S.get()\n",
        "val = S.get()\n",
        "val = S.get()\n",
        "print(val)"
      ],
      "execution_count": 39,
      "outputs": [
        {
          "output_type": "stream",
          "name": "stdout",
          "text": [
            "31\n"
          ]
        }
      ]
    },
    {
      "cell_type": "markdown",
      "metadata": {
        "id": "qCCbdN21ehPa"
      },
      "source": [
        "**집합(Set) => Python set**"
      ]
    },
    {
      "cell_type": "code",
      "metadata": {
        "id": "KRj-k2lceg5J"
      },
      "source": [
        "s1 = {1,2,3}\n",
        "s2 = {2,3,4,5}\n",
        "s3 = s1.union(s2)  # 합집합\n",
        "s4 = s1.intersection(s2) # 교집합\n",
        "s5 = s1 - s2  # 차집합"
      ],
      "execution_count": 14,
      "outputs": []
    },
    {
      "cell_type": "code",
      "metadata": {
        "colab": {
          "base_uri": "https://localhost:8080/"
        },
        "id": "u7f8xu7Od-6r",
        "outputId": "ce681a76-5c17-4b13-d926-63e08d8eaaaa"
      },
      "source": [
        "s3"
      ],
      "execution_count": 15,
      "outputs": [
        {
          "output_type": "execute_result",
          "data": {
            "text/plain": [
              "{1, 2, 3, 4, 5}"
            ]
          },
          "metadata": {},
          "execution_count": 15
        }
      ]
    },
    {
      "cell_type": "code",
      "metadata": {
        "colab": {
          "base_uri": "https://localhost:8080/"
        },
        "id": "uLKn9rWsey22",
        "outputId": "3ee233c9-d019-414d-d332-a99db88a03d5"
      },
      "source": [
        "s4"
      ],
      "execution_count": 16,
      "outputs": [
        {
          "output_type": "execute_result",
          "data": {
            "text/plain": [
              "{2, 3}"
            ]
          },
          "metadata": {},
          "execution_count": 16
        }
      ]
    },
    {
      "cell_type": "code",
      "metadata": {
        "colab": {
          "base_uri": "https://localhost:8080/"
        },
        "id": "YYvv8bBSe1VC",
        "outputId": "b8e7d5c7-4ee2-4229-ff4a-e791bda60bc1"
      },
      "source": [
        "s5"
      ],
      "execution_count": 17,
      "outputs": [
        {
          "output_type": "execute_result",
          "data": {
            "text/plain": [
              "{1}"
            ]
          },
          "metadata": {},
          "execution_count": 17
        }
      ]
    },
    {
      "cell_type": "markdown",
      "metadata": {
        "id": "fivXRDUqfKt5"
      },
      "source": [
        "**맵(Map) 또는 딕셔너리(Dictionary) => Python dictionary**"
      ]
    },
    {
      "cell_type": "code",
      "metadata": {
        "id": "5xV_eAK3fJ-a"
      },
      "source": [
        "dict = { '김연아':'피겨', '류현진':'야구', '쿠드롱':'당구', '메시':'축구' }"
      ],
      "execution_count": 18,
      "outputs": []
    },
    {
      "cell_type": "code",
      "metadata": {
        "colab": {
          "base_uri": "https://localhost:8080/"
        },
        "id": "98rtLePEfQ3b",
        "outputId": "652d7a98-cf6c-4d46-ea23-fcbef33c65e0"
      },
      "source": [
        "print(dict)"
      ],
      "execution_count": 19,
      "outputs": [
        {
          "output_type": "stream",
          "name": "stdout",
          "text": [
            "{'김연아': '피겨', '류현진': '야구', '쿠드롱': '당구', '메시': '축구'}\n"
          ]
        }
      ]
    },
    {
      "cell_type": "code",
      "metadata": {
        "colab": {
          "base_uri": "https://localhost:8080/"
        },
        "id": "r3baIbUafSZs",
        "outputId": "8d6a031b-df24-450d-8387-a6adaa947e2b"
      },
      "source": [
        "print(\"쿠드롱은 \", dict['쿠드롱'])"
      ],
      "execution_count": 41,
      "outputs": [
        {
          "output_type": "stream",
          "name": "stdout",
          "text": [
            "쿠드롱은  당구\n"
          ]
        }
      ]
    },
    {
      "cell_type": "code",
      "metadata": {
        "id": "omOGRwn3fe1V"
      },
      "source": [
        "dict['정재윤'] = '교수'"
      ],
      "execution_count": 21,
      "outputs": []
    },
    {
      "cell_type": "code",
      "metadata": {
        "colab": {
          "base_uri": "https://localhost:8080/"
        },
        "id": "eIsFunNhfm50",
        "outputId": "a1883d12-bd56-4d11-9229-de6420d225d0"
      },
      "source": [
        "dict"
      ],
      "execution_count": 22,
      "outputs": [
        {
          "output_type": "execute_result",
          "data": {
            "text/plain": [
              "{'김연아': '피겨', '류현진': '야구', '쿠드롱': '당구', '메시': '축구', '정재윤': '교수'}"
            ]
          },
          "metadata": {},
          "execution_count": 22
        }
      ]
    },
    {
      "cell_type": "code",
      "metadata": {
        "colab": {
          "base_uri": "https://localhost:8080/"
        },
        "id": "XQghd6a_foja",
        "outputId": "0f649a2f-a316-4da2-d327-fd6cbd0589a5"
      },
      "source": [
        "key = '홍길동'\n",
        "if key in dict:\n",
        "  print(key, ': dict에 존재합니다')\n",
        "else:\n",
        "  print(key, '이 dict에 존재하지 않습니다')"
      ],
      "execution_count": 23,
      "outputs": [
        {
          "output_type": "stream",
          "name": "stdout",
          "text": [
            "홍길동 이 dict에 존재하지 않습니다\n"
          ]
        }
      ]
    },
    {
      "cell_type": "code",
      "source": [
        "gene = ['A', 'T', 'G', 'C', 'G', 'C', 'T', 'C']\n",
        "dic = {}\n",
        "\n",
        "for g in gene:\n",
        "  pass\n",
        "  # if g가 존재하지 않으면\n",
        "    # g를 dic에 새롭게 추가하시오. 'A':1\n",
        "  # else:\n",
        "    # count = dic[g]\n",
        "    # 1을 더하여서 다시 dict에 넣으시오. 'A':2\n",
        "\n",
        "dic = {'A':1, 'T':2, 'G':2, 'C':3}\n"
      ],
      "metadata": {
        "id": "gW-RKRPeFyjO"
      },
      "execution_count": null,
      "outputs": []
    }
  ]
}