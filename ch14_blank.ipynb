{
  "nbformat": 4,
  "nbformat_minor": 0,
  "metadata": {
    "colab": {
      "provenance": [],
      "authorship_tag": "ABX9TyNoSY2/XSsFgzCyLldyrrrL",
      "include_colab_link": true
    },
    "kernelspec": {
      "name": "python3",
      "display_name": "Python 3"
    },
    "language_info": {
      "name": "python"
    }
  },
  "cells": [
    {
      "cell_type": "markdown",
      "metadata": {
        "id": "view-in-github",
        "colab_type": "text"
      },
      "source": [
        "<a href=\"https://colab.research.google.com/github/jjyjung/algorithm/blob/gh-pages/ch14_blank.ipynb\" target=\"_parent\"><img src=\"https://colab.research.google.com/assets/colab-badge.svg\" alt=\"Open In Colab\"/></a>"
      ]
    },
    {
      "cell_type": "code",
      "execution_count": 1,
      "metadata": {
        "id": "ZA_pQDK0M2MY"
      },
      "outputs": [],
      "source": [
        "my_maze={\"S\":{\"1\"},\n",
        "  \"1\":{\"2\",\"3\"},\n",
        "  \"3\":{\"U1\",\"4\"},\n",
        "  \"4\":{\"U2\",\"5\"},\n",
        "  \"5\":{\"6\",\"T\"},\n",
        "  \"6\":{\"7\",\"8\",\"9\"}\n",
        "}"
      ]
    },
    {
      "cell_type": "code",
      "source": [
        "import sys\n",
        "\n",
        "visited=[]\n",
        "prev = {}\n",
        "def maze(G,v):\n",
        "  visited.append(v)\n",
        "  if v=='T':  # 최적해(출구) 찾음\n",
        "    print(\"성공\")\n",
        "    print(visited) # 방문순서 출력하기\n",
        "    print(find_path(v)) # 최적경로 출력하기 (Target->Start)\n",
        "    sys.exit()\n",
        "  if v in G.keys():\n",
        "    for x in G[v]:\n",
        "      if x not in visited:\n",
        "        prev[x] = v\n",
        "        maze(G,x)\n",
        "\n",
        "def find_path(v):\n",
        "  print(v, end=\"\")\n",
        "  if v in prev.keys():\n",
        "    print(\" < \", end=\"\")\n",
        "    find_path(prev[v])\n",
        "  print()\n",
        "\n",
        "maze(my_maze,\"S\")"
      ],
      "metadata": {
        "colab": {
          "base_uri": "https://localhost:8080/",
          "height": 338
        },
        "id": "7N-Hj1SfNrSw",
        "outputId": "e1457ef8-4f1f-4021-ad20-c1b28f72890d"
      },
      "execution_count": 12,
      "outputs": [
        {
          "output_type": "stream",
          "name": "stdout",
          "text": [
            "성공\n",
            "['S', '1', '3', '4', 'U2', '5', 'T']\n",
            "T < 5 < 4 < 3 < 1 < S\n",
            "\n",
            "\n",
            "\n",
            "\n",
            "\n",
            "None\n"
          ]
        },
        {
          "output_type": "error",
          "ename": "SystemExit",
          "evalue": "ignored",
          "traceback": [
            "An exception has occurred, use %tb to see the full traceback.\n",
            "\u001b[0;31mSystemExit\u001b[0m\n"
          ]
        },
        {
          "output_type": "stream",
          "name": "stderr",
          "text": [
            "/usr/local/lib/python3.7/dist-packages/IPython/core/interactiveshell.py:3334: UserWarning: To exit: use 'exit', 'quit', or Ctrl-D.\n",
            "  warn(\"To exit: use 'exit', 'quit', or Ctrl-D.\", stacklevel=1)\n"
          ]
        }
      ]
    },
    {
      "cell_type": "code",
      "source": [],
      "metadata": {
        "id": "qPxuEX5PQHnX"
      },
      "execution_count": null,
      "outputs": []
    }
  ]
}