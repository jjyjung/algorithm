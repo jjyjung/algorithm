{
  "cells": [
    {
      "cell_type": "markdown",
      "metadata": {
        "id": "view-in-github",
        "colab_type": "text"
      },
      "source": [
        "<a href=\"https://colab.research.google.com/github/jjyjung/algorithm/blob/gh-pages/mid2022_%EC%A0%95%EB%8B%B5.ipynb\" target=\"_parent\"><img src=\"https://colab.research.google.com/assets/colab-badge.svg\" alt=\"Open In Colab\"/></a>"
      ]
    },
    {
      "cell_type": "markdown",
      "id": "5425f3b9",
      "metadata": {
        "id": "5425f3b9"
      },
      "source": [
        "<a href=\"https://colab.research.google.com/github/jjyjung/algorithm/blob/gh-pages/mid_%ED%99%8D%EA%B8%B8%EB%8F%99.ipynb\" target=\"_parent\"><img src=\"https://colab.research.google.com/assets/colab-badge.svg\" alt=\"Open In Colab\"/></a>"
      ]
    },
    {
      "cell_type": "markdown",
      "id": "4b2820f3",
      "metadata": {
        "id": "4b2820f3"
      },
      "source": [
        "### 산업경영알고리즘 중간고사 (Fall 2022)\n",
        "##### 시험일시: 2022.10.20(목) 10:30~11:45 (75분)"
      ]
    },
    {
      "cell_type": "markdown",
      "id": "75174619",
      "metadata": {
        "id": "75174619"
      },
      "source": [
        "학번: 2022123456 (자신의 학번으로 수정하시오)\n",
        "\n",
        "이름: 정재윤 (자신의 이름으로 수정하시오)"
      ]
    },
    {
      "cell_type": "markdown",
      "id": "25042fbf",
      "metadata": {
        "id": "25042fbf"
      },
      "source": [
        "#### 1번 문제 풀이"
      ]
    },
    {
      "cell_type": "code",
      "execution_count": 1,
      "id": "c8fd244e",
      "metadata": {
        "id": "c8fd244e",
        "outputId": "34cf0cf0-2631-4582-e817-c14975d63ed2",
        "colab": {
          "base_uri": "https://localhost:8080/"
        }
      },
      "outputs": [
        {
          "output_type": "stream",
          "name": "stdout",
          "text": [
            "2\n",
            "3\n",
            "12.566\n"
          ]
        }
      ],
      "source": [
        "import math\n",
        "\n",
        "r = int(input())\n",
        "h = int(input())\n",
        "\n",
        "# 코드를 작성하시오.\n",
        "result = (1/3)*math.pi*pow(r,2)*h\n",
        "print(round(result,3))"
      ]
    },
    {
      "cell_type": "markdown",
      "id": "be7653dd",
      "metadata": {
        "id": "be7653dd"
      },
      "source": [
        "#### 2번 문제 풀이"
      ]
    },
    {
      "cell_type": "code",
      "execution_count": 3,
      "id": "8d3da6b1",
      "metadata": {
        "id": "8d3da6b1",
        "outputId": "d5dfaeed-80a7-4c6c-9394-cec3d67481fd",
        "colab": {
          "base_uri": "https://localhost:8080/"
        }
      },
      "outputs": [
        {
          "output_type": "stream",
          "name": "stdout",
          "text": [
            "5\n",
            "3\n",
            "10\n"
          ]
        }
      ],
      "source": [
        "n = int(input())\n",
        "r = int(input())\n",
        "\n",
        "# 코드를 작성하시오.\n",
        "def facto(n):\n",
        "    if n==1:\n",
        "        return 1\n",
        "    else:\n",
        "        return n*facto(n-1)\n",
        "\n",
        "result = int(facto(n)/facto(r)/facto(n-r))\n",
        "print(result)"
      ]
    },
    {
      "cell_type": "markdown",
      "id": "3d89d127",
      "metadata": {
        "id": "3d89d127"
      },
      "source": [
        "#### 3번 문제 풀이"
      ]
    },
    {
      "cell_type": "code",
      "execution_count": 5,
      "id": "2ee1c8f1",
      "metadata": {
        "id": "2ee1c8f1",
        "colab": {
          "base_uri": "https://localhost:8080/"
        },
        "outputId": "d0e049f7-9747-4c24-99c7-703f56974886"
      },
      "outputs": [
        {
          "output_type": "stream",
          "name": "stdout",
          "text": [
            "2\n",
            "3\n",
            "92.346\n"
          ]
        }
      ],
      "source": [
        "K = int(input())\n",
        "B = int(input())\n",
        "\n",
        "# 코드를 작성하시오.\n",
        "# S = S1 + S2 = sigma(S11+S12) + sigma(S21-S22)\n",
        "S1 = 0\n",
        "for k in range(1,K+1):\n",
        "    S11 = 4*pow(k,3)\n",
        "    S12 = 1\n",
        "    for b in range(1,B+1):\n",
        "        temp = k/b + pow(b,1/3)\n",
        "        S12 *= temp\n",
        "    S1 += (S11+S12)\n",
        "\n",
        "S2 = 0\n",
        "for k in range(1,K+1):\n",
        "    S21 = 4*pow(k,3)\n",
        "    S22 = 1\n",
        "    for b in range(1,B+1):\n",
        "        temp = k/b - pow(b,1/3)\n",
        "        S22 *= temp\n",
        "    S2 += (S21-S22)\n",
        "\n",
        "result = S1 + S2\n",
        "print(round(result,3))"
      ]
    },
    {
      "cell_type": "markdown",
      "id": "6e1dd423",
      "metadata": {
        "id": "6e1dd423"
      },
      "source": [
        "#### 4번 문제 풀이"
      ]
    },
    {
      "cell_type": "code",
      "execution_count": 15,
      "id": "8668a958",
      "metadata": {
        "id": "8668a958",
        "outputId": "8c6216f1-994b-4145-f94a-28ec09c2d936",
        "colab": {
          "base_uri": "https://localhost:8080/"
        }
      },
      "outputs": [
        {
          "output_type": "stream",
          "name": "stdout",
          "text": [
            "29,10,14,37,13\n",
            "in: [29, 10, 14, 37, 13]\n",
            "0 : [10, 29, 14, 37, 13]\n",
            "1 : [10, 13, 14, 37, 29]\n",
            "2 : [10, 13, 14, 37, 29]\n",
            "3 : [10, 13, 14, 29, 37]\n",
            "[10, 13, 14, 29, 37]\n"
          ]
        }
      ],
      "source": [
        "# 아래는 최대값을 맨 뒤에 반복 배치하는 방식의 선택정렬(SelectionSort)의 원본 코드이다.\n",
        "# 이 코드를 최소값을 맨 앞에 반복 배치하는 방식으로 수정하시오.\n",
        "def selectionSort(A):\n",
        "  print(\"in:\", A)\n",
        "  n = len(A)\n",
        "  for first in range(0, n-1):\n",
        "    k = theSmallest(A, first)\n",
        "    A[k], A[first] = A[first], A[k]  # 파이썬의 값 교환 코드!!\n",
        "    print(first, \":\", A)  # 회차별 결과 확인용\n",
        "  return A  #최종결과 반환용\n",
        "\n",
        "def theSmallest(A, first):\n",
        "  smallest = first\n",
        "  for i in range(first,len(A)):\n",
        "    if A[i] < A[smallest]:\n",
        "      smallest = i\n",
        "  return smallest\n",
        "\n",
        "A = list(map(int,input().split(',')))\n",
        "A = selectionSort(A)\n",
        "print(A)"
      ]
    },
    {
      "cell_type": "markdown",
      "id": "14d5ea2d",
      "metadata": {
        "id": "14d5ea2d"
      },
      "source": [
        "#### 5번 문제 풀이"
      ]
    },
    {
      "cell_type": "code",
      "execution_count": 16,
      "id": "6e8a0e49",
      "metadata": {
        "id": "6e8a0e49",
        "outputId": "f9458ea0-4fdc-426a-89b8-6914e616091f",
        "colab": {
          "base_uri": "https://localhost:8080/"
        }
      },
      "outputs": [
        {
          "output_type": "stream",
          "name": "stdout",
          "text": [
            "30,20,25,40,10,35\n",
            "30 20 40\n",
            "20 10 25\n",
            "10 None None\n",
            "25 None None\n",
            "40 35 None\n",
            "35 None None\n"
          ]
        }
      ],
      "source": [
        "class TNode:\n",
        "    key=None; left=None; right=None\n",
        "\n",
        "def printTree(t):\n",
        "    if t==None:\n",
        "        return\n",
        "    elif t.left==None and t.right==None:\n",
        "        print(t.key, \"None\", \"None\")\n",
        "    elif t.left==None and t.right!=None:\n",
        "        print(t.key, \"None\", t.right.key)\n",
        "        printTree(t.right)\n",
        "    elif t.left!=None and t.right==None:\n",
        "        print(t.key, t.left.key, \"None\")\n",
        "        printTree(t.left)\n",
        "    else:\n",
        "        print(t.key, t.left.key, t.right.key)\n",
        "        printTree(t.left)\n",
        "        printTree(t.right)\n",
        "\n",
        "def treeInsert(t, x):\n",
        "    # 코드를 작성하시오.\n",
        "    if t == None:\n",
        "        r = TNode()\n",
        "        r.key = x\n",
        "        return r\n",
        "    else:\n",
        "        # 들어온값이 노드보다 큰 경우\n",
        "        if x < t.key:\n",
        "            t.left = treeInsert(t.left, x)\n",
        "            return t\n",
        "        else:\n",
        "            t.right = treeInsert(t.right, x)\n",
        "            return t\n",
        "\n",
        "def contructTree(A):  # 배열 A를 입력하면 BST를 구축한 후 출력하는 함수\n",
        "    root = None\n",
        "    for i in range(len(A)):\n",
        "        root = treeInsert(root, A[i]) # 여기서 treeInsert()가 호출됨\n",
        "    printTree(root)\n",
        "\n",
        "A = list(map(int,input().split(',')))\n",
        "contructTree(A)"
      ]
    }
  ],
  "metadata": {
    "colab": {
      "provenance": [],
      "include_colab_link": true
    },
    "kernelspec": {
      "display_name": "Python 3 (ipykernel)",
      "language": "python",
      "name": "python3"
    },
    "language_info": {
      "codemirror_mode": {
        "name": "ipython",
        "version": 3
      },
      "file_extension": ".py",
      "mimetype": "text/x-python",
      "name": "python",
      "nbconvert_exporter": "python",
      "pygments_lexer": "ipython3",
      "version": "3.9.12"
    }
  },
  "nbformat": 4,
  "nbformat_minor": 5
}